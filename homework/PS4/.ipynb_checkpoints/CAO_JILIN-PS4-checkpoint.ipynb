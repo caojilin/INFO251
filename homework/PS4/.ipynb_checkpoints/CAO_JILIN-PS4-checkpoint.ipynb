{
 "cells": [
  {
   "cell_type": "markdown",
   "metadata": {},
   "source": [
    "# Problem Set 4\n",
    "\n",
    "### Before You Start\n",
    "\n",
    "This is a fun but challenging problem set. It will test your python skills, as well as your understanding of the material in class and in the readings. Start early and debug often! Some notes:\n",
    "\n",
    "* Part 1 is meant to be easy, so get through it quickly.\n",
    "* Part 2 (especially 2.1) will be difficult, but it is the lynchpin of this problem set so make sure to do it well and understand what you've done. If you find your gradient descent algorithm is taking more than a few minutes to complete, debug more, compare notes with others, and go to the TA sessions (especially the sections on vectorized computation and computational efficiency).\n",
    "* Depending on how well you've done 2.1, parts 2.3 and 3.3 will be relatively painless or incredibly painful. \n",
    "* Do the extra credit problems last!"
   ]
  },
  {
   "cell_type": "code",
   "execution_count": 1,
   "metadata": {},
   "outputs": [],
   "source": [
    "%config Completer.use_jedi = False"
   ]
  },
  {
   "cell_type": "markdown",
   "metadata": {},
   "source": [
    "---\n",
    "\n",
    "## Introduction to the assignment\n",
    "\n",
    "As with the last assignment, you will be using the Boston Housing Prices Data Set."
   ]
  },
  {
   "cell_type": "code",
   "execution_count": 2,
   "metadata": {},
   "outputs": [],
   "source": [
    "import IPython\n",
    "import numpy as np\n",
    "import scipy as sp\n",
    "import pandas as pd\n",
    "import matplotlib\n",
    "import sklearn\n",
    "import random\n",
    "%matplotlib inline   \n",
    "import matplotlib.pyplot as plt  \n",
    "import statsmodels.api as sm\n",
    "from sklearn.linear_model import LinearRegression\n",
    "from sklearn.metrics import mean_squared_error\n",
    "import statsmodels.formula.api as smf\n",
    "from sklearn.model_selection import train_test_split"
   ]
  },
  {
   "cell_type": "code",
   "execution_count": 3,
   "metadata": {},
   "outputs": [],
   "source": [
    "from statsmodels.formula.api import ols\n",
    "import time"
   ]
  },
  {
   "cell_type": "code",
   "execution_count": 4,
   "metadata": {},
   "outputs": [],
   "source": [
    "np.random.seed(1)"
   ]
  },
  {
   "cell_type": "code",
   "execution_count": 5,
   "metadata": {},
   "outputs": [],
   "source": [
    "# load Boston housing data set\n",
    "data = np.loadtxt('data.txt')\n",
    "target = np.loadtxt('target.txt')\n",
    "target = target.reshape(-1, 1)\n",
    "full_data = np.append(data,target, axis=1)\n",
    "full_data = np.append(full_data, np.zeros(len(data)).reshape(-1,1), axis=1)\n",
    "df = pd.DataFrame(full_data)\n",
    "df.columns = ['CRIM','ZN', 'INDUS', 'CHAS', 'NOX', 'RM', 'AGE', 'DIS', 'RAD' ,'TAX' ,'PTRATIO'\n",
    " ,'B', 'LSTAT', 'MEDV', 'predictions']\n"
   ]
  },
  {
   "cell_type": "markdown",
   "metadata": {},
   "source": [
    "---\n",
    "\n",
    "## Part 1: Getting Oriented\n",
    "\n",
    "\n",
    "### 1.1 Use existing libraries\n",
    "\n",
    "Soon, you will write your own gradient descent algorithm, which you will then use to minimize the squared error cost function.  First, however, let's use the canned versions that come with Python, to make sure we understand what we're aiming to achieve.\n",
    "\n",
    "Using the same Boston housing prices dataset, explore the relationship between  median housing price and the percentage of lower status of the population using a linear regression model. Do this by - \n",
    "- (a) Regressing the `MEDV` (median housing price) on `LSTAT` (Percentage of lower status of the population)\n",
    "- (b) Regressing the `MEDV` (median housing price) on `LSTAT` **and** the natural log transformed value of `LSTAT`\n",
    "\n",
    "Interpret the results of both models by comparing them in terms of coefficients, their statistical significance and the variance explained by each model.\n",
    "\n",
    "\n",
    "*Hint-*\n",
    "* *You can use the [Linear Regression class](http://scikit-learn.org/stable/modules/generated/sklearn.linear_model.LinearRegression.html) from sklearn and OLS model from stats package.*"
   ]
  },
  {
   "cell_type": "code",
   "execution_count": 6,
   "metadata": {
    "scrolled": false
   },
   "outputs": [
    {
     "data": {
      "text/html": [
       "<table class=\"simpletable\">\n",
       "<caption>OLS Regression Results</caption>\n",
       "<tr>\n",
       "  <th>Dep. Variable:</th>          <td>MEDV</td>       <th>  R-squared:         </th> <td>   0.542</td>\n",
       "</tr>\n",
       "<tr>\n",
       "  <th>Model:</th>                   <td>OLS</td>       <th>  Adj. R-squared:    </th> <td>   0.541</td>\n",
       "</tr>\n",
       "<tr>\n",
       "  <th>Method:</th>             <td>Least Squares</td>  <th>  F-statistic:       </th> <td>   597.1</td>\n",
       "</tr>\n",
       "<tr>\n",
       "  <th>Date:</th>             <td>Thu, 04 Mar 2021</td> <th>  Prob (F-statistic):</th> <td>1.42e-87</td>\n",
       "</tr>\n",
       "<tr>\n",
       "  <th>Time:</th>                 <td>16:05:55</td>     <th>  Log-Likelihood:    </th> <td> -1642.5</td>\n",
       "</tr>\n",
       "<tr>\n",
       "  <th>No. Observations:</th>      <td>   506</td>      <th>  AIC:               </th> <td>   3289.</td>\n",
       "</tr>\n",
       "<tr>\n",
       "  <th>Df Residuals:</th>          <td>   504</td>      <th>  BIC:               </th> <td>   3297.</td>\n",
       "</tr>\n",
       "<tr>\n",
       "  <th>Df Model:</th>              <td>     1</td>      <th>                     </th>     <td> </td>   \n",
       "</tr>\n",
       "<tr>\n",
       "  <th>Covariance Type:</th>      <td>nonrobust</td>    <th>                     </th>     <td> </td>   \n",
       "</tr>\n",
       "</table>\n",
       "<table class=\"simpletable\">\n",
       "<tr>\n",
       "      <td></td>         <th>coef</th>     <th>std err</th>      <th>t</th>      <th>P>|t|</th>  <th>[0.025</th>    <th>0.975]</th>  \n",
       "</tr>\n",
       "<tr>\n",
       "  <th>Intercept</th> <td>   34.9327</td> <td>    0.578</td> <td>   60.430</td> <td> 0.000</td> <td>   33.797</td> <td>   36.068</td>\n",
       "</tr>\n",
       "<tr>\n",
       "  <th>LSTAT</th>     <td>   -0.9488</td> <td>    0.039</td> <td>  -24.436</td> <td> 0.000</td> <td>   -1.025</td> <td>   -0.872</td>\n",
       "</tr>\n",
       "</table>\n",
       "<table class=\"simpletable\">\n",
       "<tr>\n",
       "  <th>Omnibus:</th>       <td>134.617</td> <th>  Durbin-Watson:     </th> <td>   0.899</td>\n",
       "</tr>\n",
       "<tr>\n",
       "  <th>Prob(Omnibus):</th> <td> 0.000</td>  <th>  Jarque-Bera (JB):  </th> <td> 281.769</td>\n",
       "</tr>\n",
       "<tr>\n",
       "  <th>Skew:</th>          <td> 1.436</td>  <th>  Prob(JB):          </th> <td>6.53e-62</td>\n",
       "</tr>\n",
       "<tr>\n",
       "  <th>Kurtosis:</th>      <td> 5.262</td>  <th>  Cond. No.          </th> <td>    31.2</td>\n",
       "</tr>\n",
       "</table><br/><br/>Notes:<br/>[1] Standard Errors assume that the covariance matrix of the errors is correctly specified."
      ],
      "text/plain": [
       "<class 'statsmodels.iolib.summary.Summary'>\n",
       "\"\"\"\n",
       "                            OLS Regression Results                            \n",
       "==============================================================================\n",
       "Dep. Variable:                   MEDV   R-squared:                       0.542\n",
       "Model:                            OLS   Adj. R-squared:                  0.541\n",
       "Method:                 Least Squares   F-statistic:                     597.1\n",
       "Date:                Thu, 04 Mar 2021   Prob (F-statistic):           1.42e-87\n",
       "Time:                        16:05:55   Log-Likelihood:                -1642.5\n",
       "No. Observations:                 506   AIC:                             3289.\n",
       "Df Residuals:                     504   BIC:                             3297.\n",
       "Df Model:                           1                                         \n",
       "Covariance Type:            nonrobust                                         \n",
       "==============================================================================\n",
       "                 coef    std err          t      P>|t|      [0.025      0.975]\n",
       "------------------------------------------------------------------------------\n",
       "Intercept     34.9327      0.578     60.430      0.000      33.797      36.068\n",
       "LSTAT         -0.9488      0.039    -24.436      0.000      -1.025      -0.872\n",
       "==============================================================================\n",
       "Omnibus:                      134.617   Durbin-Watson:                   0.899\n",
       "Prob(Omnibus):                  0.000   Jarque-Bera (JB):              281.769\n",
       "Skew:                           1.436   Prob(JB):                     6.53e-62\n",
       "Kurtosis:                       5.262   Cond. No.                         31.2\n",
       "==============================================================================\n",
       "\n",
       "Notes:\n",
       "[1] Standard Errors assume that the covariance matrix of the errors is correctly specified.\n",
       "\"\"\""
      ]
     },
     "execution_count": 6,
     "metadata": {},
     "output_type": "execute_result"
    }
   ],
   "source": [
    "fit = ols('MEDV ~ LSTAT', data=df).fit()\n",
    "fit.summary()"
   ]
  },
  {
   "cell_type": "code",
   "execution_count": 7,
   "metadata": {
    "scrolled": false
   },
   "outputs": [
    {
     "data": {
      "text/html": [
       "<table class=\"simpletable\">\n",
       "<caption>OLS Regression Results</caption>\n",
       "<tr>\n",
       "  <th>Dep. Variable:</th>          <td>MEDV</td>       <th>  R-squared:         </th> <td>   0.667</td> \n",
       "</tr>\n",
       "<tr>\n",
       "  <th>Model:</th>                   <td>OLS</td>       <th>  Adj. R-squared:    </th> <td>   0.666</td> \n",
       "</tr>\n",
       "<tr>\n",
       "  <th>Method:</th>             <td>Least Squares</td>  <th>  F-statistic:       </th> <td>   504.2</td> \n",
       "</tr>\n",
       "<tr>\n",
       "  <th>Date:</th>             <td>Thu, 04 Mar 2021</td> <th>  Prob (F-statistic):</th> <td>6.71e-121</td>\n",
       "</tr>\n",
       "<tr>\n",
       "  <th>Time:</th>                 <td>16:05:55</td>     <th>  Log-Likelihood:    </th> <td> -1561.9</td> \n",
       "</tr>\n",
       "<tr>\n",
       "  <th>No. Observations:</th>      <td>   506</td>      <th>  AIC:               </th> <td>   3130.</td> \n",
       "</tr>\n",
       "<tr>\n",
       "  <th>Df Residuals:</th>          <td>   503</td>      <th>  BIC:               </th> <td>   3142.</td> \n",
       "</tr>\n",
       "<tr>\n",
       "  <th>Df Model:</th>              <td>     2</td>      <th>                     </th>     <td> </td>    \n",
       "</tr>\n",
       "<tr>\n",
       "  <th>Covariance Type:</th>      <td>nonrobust</td>    <th>                     </th>     <td> </td>    \n",
       "</tr>\n",
       "</table>\n",
       "<table class=\"simpletable\">\n",
       "<tr>\n",
       "        <td></td>           <th>coef</th>     <th>std err</th>      <th>t</th>      <th>P>|t|</th>  <th>[0.025</th>    <th>0.975]</th>  \n",
       "</tr>\n",
       "<tr>\n",
       "  <th>Intercept</th>     <td>   60.6770</td> <td>    1.937</td> <td>   31.318</td> <td> 0.000</td> <td>   56.871</td> <td>   64.484</td>\n",
       "</tr>\n",
       "<tr>\n",
       "  <th>LSTAT</th>         <td>    0.4307</td> <td>    0.106</td> <td>    4.074</td> <td> 0.000</td> <td>    0.223</td> <td>    0.638</td>\n",
       "</tr>\n",
       "<tr>\n",
       "  <th>np.log(LSTAT)</th> <td>  -18.1144</td> <td>    1.318</td> <td>  -13.741</td> <td> 0.000</td> <td>  -20.704</td> <td>  -15.524</td>\n",
       "</tr>\n",
       "</table>\n",
       "<table class=\"simpletable\">\n",
       "<tr>\n",
       "  <th>Omnibus:</th>       <td>111.176</td> <th>  Durbin-Watson:     </th> <td>   0.950</td>\n",
       "</tr>\n",
       "<tr>\n",
       "  <th>Prob(Omnibus):</th> <td> 0.000</td>  <th>  Jarque-Bera (JB):  </th> <td> 290.715</td>\n",
       "</tr>\n",
       "<tr>\n",
       "  <th>Skew:</th>          <td> 1.084</td>  <th>  Prob(JB):          </th> <td>7.45e-64</td>\n",
       "</tr>\n",
       "<tr>\n",
       "  <th>Kurtosis:</th>      <td> 6.015</td>  <th>  Cond. No.          </th> <td>    149.</td>\n",
       "</tr>\n",
       "</table><br/><br/>Notes:<br/>[1] Standard Errors assume that the covariance matrix of the errors is correctly specified."
      ],
      "text/plain": [
       "<class 'statsmodels.iolib.summary.Summary'>\n",
       "\"\"\"\n",
       "                            OLS Regression Results                            \n",
       "==============================================================================\n",
       "Dep. Variable:                   MEDV   R-squared:                       0.667\n",
       "Model:                            OLS   Adj. R-squared:                  0.666\n",
       "Method:                 Least Squares   F-statistic:                     504.2\n",
       "Date:                Thu, 04 Mar 2021   Prob (F-statistic):          6.71e-121\n",
       "Time:                        16:05:55   Log-Likelihood:                -1561.9\n",
       "No. Observations:                 506   AIC:                             3130.\n",
       "Df Residuals:                     503   BIC:                             3142.\n",
       "Df Model:                           2                                         \n",
       "Covariance Type:            nonrobust                                         \n",
       "=================================================================================\n",
       "                    coef    std err          t      P>|t|      [0.025      0.975]\n",
       "---------------------------------------------------------------------------------\n",
       "Intercept        60.6770      1.937     31.318      0.000      56.871      64.484\n",
       "LSTAT             0.4307      0.106      4.074      0.000       0.223       0.638\n",
       "np.log(LSTAT)   -18.1144      1.318    -13.741      0.000     -20.704     -15.524\n",
       "==============================================================================\n",
       "Omnibus:                      111.176   Durbin-Watson:                   0.950\n",
       "Prob(Omnibus):                  0.000   Jarque-Bera (JB):              290.715\n",
       "Skew:                           1.084   Prob(JB):                     7.45e-64\n",
       "Kurtosis:                       6.015   Cond. No.                         149.\n",
       "==============================================================================\n",
       "\n",
       "Notes:\n",
       "[1] Standard Errors assume that the covariance matrix of the errors is correctly specified.\n",
       "\"\"\""
      ]
     },
     "execution_count": 7,
     "metadata": {},
     "output_type": "execute_result"
    }
   ],
   "source": [
    "fit2 = ols('MEDV ~ LSTAT + np.log(LSTAT)', data=df).fit()\n",
    "fit2.summary()"
   ]
  },
  {
   "cell_type": "code",
   "execution_count": 8,
   "metadata": {},
   "outputs": [],
   "source": [
    "xx = np.arange(1, 50)\n",
    "d = {'LSTAT' : xx, 'np.log(LSTAT)':np.log(xx) }"
   ]
  },
  {
   "cell_type": "code",
   "execution_count": 9,
   "metadata": {},
   "outputs": [],
   "source": [
    "x1 = pd.DataFrame(xx ,columns=['LSTAT'])\n",
    "predictions1 = fit.predict(x1)"
   ]
  },
  {
   "cell_type": "code",
   "execution_count": 10,
   "metadata": {},
   "outputs": [],
   "source": [
    "x2 = pd.DataFrame(d)\n",
    "predictions2 = fit2.predict(x2)"
   ]
  },
  {
   "cell_type": "markdown",
   "metadata": {},
   "source": [
    "* coefficients of `LSTAT` from first model is -0.9488, coefficients of `LSTAT` from second model is 0.4307\n",
    "* p-value for both coefficients is close to 0, thus both coefficients are significant.\n",
    "* From R-squared we can see, first is able to explain 0.542 of variance, the second model explains 0.667 of variance."
   ]
  },
  {
   "cell_type": "markdown",
   "metadata": {},
   "source": [
    "### 1.2 Regression lines\n",
    "\n",
    "Create a scatterplot of `MEDV` on the x-axis and `LSTAT` on the y-axis, and add the two regression lines from 1.1. Show the linear regression line in red, and the linear+log regression line (which may have curvature) in blue.  Label these two regression lines with the corresponding regression equations (i.e. the slope and intercept of the line).\n",
    "\n",
    "**Bonus**: Add the 95% confidence bands (i.e.  the area that has a 95% chance of containing the true regression line) to each of these lines."
   ]
  },
  {
   "cell_type": "code",
   "execution_count": 11,
   "metadata": {},
   "outputs": [
    {
     "data": {
      "image/png": "[encoded data removed]",
      "text/plain": [
       "<Figure size 576x432 with 1 Axes>"
      ]
     },
     "metadata": {
      "needs_background": "light"
     },
     "output_type": "display_data"
    }
   ],
   "source": [
    "fig = plt.figure(figsize=(8, 6))\n",
    "ax1 = fig.add_subplot(111)\n",
    "\n",
    "ax1.scatter(df['LSTAT'],df['MEDV'], s=10, marker=\"s\", alpha=0.5)\n",
    "ax1.plot(xx,predictions1, label=\"y = -0.9488*x + 34.9327\", color='r')\n",
    "ax1.plot(xx,predictions2, label=\"y = 0.4307*x -18.1144*log(x) + 60.6770\", color='b')\n",
    "plt.legend(loc='upper right',fontsize=12);\n",
    "plt.xlabel('MEDV', fontsize=18)\n",
    "plt.ylabel('LSTAT', fontsize=16)\n",
    "plt.ylim(ymin = 0)\n",
    "plt.xlim(xmin = 0)\n",
    "plt.show()\n"
   ]
  },
  {
   "cell_type": "markdown",
   "metadata": {},
   "source": [
    "### 1.3 Cross-Validation\n",
    "\n",
    "Chances are, for the above problem you used all of your data to fit the regression line. In some circumstances this is a reasonable thing to do, but often this will result in overfitting. Let's redo the above results the ML way, using careful cross-validation.  Since you are now experts in cross-validation, and have written your own cross-validation algorithm from scratch, you can now take a shortcut and use the libraries that others have built for you.\n",
    "\n",
    "Before you proceed with cross-validation, split your dataset into training and test sets, using a 90-10 split. You can use the [train-test split](https://scikit-learn.org/stable/modules/generated/sklearn.model_selection.train_test_split.html) functions from sklearn. After that, using the cross-validation functions from scikit-learn, use 40-fold cross-validation to fit regression (a) from above, i.e. the linear fit of `MEDV` on `LSTAT`. Remember to use the **training set only**. We'll touch the test set only later. Each fold of cross-validation will give you one slope coefficient and one intercept coefficient.  Plot the distribution of the 40 slope coefficients using a histogram, then draw a vertical line at the value of the slope coefficient that you estimated in 1.1 using the full dataset.  What do you notice?\n",
    "\n",
    "\n",
    "*NOTE - In the `train_test_split` function be sure to set a random_state of 42.*"
   ]
  },
  {
   "cell_type": "code",
   "execution_count": 12,
   "metadata": {},
   "outputs": [],
   "source": [
    "from sklearn.model_selection import KFold\n",
    "\n",
    "X_train, X_test, y_train, y_test = train_test_split(\n",
    "    df.drop(['MEDV','predictions'], axis=1), df['MEDV'], test_size=0.1, random_state=42)"
   ]
  },
  {
   "cell_type": "code",
   "execution_count": 13,
   "metadata": {},
   "outputs": [],
   "source": [
    "slopes = []\n",
    "kf = KFold(n_splits=40)\n",
    "kf.get_n_splits(X_train)\n",
    "\n",
    "for train_index, test_index in kf.split(X_train):\n",
    "    X_train_CV, X_test_CV = X_train.iloc[train_index], X_train.iloc[test_index]\n",
    "    y_train_CV, y_test_CV = y_train.iloc[train_index], y_train.iloc[test_index]\n",
    "    \n",
    "    \n",
    "    X = X_train_CV['LSTAT']\n",
    "    X = sm.add_constant(X)\n",
    "    y = y_train_CV\n",
    "    model = sm.OLS(y, X).fit()\n",
    "    slopes.append(model.params[1])"
   ]
  },
  {
   "cell_type": "code",
   "execution_count": 14,
   "metadata": {},
   "outputs": [
    {
     "data": {
      "image/png": "[encoded data removed]",
      "text/plain": [
       "<Figure size 432x288 with 1 Axes>"
      ]
     },
     "metadata": {
      "needs_background": "light"
     },
     "output_type": "display_data"
    }
   ],
   "source": [
    "plt.hist(slopes, density=True, bins=10)  # density=False would make counts\n",
    "plt.axvline(x=-0.9488, color=\"black\")\n",
    "plt.ylabel('Probability')\n",
    "plt.xlabel('slopes');"
   ]
  },
  {
   "cell_type": "markdown",
   "metadata": {},
   "source": [
    "The slope in 1.1 is about in the center of the histogram"
   ]
  },
  {
   "cell_type": "markdown",
   "metadata": {},
   "source": [
    "## Part 2: Gradient Descent: Linear Regression\n",
    "\n",
    "This is where it gets fun!\n",
    "\n",
    "*Note - For all of part 2, only use your training set that you created in 1.3*\n",
    "\n",
    "### 2.1 Implement gradient descent with one independent variable (LSTAT)\n",
    "\n",
    "Implement the batch gradient descent algorithm that we discussed in class. Use the version you implement to regress the housing price on the percentage of lower status of the population i.e. `MEDV`~`LSTAT`. Experiment with 3-4 different values of the learning rate *R*, and do the following for each *R*:\n",
    "\n",
    "* Report the values of alpha and beta that minimize the loss function\n",
    "* Report the number of iterations it takes for your algorithm to converge\n",
    "* Report the total running time of your algorithm, in seconds\n",
    "\n",
    "How do your coefficients compare to the ones estimated through standard libraries? Does this depend on *R*?\n",
    "\n",
    "Some skeleton code is provided below, but you should feel free to delete this code and start from scratch if you prefer.\n",
    "\n",
    "\n",
    "*HINTS-*\n",
    "* Don't forget to implement a stopping condition, so that at every iteration you check whether your results have converged. Common approaches to this are to - \n",
    "    * (a) check to see if the loss has stopped decreasing,\n",
    "    * (b) check if both your current parameter estimates are close to the estimates from the previous iteration.  In both cases, \"close\" should not be ==0, it should be <=epsilon, where epsilon is something very small (like 1e-6).\n",
    "* We recommend you include a MaxIterations parameter in your gradient descent algorithm, to prevent divergence."
   ]
  },
  {
   "cell_type": "code",
   "execution_count": 15,
   "metadata": {},
   "outputs": [],
   "source": [
    "\n",
    "\n",
    "\"\"\"\n",
    "Function\n",
    "--------\n",
    "bivariate_ols\n",
    "    Gradient Descent to minimize OLS. Used to find co-efficients of bivariate OLS Linear regression\n",
    "\n",
    "Parameters\n",
    "----------\n",
    "xvalues, yvalues : narray\n",
    "    xvalues: independent variable\n",
    "    yvalues: dependent variable\n",
    "    \n",
    "R: float\n",
    "    Learning rate\n",
    "    \n",
    "MaxIterations: Int\n",
    "    maximum number of iterations\n",
    "    \n",
    "\n",
    "Returns\n",
    "-------\n",
    "alpha: float\n",
    "    intercept\n",
    "    \n",
    "beta: float\n",
    "    coefficient\n",
    "\"\"\"\n",
    "def bivariate_ols(X, Y, R=0.001, MaxIterations=1000):\n",
    "    start_time = time.time()\n",
    "    iterations = 1\n",
    "    epsilon = 1e-04\n",
    "    m = len(Y)\n",
    "    #initialize\n",
    "    alpha = np.random.randn(1)\n",
    "    beta = np.random.randn(1)\n",
    "    while iterations < MaxIterations:\n",
    " \n",
    "        #gradient\n",
    "        y_hat = (X * beta) + alpha\n",
    "        error = y-y_hat\n",
    "        loss = np.mean(error**2)\n",
    "\n",
    "        #update\n",
    "        alpha_gradient = -2 *(1/m) * np.sum(error)\n",
    "        beta_gradient = -2 *(1/m) * np.sum(X*error)\n",
    "            \n",
    "        new_alpha = alpha - R*alpha_gradient\n",
    "        new_beta = beta - R*beta_gradient\n",
    "        \n",
    "        #diff\n",
    "        diff1 = abs(new_alpha - alpha)\n",
    "        diff2 = abs(new_beta - beta)\n",
    "        \n",
    "        if (diff1 + diff2) < epsilon:\n",
    "            print(f\"converged at the {iterations}th iteration\")\n",
    "            print(\"Time taken: {:.2f} seconds\".format(time.time() - start_time))\n",
    "            return alpha, beta\n",
    "            \n",
    "        iterations += 1\n",
    "        alpha = new_alpha\n",
    "        beta = new_beta\n",
    "        \n",
    "    print(\"Time taken: {:.2f} seconds\".format(time.time() - start_time))\n",
    "    return alpha, beta\n",
    "\n",
    "\n",
    "# example function call\n",
    "# print(bivariate_ols(X, Y, 0.01, 100000))"
   ]
  },
  {
   "cell_type": "code",
   "execution_count": 16,
   "metadata": {},
   "outputs": [
    {
     "name": "stderr",
     "output_type": "stream",
     "text": [
      "<ipython-input-15-8663117a0f2b>:48: RuntimeWarning: invalid value encountered in subtract\n",
      "  new_beta = beta - R*beta_gradient\n",
      "<ipython-input-15-8663117a0f2b>:51: RuntimeWarning: invalid value encountered in subtract\n",
      "  diff1 = abs(new_alpha - alpha)\n"
     ]
    },
    {
     "name": "stdout",
     "output_type": "stream",
     "text": [
      "Time taken: 1.72 seconds\n"
     ]
    },
    {
     "data": {
      "text/plain": [
       "(array([inf]), array([nan]))"
      ]
     },
     "execution_count": 16,
     "metadata": {},
     "output_type": "execute_result"
    }
   ],
   "source": [
    "bivariate_ols(X=X_train['LSTAT'], Y=y_train, R=0.01, MaxIterations=1000)"
   ]
  },
  {
   "cell_type": "code",
   "execution_count": 17,
   "metadata": {
    "scrolled": true
   },
   "outputs": [
    {
     "name": "stdout",
     "output_type": "stream",
     "text": [
      "converged at the 11205th iteration\n",
      "Time taken: 17.05 seconds\n"
     ]
    },
    {
     "data": {
      "text/plain": [
       "(array([34.97655904]), array([-0.94768853]))"
      ]
     },
     "execution_count": 17,
     "metadata": {},
     "output_type": "execute_result"
    }
   ],
   "source": [
    "bivariate_ols(X=X_train['LSTAT'], Y=y_train, R=0.001, MaxIterations=20000)"
   ]
  },
  {
   "cell_type": "code",
   "execution_count": 18,
   "metadata": {
    "scrolled": true
   },
   "outputs": [
    {
     "name": "stdout",
     "output_type": "stream",
     "text": [
      "Time taken: 30.55 seconds\n"
     ]
    },
    {
     "data": {
      "text/plain": [
       "(array([21.58653411]), array([-0.15591616]))"
      ]
     },
     "execution_count": 18,
     "metadata": {},
     "output_type": "execute_result"
    }
   ],
   "source": [
    "bivariate_ols(X=X_train['LSTAT'], Y=y_train, R=0.0001, MaxIterations=20000)"
   ]
  },
  {
   "cell_type": "markdown",
   "metadata": {},
   "source": [
    "We can see the learning rate plays an important role here. Since we didn't standardize our data, the convergence rate is slow.    \n",
    "When R = 0.01, the parameters diverged.  \n",
    "When R = 0.001, the parameters converge at 11205th iteration.  \n",
    "When R = 0.0001, our model fails to converge at maximum iteration.  "
   ]
  },
  {
   "cell_type": "markdown",
   "metadata": {},
   "source": [
    "### 2.2 Data normalization (done for you!)\n",
    "\n",
    "Soon, you will implement a version of gradient descent that can use an arbitrary number of independent variables. Before doing this, we want to give you some code in case you want to standardize your features."
   ]
  },
  {
   "cell_type": "code",
   "execution_count": 19,
   "metadata": {},
   "outputs": [],
   "source": [
    "def standardize(raw_data):\n",
    "    return ((raw_data - np.mean(raw_data, axis = 0)) / np.std(raw_data, axis = 0))"
   ]
  },
  {
   "cell_type": "markdown",
   "metadata": {},
   "source": [
    "### 2.3 Implement gradient descent with an arbitrary number of independent variables\n",
    "\n",
    "Now that you have a simple version of gradient descent working, create a version of gradient descent that can take more than one independent variable.  Assume all independent variables will be continuous.  Test your algorithm using `CRIM` and `LSTAT` as independent variables. **Standardize the variables before inputting them to the gradient descent algorithm**. \n",
    "\n",
    "As before,  report and interpret your estimated coefficients, the number of iterations before convergence, and the total running time of your algorithm. Experiment with 2-3 different values of R.\n",
    "\n",
    "*Hint: Be careful to implement this efficiently, otherwise it might take a long time for your code to run. Commands like `np.dot` can be a good friend to you on this problem.*"
   ]
  },
  {
   "cell_type": "code",
   "execution_count": 63,
   "metadata": {},
   "outputs": [],
   "source": [
    "\"\"\"\n",
    "Function\n",
    "--------\n",
    "multivariate_ols\n",
    "    Gradient Descent to minimize OLS. Used to find coefficients of multi-variate OLS Linear regression\n",
    "\n",
    "Parameters\n",
    "----------\n",
    "xvalue_matrix, yvalues : narray\n",
    "    xvalue_matrix: independent variable\n",
    "    yvalues: dependent variable\n",
    "    \n",
    "R: float\n",
    "    Learning rate\n",
    "    \n",
    "MaxIterations: Int\n",
    "    maximum number of iterations\n",
    "    \n",
    "\n",
    "Returns\n",
    "-------\n",
    "alpha: float\n",
    "    intercept\n",
    "    \n",
    "beta_array: array[float]\n",
    "    coefficient\n",
    "\"\"\"\n",
    "\n",
    "def multivariate_ols(X, Y, R=0.001, MaxIterations=1000, normalize=True):\n",
    "    start_time = time.time()\n",
    "    if normalize:\n",
    "        X = standardize(X)\n",
    "        Y = standardize(Y)\n",
    "        weights = np.random.randn(X.shape[1])\n",
    "    else:\n",
    "        weights = np.random.randn(X.shape[1]+1)\n",
    "    iterations = 1\n",
    "    #initialize\n",
    "    m = len(Y)\n",
    "    loss = 1e10\n",
    "    \n",
    "    while iterations < MaxIterations:\n",
    "        if normalize:\n",
    "            y_hat = np.dot(X, weights)\n",
    "            error = y_hat - Y\n",
    "            new_loss = np.mean(np.dot(error.T, error))\n",
    "            weights = weights - R * (1/m) * np.dot(X.T ,error)\n",
    "        else:\n",
    "            #gradient\n",
    "            y_hat = np.dot(X, weights[1:3]) + weights[0] \n",
    "            error = y_hat - Y\n",
    "            new_loss = np.mean(np.dot(error.T, error))\n",
    "            #update\n",
    "            weights[0] = weights[0] - R * (1/m) * np.sum(error)\n",
    "            weights[1:3] = weights[1:3] - R * (1/m) * np.dot(X.T, error)\n",
    "\n",
    "        if abs(loss - new_loss) < 1e-6:\n",
    "            print(f\"converged at {iterations}th iteration\")\n",
    "            print(\"Time taken: {:.2f} seconds\".format(time.time() - start_time))\n",
    "            return np.round(weights,4)\n",
    "        iterations += 1\n",
    "        loss = new_loss\n",
    "    print('Max iteration reached')\n",
    "    print(\"Time taken: {:.2f} seconds\".format(time.time() - start_time))\n",
    "    return np.round(weights,4)"
   ]
  },
  {
   "cell_type": "code",
   "execution_count": 21,
   "metadata": {},
   "outputs": [
    {
     "name": "stdout",
     "output_type": "stream",
     "text": [
      "converged at 1466th iteration\n",
      "Time taken: 0.64 seconds\n"
     ]
    },
    {
     "data": {
      "text/plain": [
       "array([-0.7   , -0.0774])"
      ]
     },
     "execution_count": 21,
     "metadata": {},
     "output_type": "execute_result"
    }
   ],
   "source": [
    "multivariate_ols(X=X_train[['LSTAT', 'CRIM']], Y=y_train, R=0.01, MaxIterations=20000)"
   ]
  },
  {
   "cell_type": "code",
   "execution_count": 22,
   "metadata": {
    "scrolled": true
   },
   "outputs": [
    {
     "name": "stdout",
     "output_type": "stream",
     "text": [
      "converged at 10902th iteration\n",
      "Time taken: 4.37 seconds\n"
     ]
    },
    {
     "data": {
      "text/plain": [
       "array([-0.6991, -0.0783])"
      ]
     },
     "execution_count": 22,
     "metadata": {},
     "output_type": "execute_result"
    }
   ],
   "source": [
    "multivariate_ols(X=X_train[['LSTAT', 'CRIM']], Y=y_train, R=0.001, MaxIterations=20000)"
   ]
  },
  {
   "cell_type": "code",
   "execution_count": 23,
   "metadata": {},
   "outputs": [
    {
     "name": "stdout",
     "output_type": "stream",
     "text": [
      "Max iteration reached\n",
      "Time taken: 7.99 seconds\n"
     ]
    },
    {
     "data": {
      "text/plain": [
       "array([-0.0197, -0.7477])"
      ]
     },
     "execution_count": 23,
     "metadata": {},
     "output_type": "execute_result"
    }
   ],
   "source": [
    "multivariate_ols(X=X_train[['LSTAT', 'CRIM']], Y=y_train, R=0.0001, MaxIterations=20000)"
   ]
  },
  {
   "cell_type": "code",
   "execution_count": 24,
   "metadata": {},
   "outputs": [],
   "source": [
    "train_full = pd.concat([X_train, y_train], axis=1)"
   ]
  },
  {
   "cell_type": "code",
   "execution_count": 25,
   "metadata": {},
   "outputs": [
    {
     "data": {
      "text/html": [
       "<table class=\"simpletable\">\n",
       "<caption>OLS Regression Results</caption>\n",
       "<tr>\n",
       "  <th>Dep. Variable:</th>          <td>MEDV</td>       <th>  R-squared (uncentered):</th>      <td>   0.544</td>\n",
       "</tr>\n",
       "<tr>\n",
       "  <th>Model:</th>                   <td>OLS</td>       <th>  Adj. R-squared (uncentered):</th> <td>   0.542</td>\n",
       "</tr>\n",
       "<tr>\n",
       "  <th>Method:</th>             <td>Least Squares</td>  <th>  F-statistic:       </th>          <td>   270.2</td>\n",
       "</tr>\n",
       "<tr>\n",
       "  <th>Date:</th>             <td>Thu, 04 Mar 2021</td> <th>  Prob (F-statistic):</th>          <td>5.83e-78</td>\n",
       "</tr>\n",
       "<tr>\n",
       "  <th>Time:</th>                 <td>16:06:58</td>     <th>  Log-Likelihood:    </th>          <td> -466.99</td>\n",
       "</tr>\n",
       "<tr>\n",
       "  <th>No. Observations:</th>      <td>   455</td>      <th>  AIC:               </th>          <td>   938.0</td>\n",
       "</tr>\n",
       "<tr>\n",
       "  <th>Df Residuals:</th>          <td>   453</td>      <th>  BIC:               </th>          <td>   946.2</td>\n",
       "</tr>\n",
       "<tr>\n",
       "  <th>Df Model:</th>              <td>     2</td>      <th>                     </th>              <td> </td>   \n",
       "</tr>\n",
       "<tr>\n",
       "  <th>Covariance Type:</th>      <td>nonrobust</td>    <th>                     </th>              <td> </td>   \n",
       "</tr>\n",
       "</table>\n",
       "<table class=\"simpletable\">\n",
       "<tr>\n",
       "    <td></td>       <th>coef</th>     <th>std err</th>      <th>t</th>      <th>P>|t|</th>  <th>[0.025</th>    <th>0.975]</th>  \n",
       "</tr>\n",
       "<tr>\n",
       "  <th>LSTAT</th> <td>   -0.7005</td> <td>    0.035</td> <td>  -19.829</td> <td> 0.000</td> <td>   -0.770</td> <td>   -0.631</td>\n",
       "</tr>\n",
       "<tr>\n",
       "  <th>CRIM</th>  <td>   -0.0770</td> <td>    0.035</td> <td>   -2.179</td> <td> 0.030</td> <td>   -0.146</td> <td>   -0.008</td>\n",
       "</tr>\n",
       "</table>\n",
       "<table class=\"simpletable\">\n",
       "<tr>\n",
       "  <th>Omnibus:</th>       <td>125.105</td> <th>  Durbin-Watson:     </th> <td>   2.091</td>\n",
       "</tr>\n",
       "<tr>\n",
       "  <th>Prob(Omnibus):</th> <td> 0.000</td>  <th>  Jarque-Bera (JB):  </th> <td> 265.037</td>\n",
       "</tr>\n",
       "<tr>\n",
       "  <th>Skew:</th>          <td> 1.463</td>  <th>  Prob(JB):          </th> <td>2.80e-58</td>\n",
       "</tr>\n",
       "<tr>\n",
       "  <th>Kurtosis:</th>      <td> 5.327</td>  <th>  Cond. No.          </th> <td>    1.60</td>\n",
       "</tr>\n",
       "</table><br/><br/>Notes:<br/>[1] R² is computed without centering (uncentered) since the model does not contain a constant.<br/>[2] Standard Errors assume that the covariance matrix of the errors is correctly specified."
      ],
      "text/plain": [
       "<class 'statsmodels.iolib.summary.Summary'>\n",
       "\"\"\"\n",
       "                                 OLS Regression Results                                \n",
       "=======================================================================================\n",
       "Dep. Variable:                   MEDV   R-squared (uncentered):                   0.544\n",
       "Model:                            OLS   Adj. R-squared (uncentered):              0.542\n",
       "Method:                 Least Squares   F-statistic:                              270.2\n",
       "Date:                Thu, 04 Mar 2021   Prob (F-statistic):                    5.83e-78\n",
       "Time:                        16:06:58   Log-Likelihood:                         -466.99\n",
       "No. Observations:                 455   AIC:                                      938.0\n",
       "Df Residuals:                     453   BIC:                                      946.2\n",
       "Df Model:                           2                                                  \n",
       "Covariance Type:            nonrobust                                                  \n",
       "==============================================================================\n",
       "                 coef    std err          t      P>|t|      [0.025      0.975]\n",
       "------------------------------------------------------------------------------\n",
       "LSTAT         -0.7005      0.035    -19.829      0.000      -0.770      -0.631\n",
       "CRIM          -0.0770      0.035     -2.179      0.030      -0.146      -0.008\n",
       "==============================================================================\n",
       "Omnibus:                      125.105   Durbin-Watson:                   2.091\n",
       "Prob(Omnibus):                  0.000   Jarque-Bera (JB):              265.037\n",
       "Skew:                           1.463   Prob(JB):                     2.80e-58\n",
       "Kurtosis:                       5.327   Cond. No.                         1.60\n",
       "==============================================================================\n",
       "\n",
       "Notes:\n",
       "[1] R² is computed without centering (uncentered) since the model does not contain a constant.\n",
       "[2] Standard Errors assume that the covariance matrix of the errors is correctly specified.\n",
       "\"\"\""
      ]
     },
     "execution_count": 25,
     "metadata": {},
     "output_type": "execute_result"
    }
   ],
   "source": [
    "fit2 = ols('MEDV ~ LSTAT + CRIM -1', data=standardize(train_full)).fit()\n",
    "fit2.summary()"
   ]
  },
  {
   "cell_type": "markdown",
   "metadata": {},
   "source": [
    "We can see the learning rate plays an important role here. The training test is faster than before. Since we standardized the data, we expect the convergence rate to be fast.   \n",
    "When R = 0.01, the parameters converge at 1466th iteration. It is fast.  \n",
    "When R = 0.001, the parameters converge at 10902th iteration. It is slow.  \n",
    "When R = 0.0001, our model fails to converge.  "
   ]
  },
  {
   "cell_type": "markdown",
   "metadata": {},
   "source": [
    "### 2.4 Compare standardized vs. non-standardized results\n",
    "\n",
    "Repeat the analysis from 2.3, but this time do not standardize your variables - i.e., use the original training data. Use these three values of R - (0.1, 0.01, and 0.001). What do you notice about the running time and convergence properties of your algorithm?"
   ]
  },
  {
   "cell_type": "code",
   "execution_count": 26,
   "metadata": {},
   "outputs": [
    {
     "name": "stderr",
     "output_type": "stream",
     "text": [
      "<ipython-input-20-3d542c1fa1f6>:57: RuntimeWarning: invalid value encountered in double_scalars\n",
      "  if abs(loss - new_loss) < 1e-6:\n",
      "<ipython-input-20-3d542c1fa1f6>:55: RuntimeWarning: invalid value encountered in subtract\n",
      "  weights[1:3] = weights[1:3] - R * (1/m) * np.dot(X.T, error)\n"
     ]
    },
    {
     "name": "stdout",
     "output_type": "stream",
     "text": [
      "Max iteration reached\n",
      "Time taken: 10.22 seconds\n"
     ]
    },
    {
     "data": {
      "text/plain": [
       "array([-inf,  nan,  nan])"
      ]
     },
     "execution_count": 26,
     "metadata": {},
     "output_type": "execute_result"
    }
   ],
   "source": [
    "multivariate_ols(X=X_train[['LSTAT', 'CRIM']], Y=y_train, R=0.01, MaxIterations=20000, normalize=False)"
   ]
  },
  {
   "cell_type": "code",
   "execution_count": 27,
   "metadata": {},
   "outputs": [
    {
     "name": "stdout",
     "output_type": "stream",
     "text": [
      "Max iteration reached\n",
      "Time taken: 10.84 seconds\n"
     ]
    },
    {
     "data": {
      "text/plain": [
       "array([34.3935, -0.8847, -0.0866])"
      ]
     },
     "execution_count": 27,
     "metadata": {},
     "output_type": "execute_result"
    }
   ],
   "source": [
    "multivariate_ols(X=X_train[['LSTAT', 'CRIM']], Y=y_train, R=0.001, MaxIterations=20000, normalize=False)"
   ]
  },
  {
   "cell_type": "code",
   "execution_count": 28,
   "metadata": {},
   "outputs": [
    {
     "name": "stdout",
     "output_type": "stream",
     "text": [
      "Max iteration reached\n",
      "Time taken: 10.64 seconds\n"
     ]
    },
    {
     "data": {
      "text/plain": [
       "array([12.6794,  0.4883, -0.3349])"
      ]
     },
     "execution_count": 28,
     "metadata": {},
     "output_type": "execute_result"
    }
   ],
   "source": [
    "multivariate_ols(X=X_train[['LSTAT', 'CRIM']], Y=y_train, R=0.0001, MaxIterations=20000, normalize=False)"
   ]
  },
  {
   "cell_type": "code",
   "execution_count": 29,
   "metadata": {},
   "outputs": [
    {
     "data": {
      "text/html": [
       "<table class=\"simpletable\">\n",
       "<caption>OLS Regression Results</caption>\n",
       "<tr>\n",
       "  <th>Dep. Variable:</th>          <td>MEDV</td>       <th>  R-squared:         </th> <td>   0.544</td>\n",
       "</tr>\n",
       "<tr>\n",
       "  <th>Model:</th>                   <td>OLS</td>       <th>  Adj. R-squared:    </th> <td>   0.542</td>\n",
       "</tr>\n",
       "<tr>\n",
       "  <th>Method:</th>             <td>Least Squares</td>  <th>  F-statistic:       </th> <td>   269.6</td>\n",
       "</tr>\n",
       "<tr>\n",
       "  <th>Date:</th>             <td>Thu, 04 Mar 2021</td> <th>  Prob (F-statistic):</th> <td>8.63e-78</td>\n",
       "</tr>\n",
       "<tr>\n",
       "  <th>Time:</th>                 <td>16:07:30</td>     <th>  Log-Likelihood:    </th> <td> -1482.0</td>\n",
       "</tr>\n",
       "<tr>\n",
       "  <th>No. Observations:</th>      <td>   455</td>      <th>  AIC:               </th> <td>   2970.</td>\n",
       "</tr>\n",
       "<tr>\n",
       "  <th>Df Residuals:</th>          <td>   452</td>      <th>  BIC:               </th> <td>   2982.</td>\n",
       "</tr>\n",
       "<tr>\n",
       "  <th>Df Model:</th>              <td>     2</td>      <th>                     </th>     <td> </td>   \n",
       "</tr>\n",
       "<tr>\n",
       "  <th>Covariance Type:</th>      <td>nonrobust</td>    <th>                     </th>     <td> </td>   \n",
       "</tr>\n",
       "</table>\n",
       "<table class=\"simpletable\">\n",
       "<tr>\n",
       "      <td></td>         <th>coef</th>     <th>std err</th>      <th>t</th>      <th>P>|t|</th>  <th>[0.025</th>    <th>0.975]</th>  \n",
       "</tr>\n",
       "<tr>\n",
       "  <th>Intercept</th> <td>   34.7869</td> <td>    0.621</td> <td>   55.996</td> <td> 0.000</td> <td>   33.566</td> <td>   36.008</td>\n",
       "</tr>\n",
       "<tr>\n",
       "  <th>LSTAT</th>     <td>   -0.9096</td> <td>    0.046</td> <td>  -19.807</td> <td> 0.000</td> <td>   -1.000</td> <td>   -0.819</td>\n",
       "</tr>\n",
       "<tr>\n",
       "  <th>CRIM</th>      <td>   -0.0821</td> <td>    0.038</td> <td>   -2.176</td> <td> 0.030</td> <td>   -0.156</td> <td>   -0.008</td>\n",
       "</tr>\n",
       "</table>\n",
       "<table class=\"simpletable\">\n",
       "<tr>\n",
       "  <th>Omnibus:</th>       <td>125.105</td> <th>  Durbin-Watson:     </th> <td>   2.091</td>\n",
       "</tr>\n",
       "<tr>\n",
       "  <th>Prob(Omnibus):</th> <td> 0.000</td>  <th>  Jarque-Bera (JB):  </th> <td> 265.037</td>\n",
       "</tr>\n",
       "<tr>\n",
       "  <th>Skew:</th>          <td> 1.463</td>  <th>  Prob(JB):          </th> <td>2.80e-58</td>\n",
       "</tr>\n",
       "<tr>\n",
       "  <th>Kurtosis:</th>      <td> 5.327</td>  <th>  Cond. No.          </th> <td>    33.7</td>\n",
       "</tr>\n",
       "</table><br/><br/>Notes:<br/>[1] Standard Errors assume that the covariance matrix of the errors is correctly specified."
      ],
      "text/plain": [
       "<class 'statsmodels.iolib.summary.Summary'>\n",
       "\"\"\"\n",
       "                            OLS Regression Results                            \n",
       "==============================================================================\n",
       "Dep. Variable:                   MEDV   R-squared:                       0.544\n",
       "Model:                            OLS   Adj. R-squared:                  0.542\n",
       "Method:                 Least Squares   F-statistic:                     269.6\n",
       "Date:                Thu, 04 Mar 2021   Prob (F-statistic):           8.63e-78\n",
       "Time:                        16:07:30   Log-Likelihood:                -1482.0\n",
       "No. Observations:                 455   AIC:                             2970.\n",
       "Df Residuals:                     452   BIC:                             2982.\n",
       "Df Model:                           2                                         \n",
       "Covariance Type:            nonrobust                                         \n",
       "==============================================================================\n",
       "                 coef    std err          t      P>|t|      [0.025      0.975]\n",
       "------------------------------------------------------------------------------\n",
       "Intercept     34.7869      0.621     55.996      0.000      33.566      36.008\n",
       "LSTAT         -0.9096      0.046    -19.807      0.000      -1.000      -0.819\n",
       "CRIM          -0.0821      0.038     -2.176      0.030      -0.156      -0.008\n",
       "==============================================================================\n",
       "Omnibus:                      125.105   Durbin-Watson:                   2.091\n",
       "Prob(Omnibus):                  0.000   Jarque-Bera (JB):              265.037\n",
       "Skew:                           1.463   Prob(JB):                     2.80e-58\n",
       "Kurtosis:                       5.327   Cond. No.                         33.7\n",
       "==============================================================================\n",
       "\n",
       "Notes:\n",
       "[1] Standard Errors assume that the covariance matrix of the errors is correctly specified.\n",
       "\"\"\""
      ]
     },
     "execution_count": 29,
     "metadata": {},
     "output_type": "execute_result"
    }
   ],
   "source": [
    "fit2 = ols('MEDV ~ LSTAT + CRIM', data=train_full).fit()\n",
    "fit2.summary()"
   ]
  },
  {
   "cell_type": "markdown",
   "metadata": {},
   "source": [
    "We can verify again that standardize data can speed up training.  \n",
    "R = 0.01, the parameters diverged.  \n",
    "R = 0.001, Althgough, the maximum iteration reached. The parameters are close to the parameters calculated from library.  \n",
    "R = 0.0001, the maximum iteration reached, the parameters couldn't converge.  "
   ]
  },
  {
   "cell_type": "markdown",
   "metadata": {},
   "source": [
    "### Extra Credit 1 :  Implement  Mini-Batch Gradient Descent (MB-GD)\n",
    "MB-GD is a Gradient Descent variant that in large data sets can converge faster and is computationally less intensive. Implement MB-GD for question 2.3 (ensure you're using standardized data). Experiment with different values for the learning rate, number of iterations and \"mini-batch\" size\n",
    "so that you compute the estimates within a 1e-3 tolerance. Do not use a batch-size greater than 32.\n",
    "MB-GD is similar to Stochastic Gradient Descent but instead of using one sample to compute the gradient we use a batch of samples at each iteration. "
   ]
  },
  {
   "cell_type": "code",
   "execution_count": 30,
   "metadata": {},
   "outputs": [],
   "source": [
    "from sklearn.utils import shuffle\n",
    "\n",
    "\"\"\"\n",
    "Function\n",
    "--------\n",
    "MBGD_multivariate_ols\n",
    "    Minibatch gradient descent for multi-variate OLS\n",
    "\n",
    "Parameters\n",
    "----------\n",
    "xvalue_matrix, yvalues : narray\n",
    "    xvalue_matrix: independent variable\n",
    "    yvalues: dependent variable\n",
    "    \n",
    "R: float\n",
    "    Learning rate\n",
    "    \n",
    "MaxIterations: Int\n",
    "    maximum number of iterations\n",
    "    \n",
    "Batch_Size : Int\n",
    "    batch size of mini-batches\n",
    "\n",
    "Returns\n",
    "-------\n",
    "alpha: float\n",
    "    intercept\n",
    "    \n",
    "beta_array: array[float]\n",
    "    coefficient\n",
    "\"\"\"\n",
    "\n",
    "def MBGD_multivariate_ols(X, Y, batch_size=32, R=0.001, epochs=1000, normalize=True):\n",
    "    start_time = time.time()\n",
    "    if normalize:\n",
    "        X = standardize(X)\n",
    "        Y = standardize(Y)\n",
    "        weights = np.random.randn(X.shape[1])\n",
    "    else:\n",
    "        weights = np.random.randn(X.shape[1]+1)\n",
    "    \n",
    "    #initialize\n",
    "    m = len(Y)\n",
    "    loss = 1e10\n",
    "    df_full = pd.concat([X, Y], axis=1)\n",
    "    \n",
    "    for epoch in range(epochs):\n",
    "        for sub_df in np.array_split(df_full, m//batch_size):\n",
    "            X = sub_df.iloc[:, :X.shape[1]]\n",
    "            Y = sub_df.iloc[:, X.shape[1]]            \n",
    "            if normalize:\n",
    "                y_hat = np.dot(X, weights)\n",
    "                error = y_hat - Y\n",
    "                new_loss = np.mean(np.dot(error.T, error))\n",
    "                weights = weights - R * (1/m) * np.dot(X.T ,error)\n",
    "            else:\n",
    "                #gradient\n",
    "                y_hat = np.dot(X, weights[1:3]) + weights[0] \n",
    "                error = y_hat - Y\n",
    "                new_loss = np.mean(np.dot(error.T, error))\n",
    "                #update\n",
    "                weights[0] = weights[0] - R * (1/m) * np.sum(error)\n",
    "                weights[1:3] = weights[1:3] - R * (1/m) * np.dot(X.T, error)\n",
    "            diff = R * (1/m) * np.dot(X.T ,error)\n",
    "            if  (abs(diff) < 1e-5).all():\n",
    "#             if abs(new_loss - loss) < 1e-3:\n",
    "                print(diff)\n",
    "                print(abs(new_loss - loss))\n",
    "\n",
    "                print(f\"converged at {epoch}th epoch\")\n",
    "                print(\"Time taken: {:.2f} seconds\".format(time.time() - start_time))\n",
    "                return np.round(weights,4)\n",
    "            loss = new_loss\n",
    "    print(diff)\n",
    "    print(abs(new_loss - loss))\n",
    "    print('Max epoch reached')\n",
    "    print(\"Time taken: {:.2f} seconds\".format(time.time() - start_time))\n",
    "    return np.round(weights,4)"
   ]
  },
  {
   "cell_type": "markdown",
   "metadata": {},
   "source": [
    "LSTAT\t-0.7005\t0.035\t-19.829\t0.000\t-0.770\t-0.631\n",
    "CRIM\t-0.0770\t0.035\t-2.179\t0.030\t-0.146\t-0.008\n"
   ]
  },
  {
   "cell_type": "code",
   "execution_count": 31,
   "metadata": {},
   "outputs": [
    {
     "name": "stdout",
     "output_type": "stream",
     "text": [
      "[-0.00094845 -0.00071195]\n",
      "0.0\n",
      "Max epoch reached\n",
      "Time taken: 13.05 seconds\n"
     ]
    },
    {
     "data": {
      "text/plain": [
       "array([-0.7012, -0.078 ])"
      ]
     },
     "execution_count": 31,
     "metadata": {},
     "output_type": "execute_result"
    }
   ],
   "source": [
    "MBGD_multivariate_ols(X=X_train[['LSTAT', 'CRIM']], Y=y_train, batch_size=32, R=0.1, epochs=1000, normalize=True)"
   ]
  },
  {
   "cell_type": "code",
   "execution_count": 32,
   "metadata": {
    "scrolled": true
   },
   "outputs": [
    {
     "name": "stdout",
     "output_type": "stream",
     "text": [
      "[ 9.33097874e-06 -8.78419327e-06]\n",
      "0.8430624769131647\n",
      "converged at 213th epoch\n",
      "Time taken: 2.81 seconds\n"
     ]
    },
    {
     "data": {
      "text/plain": [
       "array([-0.6161, -0.0609])"
      ]
     },
     "execution_count": 32,
     "metadata": {},
     "output_type": "execute_result"
    }
   ],
   "source": [
    "MBGD_multivariate_ols(X=X_train[['LSTAT', 'CRIM']], Y=y_train, batch_size=32, R=0.01, epochs=1000, normalize=True)"
   ]
  },
  {
   "cell_type": "code",
   "execution_count": 33,
   "metadata": {
    "scrolled": true
   },
   "outputs": [
    {
     "name": "stdout",
     "output_type": "stream",
     "text": [
      "[ 2.20111497e-06 -2.07912902e-06]\n",
      "9999999988.81851\n",
      "converged at 0th epoch\n",
      "Time taken: 0.01 seconds\n"
     ]
    },
    {
     "data": {
      "text/plain": [
       "array([-0.6837, -0.1229])"
      ]
     },
     "execution_count": 33,
     "metadata": {},
     "output_type": "execute_result"
    }
   ],
   "source": [
    "MBGD_multivariate_ols(X=X_train[['LSTAT', 'CRIM']], Y=y_train, batch_size=32, R=0.001, epochs=1000, normalize=True)"
   ]
  },
  {
   "cell_type": "markdown",
   "metadata": {},
   "source": [
    "The converges is fast. However, it is not stable. We can see only the first model converges to the right parameters.\n",
    "The other two models converged. But their parameters are not very close to the OLS estimates. "
   ]
  },
  {
   "cell_type": "markdown",
   "metadata": {},
   "source": [
    "### Extra Credit 2: Logistic Regression\n",
    "\n",
    "For extra credit, implement logistic regression using gradient descent. Create a new variable (EXPENSIVE) to indicate whether the median housing price is more than $40,000. Use your model to estimate a logistic regression of EXPENSIVE on CHAS and RM. Report your results and interpret the coefficients (i.e., explain what they imply in a sentence that your parents would understand)."
   ]
  },
  {
   "cell_type": "code",
   "execution_count": 34,
   "metadata": {},
   "outputs": [],
   "source": [
    "EXPENSIVE_train = y_train > 40\n",
    "EXPENSIVE_test = y_test > 40"
   ]
  },
  {
   "cell_type": "code",
   "execution_count": 35,
   "metadata": {},
   "outputs": [],
   "source": [
    "def logistic(X, Y, R=0.001, MaxIterations=1000, normalize=True):\n",
    "    start_time = time.time()\n",
    "    if normalize:\n",
    "        X = standardize(X)\n",
    "        Y = standardize(Y)\n",
    "        weights = np.random.randn(X.shape[1])\n",
    "\n",
    "    iterations = 1\n",
    "    #initialize\n",
    "    m = len(Y)\n",
    "    loss = 1e10\n",
    "    \n",
    "    while iterations < MaxIterations:\n",
    "        if normalize:\n",
    "            y_hat = 1/(1 + np.exp(-np.dot(X, weights)))\n",
    "            error = y_hat - Y\n",
    "            new_loss = np.mean(np.dot(error.T, error))\n",
    "            weights = weights - R * (1/m) * np.dot(X.T ,error)\n",
    "        \n",
    "        if abs(loss - new_loss) < 1e-6:\n",
    "            print(f\"converged at {iterations}th iteration\")\n",
    "            print(\"Time taken: {:.2f} seconds\".format(time.time() - start_time))\n",
    "            return np.round(weights,4)\n",
    "        iterations += 1\n",
    "        loss = new_loss\n",
    "    print('Max iteration reached')\n",
    "    print(\"Time taken: {:.2f} seconds\".format(time.time() - start_time))\n",
    "    return np.round(weights,4)"
   ]
  },
  {
   "cell_type": "code",
   "execution_count": 36,
   "metadata": {},
   "outputs": [
    {
     "name": "stdout",
     "output_type": "stream",
     "text": [
      "converged at 7509th iteration\n",
      "Time taken: 3.33 seconds\n"
     ]
    },
    {
     "data": {
      "text/plain": [
       "array([0.4505, 2.0477])"
      ]
     },
     "execution_count": 36,
     "metadata": {},
     "output_type": "execute_result"
    }
   ],
   "source": [
    "logistic(X=X_train[['CHAS', 'RM']], Y=EXPENSIVE_train, R=0.001, MaxIterations=20000)"
   ]
  },
  {
   "cell_type": "markdown",
   "metadata": {},
   "source": [
    "coefficient for CHAS is 0.6529, for RM is 1.7593  \n",
    "The coefficient of CHAS means every unit increase of CHAS, the log odds ratio increases by 0.4505  \n",
    "The coefficient of RM means every unit increase of RM, the log odds ratio increases by 2.0477"
   ]
  },
  {
   "cell_type": "markdown",
   "metadata": {},
   "source": [
    "## 3 Regularization \n",
    "\n",
    "### 3.1 Get prepped\n",
    "\n",
    "Using the non-standardized train and test sets you created in 1.3, for each set create new interaction variables between each possible pair of the features. If you originally had *K* features, you should now have K+(K*(K+1))/2 features. Now standardize all of your features. For expediency, it is okay if you standardize the training and test sets separately, i.e., you do not need to use the mean and standard deviation of the training set to also standardize the test set."
   ]
  },
  {
   "cell_type": "code",
   "execution_count": 37,
   "metadata": {},
   "outputs": [
    {
     "data": {
      "text/plain": [
       "Index(['CRIM', 'ZN', 'INDUS', 'CHAS', 'NOX', 'RM', 'AGE', 'DIS', 'RAD', 'TAX',\n",
       "       'PTRATIO', 'B', 'LSTAT'],\n",
       "      dtype='object')"
      ]
     },
     "execution_count": 37,
     "metadata": {},
     "output_type": "execute_result"
    }
   ],
   "source": [
    "X_train.columns"
   ]
  },
  {
   "cell_type": "code",
   "execution_count": 38,
   "metadata": {},
   "outputs": [],
   "source": [
    "table1 = dict()\n",
    "for i in range(len(X_train.columns)):\n",
    "    for j in range(i+1, len(X_train.columns)):\n",
    "        table1[X_train.columns[i]+\"*\"+X_train.columns[j]] = X_train.iloc[:,i] * X_train.iloc[:,j]"
   ]
  },
  {
   "cell_type": "code",
   "execution_count": 39,
   "metadata": {},
   "outputs": [],
   "source": [
    "table2 = dict()\n",
    "for i in range(len(X_test.columns)):\n",
    "    for j in range(i+1, len(X_test.columns)):\n",
    "        table2[X_test.columns[i]+\"*\"+X_test.columns[j]] = X_test.iloc[:,i] * X_test.iloc[:,j]"
   ]
  },
  {
   "cell_type": "code",
   "execution_count": 40,
   "metadata": {},
   "outputs": [],
   "source": [
    "train_interact = pd.concat([X_train, pd.DataFrame(table1)], axis=1)"
   ]
  },
  {
   "cell_type": "code",
   "execution_count": 41,
   "metadata": {
    "scrolled": true
   },
   "outputs": [
    {
     "data": {
      "text/plain": [
       "Index(['CRIM', 'ZN', 'INDUS', 'CHAS', 'NOX', 'RM', 'AGE', 'DIS', 'RAD', 'TAX',\n",
       "       'PTRATIO', 'B', 'LSTAT', 'CRIM*ZN', 'CRIM*INDUS', 'CRIM*CHAS',\n",
       "       'CRIM*NOX', 'CRIM*RM', 'CRIM*AGE', 'CRIM*DIS', 'CRIM*RAD', 'CRIM*TAX',\n",
       "       'CRIM*PTRATIO', 'CRIM*B', 'CRIM*LSTAT', 'ZN*INDUS', 'ZN*CHAS', 'ZN*NOX',\n",
       "       'ZN*RM', 'ZN*AGE', 'ZN*DIS', 'ZN*RAD', 'ZN*TAX', 'ZN*PTRATIO', 'ZN*B',\n",
       "       'ZN*LSTAT', 'INDUS*CHAS', 'INDUS*NOX', 'INDUS*RM', 'INDUS*AGE',\n",
       "       'INDUS*DIS', 'INDUS*RAD', 'INDUS*TAX', 'INDUS*PTRATIO', 'INDUS*B',\n",
       "       'INDUS*LSTAT', 'CHAS*NOX', 'CHAS*RM', 'CHAS*AGE', 'CHAS*DIS',\n",
       "       'CHAS*RAD', 'CHAS*TAX', 'CHAS*PTRATIO', 'CHAS*B', 'CHAS*LSTAT',\n",
       "       'NOX*RM', 'NOX*AGE', 'NOX*DIS', 'NOX*RAD', 'NOX*TAX', 'NOX*PTRATIO',\n",
       "       'NOX*B', 'NOX*LSTAT', 'RM*AGE', 'RM*DIS', 'RM*RAD', 'RM*TAX',\n",
       "       'RM*PTRATIO', 'RM*B', 'RM*LSTAT', 'AGE*DIS', 'AGE*RAD', 'AGE*TAX',\n",
       "       'AGE*PTRATIO', 'AGE*B', 'AGE*LSTAT', 'DIS*RAD', 'DIS*TAX',\n",
       "       'DIS*PTRATIO', 'DIS*B', 'DIS*LSTAT', 'RAD*TAX', 'RAD*PTRATIO', 'RAD*B',\n",
       "       'RAD*LSTAT', 'TAX*PTRATIO', 'TAX*B', 'TAX*LSTAT', 'PTRATIO*B',\n",
       "       'PTRATIO*LSTAT', 'B*LSTAT'],\n",
       "      dtype='object')"
      ]
     },
     "execution_count": 41,
     "metadata": {},
     "output_type": "execute_result"
    }
   ],
   "source": [
    "# pair-wise interactions\n",
    "train_interact.columns"
   ]
  },
  {
   "cell_type": "code",
   "execution_count": 42,
   "metadata": {},
   "outputs": [],
   "source": [
    "test_interact = pd.concat([X_test, pd.DataFrame(table2)], axis=1)"
   ]
  },
  {
   "cell_type": "code",
   "execution_count": 43,
   "metadata": {},
   "outputs": [
    {
     "data": {
      "text/plain": [
       "Index(['CRIM', 'ZN', 'INDUS', 'CHAS', 'NOX', 'RM', 'AGE', 'DIS', 'RAD', 'TAX',\n",
       "       'PTRATIO', 'B', 'LSTAT', 'CRIM*ZN', 'CRIM*INDUS', 'CRIM*CHAS',\n",
       "       'CRIM*NOX', 'CRIM*RM', 'CRIM*AGE', 'CRIM*DIS', 'CRIM*RAD', 'CRIM*TAX',\n",
       "       'CRIM*PTRATIO', 'CRIM*B', 'CRIM*LSTAT', 'ZN*INDUS', 'ZN*CHAS', 'ZN*NOX',\n",
       "       'ZN*RM', 'ZN*AGE', 'ZN*DIS', 'ZN*RAD', 'ZN*TAX', 'ZN*PTRATIO', 'ZN*B',\n",
       "       'ZN*LSTAT', 'INDUS*CHAS', 'INDUS*NOX', 'INDUS*RM', 'INDUS*AGE',\n",
       "       'INDUS*DIS', 'INDUS*RAD', 'INDUS*TAX', 'INDUS*PTRATIO', 'INDUS*B',\n",
       "       'INDUS*LSTAT', 'CHAS*NOX', 'CHAS*RM', 'CHAS*AGE', 'CHAS*DIS',\n",
       "       'CHAS*RAD', 'CHAS*TAX', 'CHAS*PTRATIO', 'CHAS*B', 'CHAS*LSTAT',\n",
       "       'NOX*RM', 'NOX*AGE', 'NOX*DIS', 'NOX*RAD', 'NOX*TAX', 'NOX*PTRATIO',\n",
       "       'NOX*B', 'NOX*LSTAT', 'RM*AGE', 'RM*DIS', 'RM*RAD', 'RM*TAX',\n",
       "       'RM*PTRATIO', 'RM*B', 'RM*LSTAT', 'AGE*DIS', 'AGE*RAD', 'AGE*TAX',\n",
       "       'AGE*PTRATIO', 'AGE*B', 'AGE*LSTAT', 'DIS*RAD', 'DIS*TAX',\n",
       "       'DIS*PTRATIO', 'DIS*B', 'DIS*LSTAT', 'RAD*TAX', 'RAD*PTRATIO', 'RAD*B',\n",
       "       'RAD*LSTAT', 'TAX*PTRATIO', 'TAX*B', 'TAX*LSTAT', 'PTRATIO*B',\n",
       "       'PTRATIO*LSTAT', 'B*LSTAT'],\n",
       "      dtype='object')"
      ]
     },
     "execution_count": 43,
     "metadata": {},
     "output_type": "execute_result"
    }
   ],
   "source": [
    "test_interact.columns"
   ]
  },
  {
   "cell_type": "markdown",
   "metadata": {},
   "source": [
    "### 3.2 Overfitting (sort of)\n",
    "Now, using your version of multivariate regression from 2.3, let's overfit the training data. Using your training set, regress housing price on as many of those K+(K*(K+1))/2 features as you can. If you get too greedy, it's possible this will take a long time to compute, so start with 5-10 features, and if you have the time, add more features.\n",
    "\n",
    "Keep track of the training RMSE each time you add a new feature. Plot a line graph with number of features on the x-axis and training RMSE on the y-axis. \n",
    "\n",
    "*NOTE-*\n",
    "* *You can set the MaxIterations as 1e5*"
   ]
  },
  {
   "cell_type": "code",
   "execution_count": 44,
   "metadata": {},
   "outputs": [],
   "source": [
    "\"\"\"\n",
    "Function\n",
    "--------\n",
    "multivariate_ols\n",
    "    Gradient Descent to minimize OLS. Used to find coefficients of multi-variate OLS Linear regression\n",
    "\n",
    "Parameters\n",
    "----------\n",
    "xvalue_matrix, yvalues : narray\n",
    "    xvalue_matrix: independent variable\n",
    "    yvalues: dependent variable\n",
    "    \n",
    "R: float\n",
    "    Learning rate\n",
    "    \n",
    "MaxIterations: Int\n",
    "    maximum number of iterations\n",
    "    \n",
    "\n",
    "Returns\n",
    "-------\n",
    "alpha: float\n",
    "    intercept\n",
    "    \n",
    "beta_array: array[float]\n",
    "    coefficient\n",
    "\"\"\"\n",
    "\n",
    "def multivariate_ols_2_3(X, Y, R=0.001, MaxIterations=1000, normalize=True):\n",
    "    start_time = time.time()\n",
    "    if normalize:\n",
    "        X = standardize(X)\n",
    "        Y = standardize(Y)\n",
    "        weights = np.random.randn(X.shape[1])\n",
    "    else:\n",
    "        weights = np.random.randn(X.shape[1]+1)\n",
    "    iterations = 1\n",
    "    #initialize\n",
    "    m = len(Y)\n",
    "    loss = 1e10\n",
    "    \n",
    "    while iterations < MaxIterations:\n",
    "        if normalize:\n",
    "            y_hat = np.dot(X, weights)\n",
    "            error = y_hat - Y\n",
    "            new_loss = np.mean(np.dot(error.T, error))\n",
    "            weights = weights - R * (1/m) * np.dot(X.T ,error)\n",
    "        else:\n",
    "            #gradient\n",
    "            y_hat = np.dot(X, weights[1:3]) + weights[0] \n",
    "            error = y_hat - Y\n",
    "            new_loss = np.mean(np.dot(error.T, error))\n",
    "            #update\n",
    "            weights[0] = weights[0] - R * (1/m) * np.sum(error)\n",
    "            weights[1:3] = weights[1:3] - R * (1/m) * np.dot(X.T, error)\n",
    "        \n",
    "        \n",
    "        \n",
    "        if abs(loss - new_loss) < 1e-9:\n",
    "#             print(f\"converged at {iterations}th iteration\")\n",
    "#             print(\"Time taken: {:.2f} seconds\".format(time.time() - start_time))\n",
    "            return np.round(weights,4), np.sqrt(np.mean(error**2))\n",
    "        iterations += 1\n",
    "        loss = new_loss\n",
    "#     print('Max iteration reached')\n",
    "#     print(\"Time taken: {:.2f} seconds\".format(time.time() - start_time))\n",
    "    return np.round(weights,4), np.sqrt(np.mean(error**2))"
   ]
  },
  {
   "cell_type": "code",
   "execution_count": 45,
   "metadata": {},
   "outputs": [],
   "source": [
    "K = 13\n",
    "RMSE = []\n",
    "N = (K*(K+1))//2\n",
    "xx = np.arange(1, N)\n",
    "\n",
    "for k in xx:\n",
    "    weights, rmse = multivariate_ols_2_3(X=train_interact.iloc[:,:k], Y=y_train, R=0.01, MaxIterations=10000)\n",
    "    RMSE.append(rmse)\n"
   ]
  },
  {
   "cell_type": "code",
   "execution_count": 46,
   "metadata": {},
   "outputs": [
    {
     "data": {
      "image/png": "[encoded data removed]",
      "text/plain": [
       "<Figure size 576x432 with 1 Axes>"
      ]
     },
     "metadata": {
      "needs_background": "light"
     },
     "output_type": "display_data"
    }
   ],
   "source": [
    "fig = plt.figure(figsize=(8, 6))\n",
    "ax1 = fig.add_subplot(111)\n",
    "ax1.plot(xx, RMSE)\n",
    "\n",
    "plt.xlabel('number of features', fontsize=18)\n",
    "plt.ylabel('RMSE', fontsize=16)\n",
    "plt.ylim(ymin = 0)\n",
    "plt.xlim(xmin = 0)\n",
    "plt.show()"
   ]
  },
  {
   "cell_type": "code",
   "execution_count": 47,
   "metadata": {},
   "outputs": [],
   "source": [
    "#Using standard library for reference \n",
    "K = 13\n",
    "RMSE = []\n",
    "N = (K*(K+1))//2\n",
    "xx = np.arange(1, N)\n",
    "\n",
    "for k in xx:\n",
    "    model = sm.OLS(standardize(y_train), standardize(train_interact.iloc[:,:k]))\n",
    "    results = model.fit()\n",
    "    RMSE.append(np.sqrt(np.mean((results.predict() - standardize(y_train))**2)))\n"
   ]
  },
  {
   "cell_type": "code",
   "execution_count": 48,
   "metadata": {},
   "outputs": [
    {
     "data": {
      "image/png": "[encoded data removed]",
      "text/plain": [
       "<Figure size 576x432 with 1 Axes>"
      ]
     },
     "metadata": {
      "needs_background": "light"
     },
     "output_type": "display_data"
    }
   ],
   "source": [
    "fig = plt.figure(figsize=(8, 6))\n",
    "ax1 = fig.add_subplot(111)\n",
    "ax1.plot(xx, RMSE)\n",
    "\n",
    "plt.xlabel('number of features', fontsize=18)\n",
    "plt.ylabel('RMSE', fontsize=16)\n",
    "plt.ylim(ymin = 0)\n",
    "plt.xlim(xmin = 0)\n",
    "plt.show()"
   ]
  },
  {
   "cell_type": "markdown",
   "metadata": {},
   "source": [
    "We can see that the RMSE is decreasing as we increasing the number of features"
   ]
  },
  {
   "cell_type": "markdown",
   "metadata": {},
   "source": [
    "### 3.3 Ridge regularization\n",
    "Incorporate L2 (Ridge) regularization into your `multivariate_ols` regression. Write a new version of your gradient descent algorithm that includes a regularization term \"lambda\" to penalize excessive complexity. \n",
    "\n",
    "Use your regularized regression to re-fit the model using all features from the training data. Try this for several different values of lambda, and report your RMSE for each lambda separately for your training set. How do these numbers compare to each other, to the RMSE from 3.2?\n",
    "\n",
    "Go brag to your friends about how you just implemented ridge-regularized multivariate regression using gradient descent optimization, from scratch. If you still have friends."
   ]
  },
  {
   "cell_type": "code",
   "execution_count": 49,
   "metadata": {},
   "outputs": [],
   "source": [
    "def multivariate_ols_ridge(X, Y, L2_lambda, R=0.001, MaxIterations=1000, normalize=True):\n",
    "    start_time = time.time()\n",
    "    if normalize:\n",
    "        X = standardize(X)\n",
    "        Y = standardize(Y)\n",
    "        weights = np.random.randn(X.shape[1])\n",
    "    else:\n",
    "        weights = np.random.randn(X.shape[1]+1)\n",
    "    iterations = 1\n",
    "    #initialize\n",
    "    m = len(Y)\n",
    "    loss = 1e10\n",
    "    \n",
    "    while iterations < MaxIterations:\n",
    "        if normalize:\n",
    "            y_hat = np.dot(X, weights)\n",
    "            error = y_hat - Y\n",
    "            new_loss = np.mean(np.dot(error.T, error))\n",
    "            weights = (1 - R*L2_lambda)*weights - R * (1/m) * np.dot(X.T ,error)\n",
    "        else:\n",
    "            #gradient\n",
    "            y_hat = np.dot(X, weights[1:3]) + weights[0] \n",
    "            error = y_hat - Y\n",
    "            new_loss = np.mean(np.dot(error.T, error))\n",
    "            #update\n",
    "            weights[0] = weights[0] - R * (1/m) * np.sum(error)\n",
    "            weights[1:3] = weights[1:3] - R * (1/m) * np.dot(X.T, error)\n",
    "  \n",
    "        if abs(loss - new_loss) < 1e-9:\n",
    "#             print(f\"converged at {iterations}th iteration\")\n",
    "#             print(\"Time taken: {:.2f} seconds\".format(time.time() - start_time))\n",
    "            return np.round(weights,4), np.sqrt(np.mean(error**2))\n",
    "        iterations += 1\n",
    "        loss = new_loss\n",
    "#     print('Max iteration reached')\n",
    "#     print(\"Time taken: {:.2f} seconds\".format(time.time() - start_time))\n",
    "    return np.round(weights,4), np.sqrt(np.mean(error**2))"
   ]
  },
  {
   "cell_type": "code",
   "execution_count": 50,
   "metadata": {},
   "outputs": [],
   "source": [
    "RMSE = []\n",
    "xx = [0.001, 0.01, 0.1, 0.5, 1, 2, 5, 10]\n",
    "for l2_lambda in xx:\n",
    "    weights, rmse = multivariate_ols_ridge(X=X_train, Y=y_train, L2_lambda=l2_lambda, R=0.01, MaxIterations=10000)\n",
    "    RMSE.append(rmse)"
   ]
  },
  {
   "cell_type": "code",
   "execution_count": 51,
   "metadata": {},
   "outputs": [
    {
     "data": {
      "text/plain": [
       "[0.5213448104209367,\n",
       " 0.5215358385166607,\n",
       " 0.5283048482847658,\n",
       " 0.5682182502123586,\n",
       " 0.6121779031369071,\n",
       " 0.6747991086321717,\n",
       " 0.7725365756302147,\n",
       " 0.8446558901677197]"
      ]
     },
     "execution_count": 51,
     "metadata": {},
     "output_type": "execute_result"
    }
   ],
   "source": [
    "RMSE"
   ]
  },
  {
   "cell_type": "code",
   "execution_count": 52,
   "metadata": {},
   "outputs": [
    {
     "data": {
      "image/png": "[encoded data removed]",
      "text/plain": [
       "<Figure size 576x432 with 1 Axes>"
      ]
     },
     "metadata": {
      "needs_background": "light"
     },
     "output_type": "display_data"
    }
   ],
   "source": [
    "fig = plt.figure(figsize=(8, 6))\n",
    "ax1 = fig.add_subplot(111)\n",
    "ax1.plot(xx, RMSE)\n",
    "\n",
    "plt.xlabel('lambda', fontsize=18)\n",
    "plt.ylabel('RMSE', fontsize=16)\n",
    "plt.ylim(ymin = 0)\n",
    "plt.xlim(xmin = 0)\n",
    "plt.show()"
   ]
  },
  {
   "cell_type": "code",
   "execution_count": 53,
   "metadata": {},
   "outputs": [
    {
     "data": {
      "text/plain": [
       "0.5213440886854943"
      ]
     },
     "execution_count": 53,
     "metadata": {},
     "output_type": "execute_result"
    }
   ],
   "source": [
    "weights, rmse = multivariate_ols_2_3(X=X_train, Y=y_train, R=0.01, MaxIterations=10000)\n",
    "rmse"
   ]
  },
  {
   "cell_type": "markdown",
   "metadata": {},
   "source": [
    "We can see there's no significant difference in RMSE between lambda = 0.001 and lambda = 0.01  \n",
    "As lambda increases, the RMSE increases.So we can see from the list of RMSE that the best lambda is 0.01  \n",
    "Comparing to the RMSE from 3.2 using all 13 features, the RMSE is 0.52, while ridge has RMSE = 0.39, which is significantly smaller."
   ]
  },
  {
   "cell_type": "markdown",
   "metadata": {},
   "source": [
    "### 3.4 Cross-validate lambda\n",
    "\n",
    "Up to this point, you have been fitting models and performing regularization (and basic tuning of the lambda hyperparameter) without cross-validation. This could easily lead to overfitting. Fix this by using 5-fold cross-validation on your training set to repeat 3.3 in a more systematic way.\n",
    "\n",
    "Specifically, use 5-fold cross-validation to select the optimal value of lambda, using the lambda values `[0.0001,0.001,0.01,0.1,1,10,100,1000,10000,100000]`. For each value of lambda, you should run 5-fold cross-validation, and report the average cross-validated RMSE across the 5 validation folds.  Create a figure that plots the average cross-validated RMSE (y-axis) as a function of lambda (x-axis).\n",
    "\n",
    "Finally, select the value of lambda that minimizes cross-validated RMSE, and use it to evaluate test performance (remember, this is your holdout set from 1.3!). How does the test RMSE compare to the cross-validated RMSE? How does it compare to RMSE from nearest neighbors in PS3?\n",
    "\n",
    "\n",
    "*Note-*:\n",
    "* Don't forget to use standardized data!\n",
    "* Your plot might be prettier if you show the x-axis in log scale."
   ]
  },
  {
   "cell_type": "code",
   "execution_count": 54,
   "metadata": {
    "scrolled": true
   },
   "outputs": [
    {
     "name": "stderr",
     "output_type": "stream",
     "text": [
      "<ipython-input-49-ccfd3c164bd1>:29: RuntimeWarning: invalid value encountered in double_scalars\n",
      "  if abs(loss - new_loss) < 1e-9:\n",
      "<ipython-input-49-ccfd3c164bd1>:19: RuntimeWarning: overflow encountered in multiply\n",
      "  weights = (1 - R*L2_lambda)*weights - R * (1/m) * np.dot(X.T ,error)\n",
      "<ipython-input-49-ccfd3c164bd1>:19: RuntimeWarning: invalid value encountered in subtract\n",
      "  weights = (1 - R*L2_lambda)*weights - R * (1/m) * np.dot(X.T ,error)\n"
     ]
    }
   ],
   "source": [
    "AVG_RMSE = []\n",
    "lambdas = [0.0001,0.001,0.01,0.1,1,10,100,1000,10000,100000]\n",
    "\n",
    "\n",
    "for l2_lambda in lambdas:\n",
    "    kf = KFold(n_splits=5)\n",
    "    kf.get_n_splits(X_train)\n",
    "    RMSE = []\n",
    "    for train_index, test_index in kf.split(X_train):\n",
    "       \n",
    "        X_train_CV, X_test_CV = X_train.iloc[train_index], X_train.iloc[test_index]\n",
    "        y_train_CV, y_test_CV = y_train.iloc[train_index], y_train.iloc[test_index]\n",
    "\n",
    "        weights, rmse = multivariate_ols_ridge(X=X_train_CV, Y=y_train_CV, L2_lambda=l2_lambda, R=0.001, MaxIterations=10000)\n",
    "        #using trained folds to predict the left over fold\n",
    "        y_hat = np.dot(standardize(X_test_CV), weights)\n",
    "        error = standardize(y_test_CV) - y_hat\n",
    "        RMSE.append(np.mean(error**2))\n",
    "    AVG_RMSE.append(np.mean(RMSE))"
   ]
  },
  {
   "cell_type": "code",
   "execution_count": 55,
   "metadata": {
    "scrolled": false
   },
   "outputs": [
    {
     "data": {
      "text/plain": [
       "[0.2976166366822766,\n",
       " 0.3506333153924745,\n",
       " 0.31587692563979514,\n",
       " 0.2931470832490065,\n",
       " 0.38023656748206724,\n",
       " 0.7133675953619866,\n",
       " 0.952920638427399,\n",
       " 0.9949441982583078,\n",
       " nan,\n",
       " nan]"
      ]
     },
     "execution_count": 55,
     "metadata": {},
     "output_type": "execute_result"
    }
   ],
   "source": [
    "AVG_RMSE"
   ]
  },
  {
   "cell_type": "markdown",
   "metadata": {},
   "source": [
    "The last 2 lambdas are too big, which caused overflow. So I skip last three lambdas when drawing the plot"
   ]
  },
  {
   "cell_type": "code",
   "execution_count": 64,
   "metadata": {
    "scrolled": false
   },
   "outputs": [
    {
     "data": {
      "image/png": "[encoded data removed]",
      "text/plain": [
       "<Figure size 576x432 with 1 Axes>"
      ]
     },
     "metadata": {
      "needs_background": "light"
     },
     "output_type": "display_data"
    }
   ],
   "source": [
    "fig = plt.figure(figsize=(8, 6))\n",
    "ax1 = fig.add_subplot(111)\n",
    "ax1.plot(np.log(lambdas[:8]), AVG_RMSE[:8], marker='o')\n",
    "\n",
    "plt.xlabel('log lambda', fontsize=18)\n",
    "plt.ylabel('AVG RMSE from cross-validation', fontsize=16)\n",
    "plt.ylim(ymin = 0)\n",
    "plt.xlim(xmin = 0)\n",
    "plt.show()"
   ]
  },
  {
   "cell_type": "code",
   "execution_count": 57,
   "metadata": {},
   "outputs": [
    {
     "data": {
      "text/plain": [
       "0.1"
      ]
     },
     "execution_count": 57,
     "metadata": {},
     "output_type": "execute_result"
    }
   ],
   "source": [
    "lambdas[np.nanargmin(AVG_RMSE)]"
   ]
  },
  {
   "cell_type": "markdown",
   "metadata": {
    "collapsed": true
   },
   "source": [
    "So lambda = 0.01 is the best lambda we found from cross-validation."
   ]
  },
  {
   "cell_type": "code",
   "execution_count": 58,
   "metadata": {},
   "outputs": [],
   "source": [
    "weights, rmse = multivariate_ols_ridge(X=X_train, Y=y_train, L2_lambda=0.01, R=0.01, MaxIterations=10000)"
   ]
  },
  {
   "cell_type": "code",
   "execution_count": 59,
   "metadata": {},
   "outputs": [
    {
     "data": {
      "text/plain": [
       "0.24011130423322793"
      ]
     },
     "execution_count": 59,
     "metadata": {},
     "output_type": "execute_result"
    }
   ],
   "source": [
    "y_hat = np.dot(standardize(X_test), weights)\n",
    "error = standardize(y_test) - y_hat\n",
    "#TEST RMSE\n",
    "np.mean(error**2)"
   ]
  },
  {
   "cell_type": "code",
   "execution_count": 60,
   "metadata": {},
   "outputs": [],
   "source": [
    "def compute_rmse(predictions, yvalues):\n",
    "    rmse = np.sqrt(np.mean((yvalues - predictions)**2))\n",
    "    return rmse\n",
    "\n",
    "def distance(x1, x2, L):\n",
    "    x1 = np.array(x1)\n",
    "    x2 = np.array(x2)\n",
    "    dist = (np.sum(abs(x1-x2)**L))**(1/L)\n",
    "    return dist\n",
    "\n",
    "def nneighbor(x_train,y_train,x_test,y_test, L, features, display_time=True):\n",
    "    start_time = time.time()\n",
    "    preds = np.zeros(len(x_test))\n",
    "    for i in range(len(preds)):\n",
    "        dists = 10**10\n",
    "        xi = np.array(x_test.iloc[i,features])\n",
    "        for j in range(len(x_train)):\n",
    "            xj = np.array(x_train.iloc[j,features])\n",
    "            new_dist = distance(xi, xj, L)\n",
    "            if new_dist < dists:\n",
    "                dists = new_dist\n",
    "                preds[i] = y_train.iloc[j]\n",
    "    \n",
    "    rmse = compute_rmse(preds, y_test)\n",
    "    if display_time:\n",
    "        print(\"Time taken: {:.2f} seconds\".format(time.time() - start_time))\n",
    "    return rmse , preds"
   ]
  },
  {
   "cell_type": "code",
   "execution_count": 61,
   "metadata": {},
   "outputs": [
    {
     "name": "stdout",
     "output_type": "stream",
     "text": [
      "Time taken: 4.40 seconds\n",
      "the test rmse is 6.265999130070098\n"
     ]
    }
   ],
   "source": [
    "#KNN using all features\n",
    "test_rmse, test_preds = nneighbor(X_train,y_train, X_test, y_test, L=2, features=np.arange(0, 13))\n",
    "print(f\"the test rmse is {test_rmse}\")"
   ]
  },
  {
   "cell_type": "markdown",
   "metadata": {},
   "source": [
    "We can see that ridge has smaller RMSE"
   ]
  },
  {
   "cell_type": "markdown",
   "metadata": {},
   "source": [
    "###  Extra Credit 3: AdaGrad\n",
    "\n",
    "AdaGrad is a method to implement gradient descent with different learning rates for each feature. Adaptive algorithms like this one are being extensively used especially in deep learning applications. Implement AdaGrad on 2.3 but now use CRIM, RM and DIS as independent variables. Standardize these variables before before inputting them to the gradient descent algorithm."
   ]
  },
  {
   "cell_type": "code",
   "execution_count": 62,
   "metadata": {},
   "outputs": [],
   "source": [
    "# Your code here"
   ]
  },
  {
   "cell_type": "markdown",
   "metadata": {},
   "source": [
    "*Discuss your results here*"
   ]
  }
 ],
 "metadata": {
  "anaconda-cloud": {},
  "kernelspec": {
   "display_name": "Python 3",
   "language": "python",
   "name": "python3"
  },
  "language_info": {
   "codemirror_mode": {
    "name": "ipython",
    "version": 3
   },
   "file_extension": ".py",
   "mimetype": "text/x-python",
   "name": "python",
   "nbconvert_exporter": "python",
   "pygments_lexer": "ipython3",
   "version": "3.8.8"
  }
 },
 "nbformat": 4,
 "nbformat_minor": 1
}
