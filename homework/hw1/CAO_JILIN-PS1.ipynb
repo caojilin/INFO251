{
 "cells": [
  {
   "cell_type": "markdown",
   "metadata": {},
   "source": [
    "# Problem Set 1\n",
    "\n",
    "This problem set is meant to help you familiarize yourself with Python and Pandas. This is meant to be a very gentle introduction -- if you find this problem set to be difficult, you might want to consider taking a more introductory course.\n",
    "\n",
    "### Before You Start\n",
    "For this problem set, you should download INF0251-PS1.ipynb from bCourses. Create a local copy of the notebook and rename it LASTNAME_FIRSTNAME-PS1.ipynb. Then edit your renamed file directly in your browser by typing:\n",
    "```\n",
    "jupyter notebook <name_of_downloaded_file>\n",
    "```\n",
    "\n",
    "Make sure the following libraries load correctly (hit Ctrl-Enter).\n"
   ]
  },
  {
   "cell_type": "code",
   "execution_count": 2,
   "metadata": {},
   "outputs": [
    {
     "name": "stdout",
     "output_type": "stream",
     "text": [
      "IPython version:      7.19.0 (need at least 1.0)\n",
      "Numpy version:        1.19.5 (need at least 1.7.1)\n",
      "SciPy version:         1.6.0 (need at least 0.12.0)\n",
      "Pandas version:        1.2.1 (need at least 0.11.0)\n",
      "Maplotlib version:     3.3.3 (need at least 1.2.1)\n",
      "Scikit-Learn version: 0.24.1 (need at least 0.13.1)\n"
     ]
    }
   ],
   "source": [
    "#IPython is what you are using now to run the notebook\n",
    "import IPython\n",
    "print(\"IPython version:      %6.6s (need at least 1.0)\" % IPython.__version__)\n",
    "\n",
    "# Numpy is a library for working with Arrays\n",
    "import numpy as np\n",
    "print(\"Numpy version:        %6.6s (need at least 1.7.1)\" % np.__version__)\n",
    "\n",
    "# SciPy implements many different numerical algorithms\n",
    "import scipy as sp\n",
    "print(\"SciPy version:        %6.6s (need at least 0.12.0)\" % sp.__version__)\n",
    "\n",
    "# Pandas makes working with data tables easier\n",
    "import pandas as pd\n",
    "print(\"Pandas version:       %6.6s (need at least 0.11.0)\" % pd.__version__)\n",
    "\n",
    "# Module for plotting\n",
    "import matplotlib\n",
    "print(\"Maplotlib version:    %6.6s (need at least 1.2.1)\" % matplotlib.__version__)\n",
    "\n",
    "# SciKit Learn implements several Machine Learning algorithms\n",
    "import sklearn\n",
    "print(\"Scikit-Learn version: %6.6s (need at least 0.13.1)\" % sklearn.__version__)"
   ]
  },
  {
   "cell_type": "markdown",
   "metadata": {},
   "source": [
    "### Working in a group?\n",
    "List the names of other students with whom you worked on this problem set:\n",
    "- *Person 1*\n",
    "- *Person 2*\n",
    "- ..."
   ]
  },
  {
   "cell_type": "markdown",
   "metadata": {},
   "source": [
    "---\n",
    "\n",
    "## Introduction to the assignment\n",
    "\n",
    "For this assignment, you will be using the [Boston Housing Prices Data Set]( https://archive.ics.uci.edu/ml/machine-learning-databases/housing/).  Please read about the dataset carefully before continuing -- it is worth investing a few minutes up front otherwise you are likely to be hopelessly confused! Also, if you're new to analyzing data in Python, please make sure to read the relevant readings linked to on Canvas before beginning, otherwise you'll be stabbing in the dark.\n",
    "\n",
    "You can read more about the dataset [here](http://lib.stat.cmu.edu/datasets/boston)\n",
    "\n",
    "Use the following commands to load the dataset:\n"
   ]
  },
  {
   "cell_type": "code",
   "execution_count": 3,
   "metadata": {},
   "outputs": [],
   "source": [
    "from sklearn.datasets import load_boston\n",
    "bdata = load_boston()"
   ]
  },
  {
   "cell_type": "markdown",
   "metadata": {},
   "source": [
    "The following commands will provide some basic information about the shape of the data:"
   ]
  },
  {
   "cell_type": "code",
   "execution_count": 4,
   "metadata": {},
   "outputs": [
    {
     "name": "stdout",
     "output_type": "stream",
     "text": [
      "dict_keys(['data', 'target', 'feature_names', 'DESCR', 'filename'])\n",
      "['CRIM' 'ZN' 'INDUS' 'CHAS' 'NOX' 'RM' 'AGE' 'DIS' 'RAD' 'TAX' 'PTRATIO'\n",
      " 'B' 'LSTAT']\n",
      "(506, 13)\n",
      "(506,)\n"
     ]
    }
   ],
   "source": [
    "print(bdata.keys())\n",
    "print(bdata.feature_names)\n",
    "print(bdata.data.shape)\n",
    "print(bdata.target.shape)\n",
    "\n",
    "# uncomment the following if you want to see a lengthy description of the dataset\n",
    "# print(bdata.DESCR)"
   ]
  },
  {
   "cell_type": "code",
   "execution_count": 5,
   "metadata": {},
   "outputs": [],
   "source": [
    "boston = pd.DataFrame(bdata.data)\n",
    "boston.columns = bdata.feature_names"
   ]
  },
  {
   "cell_type": "code",
   "execution_count": 6,
   "metadata": {},
   "outputs": [
    {
     "data": {
      "text/html": [
       "<div>\n",
       "<style scoped>\n",
       "    .dataframe tbody tr th:only-of-type {\n",
       "        vertical-align: middle;\n",
       "    }\n",
       "\n",
       "    .dataframe tbody tr th {\n",
       "        vertical-align: top;\n",
       "    }\n",
       "\n",
       "    .dataframe thead th {\n",
       "        text-align: right;\n",
       "    }\n",
       "</style>\n",
       "<table border=\"1\" class=\"dataframe\">\n",
       "  <thead>\n",
       "    <tr style=\"text-align: right;\">\n",
       "      <th></th>\n",
       "      <th>CRIM</th>\n",
       "      <th>ZN</th>\n",
       "      <th>INDUS</th>\n",
       "      <th>CHAS</th>\n",
       "      <th>NOX</th>\n",
       "      <th>RM</th>\n",
       "      <th>AGE</th>\n",
       "      <th>DIS</th>\n",
       "      <th>RAD</th>\n",
       "      <th>TAX</th>\n",
       "      <th>PTRATIO</th>\n",
       "      <th>B</th>\n",
       "      <th>LSTAT</th>\n",
       "      <th>MEDV</th>\n",
       "    </tr>\n",
       "  </thead>\n",
       "  <tbody>\n",
       "    <tr>\n",
       "      <th>0</th>\n",
       "      <td>0.00632</td>\n",
       "      <td>18.0</td>\n",
       "      <td>2.31</td>\n",
       "      <td>0.0</td>\n",
       "      <td>0.538</td>\n",
       "      <td>6.575</td>\n",
       "      <td>65.2</td>\n",
       "      <td>4.0900</td>\n",
       "      <td>1.0</td>\n",
       "      <td>296.0</td>\n",
       "      <td>15.3</td>\n",
       "      <td>396.90</td>\n",
       "      <td>4.98</td>\n",
       "      <td>24.0</td>\n",
       "    </tr>\n",
       "    <tr>\n",
       "      <th>1</th>\n",
       "      <td>0.02731</td>\n",
       "      <td>0.0</td>\n",
       "      <td>7.07</td>\n",
       "      <td>0.0</td>\n",
       "      <td>0.469</td>\n",
       "      <td>6.421</td>\n",
       "      <td>78.9</td>\n",
       "      <td>4.9671</td>\n",
       "      <td>2.0</td>\n",
       "      <td>242.0</td>\n",
       "      <td>17.8</td>\n",
       "      <td>396.90</td>\n",
       "      <td>9.14</td>\n",
       "      <td>21.6</td>\n",
       "    </tr>\n",
       "    <tr>\n",
       "      <th>2</th>\n",
       "      <td>0.02729</td>\n",
       "      <td>0.0</td>\n",
       "      <td>7.07</td>\n",
       "      <td>0.0</td>\n",
       "      <td>0.469</td>\n",
       "      <td>7.185</td>\n",
       "      <td>61.1</td>\n",
       "      <td>4.9671</td>\n",
       "      <td>2.0</td>\n",
       "      <td>242.0</td>\n",
       "      <td>17.8</td>\n",
       "      <td>392.83</td>\n",
       "      <td>4.03</td>\n",
       "      <td>34.7</td>\n",
       "    </tr>\n",
       "    <tr>\n",
       "      <th>3</th>\n",
       "      <td>0.03237</td>\n",
       "      <td>0.0</td>\n",
       "      <td>2.18</td>\n",
       "      <td>0.0</td>\n",
       "      <td>0.458</td>\n",
       "      <td>6.998</td>\n",
       "      <td>45.8</td>\n",
       "      <td>6.0622</td>\n",
       "      <td>3.0</td>\n",
       "      <td>222.0</td>\n",
       "      <td>18.7</td>\n",
       "      <td>394.63</td>\n",
       "      <td>2.94</td>\n",
       "      <td>33.4</td>\n",
       "    </tr>\n",
       "    <tr>\n",
       "      <th>4</th>\n",
       "      <td>0.06905</td>\n",
       "      <td>0.0</td>\n",
       "      <td>2.18</td>\n",
       "      <td>0.0</td>\n",
       "      <td>0.458</td>\n",
       "      <td>7.147</td>\n",
       "      <td>54.2</td>\n",
       "      <td>6.0622</td>\n",
       "      <td>3.0</td>\n",
       "      <td>222.0</td>\n",
       "      <td>18.7</td>\n",
       "      <td>396.90</td>\n",
       "      <td>5.33</td>\n",
       "      <td>36.2</td>\n",
       "    </tr>\n",
       "  </tbody>\n",
       "</table>\n",
       "</div>"
      ],
      "text/plain": [
       "      CRIM    ZN  INDUS  CHAS    NOX     RM   AGE     DIS  RAD    TAX  \\\n",
       "0  0.00632  18.0   2.31   0.0  0.538  6.575  65.2  4.0900  1.0  296.0   \n",
       "1  0.02731   0.0   7.07   0.0  0.469  6.421  78.9  4.9671  2.0  242.0   \n",
       "2  0.02729   0.0   7.07   0.0  0.469  7.185  61.1  4.9671  2.0  242.0   \n",
       "3  0.03237   0.0   2.18   0.0  0.458  6.998  45.8  6.0622  3.0  222.0   \n",
       "4  0.06905   0.0   2.18   0.0  0.458  7.147  54.2  6.0622  3.0  222.0   \n",
       "\n",
       "   PTRATIO       B  LSTAT  MEDV  \n",
       "0     15.3  396.90   4.98  24.0  \n",
       "1     17.8  396.90   9.14  21.6  \n",
       "2     17.8  392.83   4.03  34.7  \n",
       "3     18.7  394.63   2.94  33.4  \n",
       "4     18.7  396.90   5.33  36.2  "
      ]
     },
     "execution_count": 6,
     "metadata": {},
     "output_type": "execute_result"
    }
   ],
   "source": [
    "boston['MEDV'] = bdata.target\n",
    "boston.head()"
   ]
  },
  {
   "cell_type": "markdown",
   "metadata": {},
   "source": [
    "---\n",
    "\n",
    "## Part 1: Descriptive analysis\n",
    "\n",
    "### 1.1: Explore the data\n",
    "\n",
    "Let's dig into the data a bit to see what we're dealing with. The first thing to do is to make sure you understand how the data is organized, what the data types are, whether there is any missing data, and so forth. Get your bearings on your own, then answer the following questions.\n",
    "\n",
    " - 1.1.1: How many different variables are there in the dataset, and how many different observations?\n",
    " - 1.1.2: How many instances are classified as neighborhoods where the tract bounds the Charles River? \n",
    " - 1.1.3: Show that dataset does not contain any missing values.\n",
    " - 1.1.4: Display the property tax rate in the 5 neighborhoods that have the highest median housing price."
   ]
  },
  {
   "cell_type": "code",
   "execution_count": 7,
   "metadata": {},
   "outputs": [],
   "source": [
    "#I added target variable 'MEDV' to the data frame."
   ]
  },
  {
   "cell_type": "code",
   "execution_count": 8,
   "metadata": {},
   "outputs": [
    {
     "data": {
      "text/plain": [
       "(506, 14)"
      ]
     },
     "execution_count": 8,
     "metadata": {},
     "output_type": "execute_result"
    }
   ],
   "source": [
    "#1.1.1\n",
    "#506 observations and 14 variables\n",
    "boston.shape"
   ]
  },
  {
   "cell_type": "code",
   "execution_count": 9,
   "metadata": {},
   "outputs": [
    {
     "data": {
      "text/plain": [
       "(35, 14)"
      ]
     },
     "execution_count": 9,
     "metadata": {},
     "output_type": "execute_result"
    }
   ],
   "source": [
    "#1.1.2\n",
    "#35 instances\n",
    "boston[boston['CHAS'] == 1].shape"
   ]
  },
  {
   "cell_type": "code",
   "execution_count": 10,
   "metadata": {},
   "outputs": [
    {
     "data": {
      "text/plain": [
       "0"
      ]
     },
     "execution_count": 10,
     "metadata": {},
     "output_type": "execute_result"
    }
   ],
   "source": [
    "#1.1.3\n",
    "boston.isnull().sum().sum()"
   ]
  },
  {
   "cell_type": "code",
   "execution_count": 11,
   "metadata": {},
   "outputs": [
    {
     "data": {
      "text/plain": [
       "283    198.0\n",
       "225    307.0\n",
       "369    666.0\n",
       "370    666.0\n",
       "371    666.0\n",
       "Name: TAX, dtype: float64"
      ]
     },
     "execution_count": 11,
     "metadata": {},
     "output_type": "execute_result"
    }
   ],
   "source": [
    "#1.1.4\n",
    "#sort median housing price first, then select first 5 values of property tax rate\n",
    "boston.sort_values(by='MEDV', ascending=False)['TAX'][:5]"
   ]
  },
  {
   "cell_type": "markdown",
   "metadata": {},
   "source": [
    "### 1.2: Answer some basic questions\n",
    " - 1.2.1: What is the median housing price in Boston's most expensive neighborhood? (As far as ties are concerned, just use the top 5 values to break the ties)\n",
    " - 1.2.2: How many neighborhoods have, on average, less than 3 rooms per dwelling?\n",
    " - 1.2.3: What is the property tax rate in the least expensive neighborhood that is also adjacent to the Charles River?\n",
    " - 1.2.4: What is the crime rate in the neighborhood with the highest median housing price? \n",
    " - 1.2.5: What is the crime rate in the neighborhood with the lowest median housing price?\n"
   ]
  },
  {
   "cell_type": "code",
   "execution_count": 12,
   "metadata": {},
   "outputs": [
    {
     "data": {
      "text/plain": [
       "50.0"
      ]
     },
     "execution_count": 12,
     "metadata": {},
     "output_type": "execute_result"
    }
   ],
   "source": [
    "#1.2.1\n",
    "#the median housing price in Boston's most expensive neighborhood is 50\n",
    "boston.sort_values(by='MEDV', ascending=False)['MEDV'].iloc[0]"
   ]
  },
  {
   "cell_type": "code",
   "execution_count": 13,
   "metadata": {},
   "outputs": [
    {
     "data": {
      "text/plain": [
       "0"
      ]
     },
     "execution_count": 13,
     "metadata": {},
     "output_type": "execute_result"
    }
   ],
   "source": [
    "#1.2.2\n",
    "sum(boston['RM'] < 3)"
   ]
  },
  {
   "cell_type": "code",
   "execution_count": 14,
   "metadata": {},
   "outputs": [
    {
     "data": {
      "text/plain": [
       "403.0"
      ]
     },
     "execution_count": 14,
     "metadata": {},
     "output_type": "execute_result"
    }
   ],
   "source": [
    "#1.2.3\n",
    "df = boston.sort_values(by='MEDV', ascending=True)\n",
    "df[df['CHAS']== 1]['TAX'].iloc[0]"
   ]
  },
  {
   "cell_type": "code",
   "execution_count": 15,
   "metadata": {},
   "outputs": [
    {
     "data": {
      "text/plain": [
       "283    0.01501\n",
       "225    0.52693\n",
       "369    5.66998\n",
       "370    6.53876\n",
       "371    9.23230\n",
       "Name: CRIM, dtype: float64"
      ]
     },
     "execution_count": 15,
     "metadata": {},
     "output_type": "execute_result"
    }
   ],
   "source": [
    "#1.2.4\n",
    "boston.sort_values(by='MEDV', ascending=False)['CRIM'][:5]"
   ]
  },
  {
   "cell_type": "code",
   "execution_count": 16,
   "metadata": {},
   "outputs": [
    {
     "data": {
      "text/plain": [
       "398    38.3518\n",
       "405    67.9208\n",
       "Name: CRIM, dtype: float64"
      ]
     },
     "execution_count": 16,
     "metadata": {},
     "output_type": "execute_result"
    }
   ],
   "source": [
    "#1.2.5\n",
    "boston.sort_values(by='MEDV', ascending=True)['CRIM'][:2]"
   ]
  },
  {
   "cell_type": "markdown",
   "metadata": {},
   "source": [
    "### 1.3: Summary statistics\n",
    "\n",
    "Create a clean, organized table that shows just the following information (no more, no less) for each variable in the dataset. Note that your table should have K rows (one for each variable) and 7 columns, ordered as below:\n",
    " - The name of the variable\n",
    " - The number of observations with non-missing values\n",
    " - The mean of the variable\n",
    " - The standard deviation of the variable\n",
    " - The minimum value of the variable\n",
    " - The median of the variable\n",
    " - The maximum value of the variable"
   ]
  },
  {
   "cell_type": "code",
   "execution_count": 17,
   "metadata": {},
   "outputs": [],
   "source": [
    "df = pd.DataFrame(np.zeros((14,7)), columns=['name', 'num of non-missing obs', 'mean','sd','min','median','max'])"
   ]
  },
  {
   "cell_type": "code",
   "execution_count": 18,
   "metadata": {},
   "outputs": [],
   "source": [
    "df['name'] = ['CRIM', 'ZN', 'INDUS', 'CHAS', 'NOX', 'RM', 'AGE', 'DIS', 'RAD', 'TAX',\n",
    "       'PTRATIO', 'B', 'LSTAT', 'MEDV']\n",
    "df['num of non-missing obs'] = np.array(boston.count())\n",
    "df['mean'] = np.array(boston.mean())\n",
    "df['sd'] = np.array(boston.std())\n",
    "df['min'] = np.array(boston.min())\n",
    "df['median'] = np.array(boston.median())\n",
    "df['max'] = np.array(boston.max())"
   ]
  },
  {
   "cell_type": "code",
   "execution_count": 19,
   "metadata": {},
   "outputs": [
    {
     "data": {
      "text/html": [
       "<div>\n",
       "<style scoped>\n",
       "    .dataframe tbody tr th:only-of-type {\n",
       "        vertical-align: middle;\n",
       "    }\n",
       "\n",
       "    .dataframe tbody tr th {\n",
       "        vertical-align: top;\n",
       "    }\n",
       "\n",
       "    .dataframe thead th {\n",
       "        text-align: right;\n",
       "    }\n",
       "</style>\n",
       "<table border=\"1\" class=\"dataframe\">\n",
       "  <thead>\n",
       "    <tr style=\"text-align: right;\">\n",
       "      <th></th>\n",
       "      <th>name</th>\n",
       "      <th>num of non-missing obs</th>\n",
       "      <th>mean</th>\n",
       "      <th>sd</th>\n",
       "      <th>min</th>\n",
       "      <th>median</th>\n",
       "      <th>max</th>\n",
       "    </tr>\n",
       "  </thead>\n",
       "  <tbody>\n",
       "    <tr>\n",
       "      <th>0</th>\n",
       "      <td>CRIM</td>\n",
       "      <td>506</td>\n",
       "      <td>3.613524</td>\n",
       "      <td>8.601545</td>\n",
       "      <td>0.00632</td>\n",
       "      <td>0.25651</td>\n",
       "      <td>88.9762</td>\n",
       "    </tr>\n",
       "    <tr>\n",
       "      <th>1</th>\n",
       "      <td>ZN</td>\n",
       "      <td>506</td>\n",
       "      <td>11.363636</td>\n",
       "      <td>23.322453</td>\n",
       "      <td>0.00000</td>\n",
       "      <td>0.00000</td>\n",
       "      <td>100.0000</td>\n",
       "    </tr>\n",
       "    <tr>\n",
       "      <th>2</th>\n",
       "      <td>INDUS</td>\n",
       "      <td>506</td>\n",
       "      <td>11.136779</td>\n",
       "      <td>6.860353</td>\n",
       "      <td>0.46000</td>\n",
       "      <td>9.69000</td>\n",
       "      <td>27.7400</td>\n",
       "    </tr>\n",
       "    <tr>\n",
       "      <th>3</th>\n",
       "      <td>CHAS</td>\n",
       "      <td>506</td>\n",
       "      <td>0.069170</td>\n",
       "      <td>0.253994</td>\n",
       "      <td>0.00000</td>\n",
       "      <td>0.00000</td>\n",
       "      <td>1.0000</td>\n",
       "    </tr>\n",
       "    <tr>\n",
       "      <th>4</th>\n",
       "      <td>NOX</td>\n",
       "      <td>506</td>\n",
       "      <td>0.554695</td>\n",
       "      <td>0.115878</td>\n",
       "      <td>0.38500</td>\n",
       "      <td>0.53800</td>\n",
       "      <td>0.8710</td>\n",
       "    </tr>\n",
       "    <tr>\n",
       "      <th>5</th>\n",
       "      <td>RM</td>\n",
       "      <td>506</td>\n",
       "      <td>6.284634</td>\n",
       "      <td>0.702617</td>\n",
       "      <td>3.56100</td>\n",
       "      <td>6.20850</td>\n",
       "      <td>8.7800</td>\n",
       "    </tr>\n",
       "    <tr>\n",
       "      <th>6</th>\n",
       "      <td>AGE</td>\n",
       "      <td>506</td>\n",
       "      <td>68.574901</td>\n",
       "      <td>28.148861</td>\n",
       "      <td>2.90000</td>\n",
       "      <td>77.50000</td>\n",
       "      <td>100.0000</td>\n",
       "    </tr>\n",
       "    <tr>\n",
       "      <th>7</th>\n",
       "      <td>DIS</td>\n",
       "      <td>506</td>\n",
       "      <td>3.795043</td>\n",
       "      <td>2.105710</td>\n",
       "      <td>1.12960</td>\n",
       "      <td>3.20745</td>\n",
       "      <td>12.1265</td>\n",
       "    </tr>\n",
       "    <tr>\n",
       "      <th>8</th>\n",
       "      <td>RAD</td>\n",
       "      <td>506</td>\n",
       "      <td>9.549407</td>\n",
       "      <td>8.707259</td>\n",
       "      <td>1.00000</td>\n",
       "      <td>5.00000</td>\n",
       "      <td>24.0000</td>\n",
       "    </tr>\n",
       "    <tr>\n",
       "      <th>9</th>\n",
       "      <td>TAX</td>\n",
       "      <td>506</td>\n",
       "      <td>408.237154</td>\n",
       "      <td>168.537116</td>\n",
       "      <td>187.00000</td>\n",
       "      <td>330.00000</td>\n",
       "      <td>711.0000</td>\n",
       "    </tr>\n",
       "    <tr>\n",
       "      <th>10</th>\n",
       "      <td>PTRATIO</td>\n",
       "      <td>506</td>\n",
       "      <td>18.455534</td>\n",
       "      <td>2.164946</td>\n",
       "      <td>12.60000</td>\n",
       "      <td>19.05000</td>\n",
       "      <td>22.0000</td>\n",
       "    </tr>\n",
       "    <tr>\n",
       "      <th>11</th>\n",
       "      <td>B</td>\n",
       "      <td>506</td>\n",
       "      <td>356.674032</td>\n",
       "      <td>91.294864</td>\n",
       "      <td>0.32000</td>\n",
       "      <td>391.44000</td>\n",
       "      <td>396.9000</td>\n",
       "    </tr>\n",
       "    <tr>\n",
       "      <th>12</th>\n",
       "      <td>LSTAT</td>\n",
       "      <td>506</td>\n",
       "      <td>12.653063</td>\n",
       "      <td>7.141062</td>\n",
       "      <td>1.73000</td>\n",
       "      <td>11.36000</td>\n",
       "      <td>37.9700</td>\n",
       "    </tr>\n",
       "    <tr>\n",
       "      <th>13</th>\n",
       "      <td>MEDV</td>\n",
       "      <td>506</td>\n",
       "      <td>22.532806</td>\n",
       "      <td>9.197104</td>\n",
       "      <td>5.00000</td>\n",
       "      <td>21.20000</td>\n",
       "      <td>50.0000</td>\n",
       "    </tr>\n",
       "  </tbody>\n",
       "</table>\n",
       "</div>"
      ],
      "text/plain": [
       "       name  num of non-missing obs        mean          sd        min  \\\n",
       "0      CRIM                     506    3.613524    8.601545    0.00632   \n",
       "1        ZN                     506   11.363636   23.322453    0.00000   \n",
       "2     INDUS                     506   11.136779    6.860353    0.46000   \n",
       "3      CHAS                     506    0.069170    0.253994    0.00000   \n",
       "4       NOX                     506    0.554695    0.115878    0.38500   \n",
       "5        RM                     506    6.284634    0.702617    3.56100   \n",
       "6       AGE                     506   68.574901   28.148861    2.90000   \n",
       "7       DIS                     506    3.795043    2.105710    1.12960   \n",
       "8       RAD                     506    9.549407    8.707259    1.00000   \n",
       "9       TAX                     506  408.237154  168.537116  187.00000   \n",
       "10  PTRATIO                     506   18.455534    2.164946   12.60000   \n",
       "11        B                     506  356.674032   91.294864    0.32000   \n",
       "12    LSTAT                     506   12.653063    7.141062    1.73000   \n",
       "13     MEDV                     506   22.532806    9.197104    5.00000   \n",
       "\n",
       "       median       max  \n",
       "0     0.25651   88.9762  \n",
       "1     0.00000  100.0000  \n",
       "2     9.69000   27.7400  \n",
       "3     0.00000    1.0000  \n",
       "4     0.53800    0.8710  \n",
       "5     6.20850    8.7800  \n",
       "6    77.50000  100.0000  \n",
       "7     3.20745   12.1265  \n",
       "8     5.00000   24.0000  \n",
       "9   330.00000  711.0000  \n",
       "10   19.05000   22.0000  \n",
       "11  391.44000  396.9000  \n",
       "12   11.36000   37.9700  \n",
       "13   21.20000   50.0000  "
      ]
     },
     "execution_count": 19,
     "metadata": {},
     "output_type": "execute_result"
    }
   ],
   "source": [
    "df"
   ]
  },
  {
   "cell_type": "markdown",
   "metadata": {},
   "source": [
    "### 1.4 Simple statistical tests\n",
    "\n",
    "Is the median house value in locations that are adjacent to the Charles River different from the median house value in locations that are not adjacent to the Charles River? Use a t-test to answer this question. Clearly state the null and alternative hypothesis for your test."
   ]
  },
  {
   "cell_type": "markdown",
   "metadata": {},
   "source": [
    "**null hypothesis**: the median house value in locations that are adjacent to the Charles River is **same** as that are not adjacent to the Charles River  \n",
    "\n",
    "**alternative hypothesis**: the median house value in locations that are adjacent to the Charles River is different from that are not adjacent to the Charles River\n"
   ]
  },
  {
   "cell_type": "code",
   "execution_count": 20,
   "metadata": {},
   "outputs": [
    {
     "data": {
      "text/plain": [
       "Ttest_indResult(statistic=3.996437466090509, pvalue=7.390623170519905e-05)"
      ]
     },
     "execution_count": 20,
     "metadata": {},
     "output_type": "execute_result"
    }
   ],
   "source": [
    "sample1 = boston[boston['CHAS'] == 1]['MEDV']\n",
    "sample2 = boston[boston['CHAS'] == 0]['MEDV']\n",
    "from scipy.stats import ttest_ind\n",
    "ttest_ind(sample1, sample2)"
   ]
  },
  {
   "cell_type": "markdown",
   "metadata": {},
   "source": [
    "p-value < 5%, thus we reject the null"
   ]
  },
  {
   "cell_type": "markdown",
   "metadata": {},
   "source": [
    "### 1.5 Simple Linear Regression\n",
    "\n",
    "Estimate a linear regression of housing value (the dependent variable) on \"% lower status of the population\" (the independent variable), with no other control variables. Interpret the coefficients and standard errors. Interpret the R2 value. Based on this evidence, can you conclude anything about the causal effect of increasing the \"% lower status of the population\" on housing value?"
   ]
  },
  {
   "cell_type": "code",
   "execution_count": 21,
   "metadata": {},
   "outputs": [],
   "source": [
    "x = np.reshape(np.array(boston['LSTAT']), (-1,1))\n",
    "y = boston['MEDV']"
   ]
  },
  {
   "cell_type": "code",
   "execution_count": 22,
   "metadata": {},
   "outputs": [
    {
     "data": {
      "text/html": [
       "<table class=\"simpletable\">\n",
       "<caption>OLS Regression Results</caption>\n",
       "<tr>\n",
       "  <th>Dep. Variable:</th>          <td>MEDV</td>       <th>  R-squared:         </th> <td>   0.544</td>\n",
       "</tr>\n",
       "<tr>\n",
       "  <th>Model:</th>                   <td>OLS</td>       <th>  Adj. R-squared:    </th> <td>   0.543</td>\n",
       "</tr>\n",
       "<tr>\n",
       "  <th>Method:</th>             <td>Least Squares</td>  <th>  F-statistic:       </th> <td>   601.6</td>\n",
       "</tr>\n",
       "<tr>\n",
       "  <th>Date:</th>             <td>Sun, 24 Jan 2021</td> <th>  Prob (F-statistic):</th> <td>5.08e-88</td>\n",
       "</tr>\n",
       "<tr>\n",
       "  <th>Time:</th>                 <td>11:02:25</td>     <th>  Log-Likelihood:    </th> <td> -1641.5</td>\n",
       "</tr>\n",
       "<tr>\n",
       "  <th>No. Observations:</th>      <td>   506</td>      <th>  AIC:               </th> <td>   3287.</td>\n",
       "</tr>\n",
       "<tr>\n",
       "  <th>Df Residuals:</th>          <td>   504</td>      <th>  BIC:               </th> <td>   3295.</td>\n",
       "</tr>\n",
       "<tr>\n",
       "  <th>Df Model:</th>              <td>     1</td>      <th>                     </th>     <td> </td>   \n",
       "</tr>\n",
       "<tr>\n",
       "  <th>Covariance Type:</th>      <td>nonrobust</td>    <th>                     </th>     <td> </td>   \n",
       "</tr>\n",
       "</table>\n",
       "<table class=\"simpletable\">\n",
       "<tr>\n",
       "    <td></td>       <th>coef</th>     <th>std err</th>      <th>t</th>      <th>P>|t|</th>  <th>[0.025</th>    <th>0.975]</th>  \n",
       "</tr>\n",
       "<tr>\n",
       "  <th>const</th> <td>   34.5538</td> <td>    0.563</td> <td>   61.415</td> <td> 0.000</td> <td>   33.448</td> <td>   35.659</td>\n",
       "</tr>\n",
       "<tr>\n",
       "  <th>x1</th>    <td>   -0.9500</td> <td>    0.039</td> <td>  -24.528</td> <td> 0.000</td> <td>   -1.026</td> <td>   -0.874</td>\n",
       "</tr>\n",
       "</table>\n",
       "<table class=\"simpletable\">\n",
       "<tr>\n",
       "  <th>Omnibus:</th>       <td>137.043</td> <th>  Durbin-Watson:     </th> <td>   0.892</td>\n",
       "</tr>\n",
       "<tr>\n",
       "  <th>Prob(Omnibus):</th> <td> 0.000</td>  <th>  Jarque-Bera (JB):  </th> <td> 291.373</td>\n",
       "</tr>\n",
       "<tr>\n",
       "  <th>Skew:</th>          <td> 1.453</td>  <th>  Prob(JB):          </th> <td>5.36e-64</td>\n",
       "</tr>\n",
       "<tr>\n",
       "  <th>Kurtosis:</th>      <td> 5.319</td>  <th>  Cond. No.          </th> <td>    29.7</td>\n",
       "</tr>\n",
       "</table><br/><br/>Notes:<br/>[1] Standard Errors assume that the covariance matrix of the errors is correctly specified."
      ],
      "text/plain": [
       "<class 'statsmodels.iolib.summary.Summary'>\n",
       "\"\"\"\n",
       "                            OLS Regression Results                            \n",
       "==============================================================================\n",
       "Dep. Variable:                   MEDV   R-squared:                       0.544\n",
       "Model:                            OLS   Adj. R-squared:                  0.543\n",
       "Method:                 Least Squares   F-statistic:                     601.6\n",
       "Date:                Sun, 24 Jan 2021   Prob (F-statistic):           5.08e-88\n",
       "Time:                        11:02:25   Log-Likelihood:                -1641.5\n",
       "No. Observations:                 506   AIC:                             3287.\n",
       "Df Residuals:                     504   BIC:                             3295.\n",
       "Df Model:                           1                                         \n",
       "Covariance Type:            nonrobust                                         \n",
       "==============================================================================\n",
       "                 coef    std err          t      P>|t|      [0.025      0.975]\n",
       "------------------------------------------------------------------------------\n",
       "const         34.5538      0.563     61.415      0.000      33.448      35.659\n",
       "x1            -0.9500      0.039    -24.528      0.000      -1.026      -0.874\n",
       "==============================================================================\n",
       "Omnibus:                      137.043   Durbin-Watson:                   0.892\n",
       "Prob(Omnibus):                  0.000   Jarque-Bera (JB):              291.373\n",
       "Skew:                           1.453   Prob(JB):                     5.36e-64\n",
       "Kurtosis:                       5.319   Cond. No.                         29.7\n",
       "==============================================================================\n",
       "\n",
       "Notes:\n",
       "[1] Standard Errors assume that the covariance matrix of the errors is correctly specified.\n",
       "\"\"\""
      ]
     },
     "execution_count": 22,
     "metadata": {},
     "output_type": "execute_result"
    }
   ],
   "source": [
    "import statsmodels.api as sm\n",
    "x = sm.add_constant(x)\n",
    "model = sm.OLS(y, x).fit()\n",
    "predictions = model.predict(x)\n",
    "model.summary()"
   ]
  },
  {
   "cell_type": "markdown",
   "metadata": {},
   "source": [
    "Coefficient for `LSTAT` is -0.9500. SD is 0.039. It is statistically significant in predicting 'MEDV'  \n",
    "R-squared means our model explains 54.4% of the variance in dependent variable  \n",
    "We cannot conclude causal effect because in this setting we can only say association."
   ]
  },
  {
   "cell_type": "markdown",
   "metadata": {},
   "source": [
    "---\n",
    "\n",
    "## Part 2: Histograms and Boxplots\n",
    "\n",
    "\n",
    "### 2.1: Histogram of housing prices\n",
    "\n",
    "Below you will find some very basic code to make a very basic histogram of median housing prices (the \"target\" variable) for your dataset.  Your first task is to make this graph look pretty by doing the following:\n",
    "\n",
    "1. Add appropriate labels to the x and y axes, make sure to include units\n",
    "2. Change the bin width on the histogram to be $1000\n",
    "3. Remove the axes on the top and right side of the plot window\n",
    "4. Change the color of the bars to be green, and remove the black borders from the bars\n"
   ]
  },
  {
   "cell_type": "code",
   "execution_count": 23,
   "metadata": {},
   "outputs": [
    {
     "data": {
      "image/png": "[encoded data removed]",
      "text/plain": [
       "<Figure size 432x288 with 1 Axes>"
      ]
     },
     "metadata": {
      "needs_background": "light"
     },
     "output_type": "display_data"
    }
   ],
   "source": [
    "# prepare IPython to work with matplotlib and import the library to something convenient\n",
    "# %matplotlib inline  \n",
    "import matplotlib.pyplot as plt  \n",
    "fig, ax = plt.subplots()\n",
    "\n",
    "# Hide the right and top spines\n",
    "ax.spines['right'].set_visible(False)\n",
    "ax.spines['top'].set_visible(False)\n",
    "\n",
    "#Change the bin width on the histogram to be $1000, every bar is now representing $1000\n",
    "bins_list = list(range(0, 50, 1))\n",
    "\n",
    "#Change the color of the bars to be green, and remove the black borders from the bars\n",
    "plt.hist(bdata.target, color='green',edgecolor='none', bins=bins_list)\n",
    "\n",
    "#Add appropriate labels to the x and y axes, make sure to include units\n",
    "plt.xlabel('median housing prices in $1000')\n",
    "plt.ylabel('Frequency')\n",
    "\n",
    "\n",
    "plt.show()"
   ]
  },
  {
   "cell_type": "markdown",
   "metadata": {},
   "source": [
    "### 2.2: Boxplot of housing prices\n",
    "\n",
    "Create a **horizontal** boxplot that shows the distribution of the median value of houses (y-axis) that are adjacent to the Charles river and the houses that are not adjacent to the Charles rivers. Properly label your axes, and make sure that your graphic looks polished and professional."
   ]
  },
  {
   "cell_type": "code",
   "execution_count": 25,
   "metadata": {},
   "outputs": [
    {
     "data": {
      "image/png": "[encoded data removed]",
      "text/plain": [
       "<Figure size 432x288 with 1 Axes>"
      ]
     },
     "metadata": {
      "needs_background": "light"
     },
     "output_type": "display_data"
    }
   ],
   "source": [
    "MEDV_adjacent_to_CHAS = boston[boston['CHAS'] == 1]['MEDV']\n",
    "MEDV_not_adjacent_to_CHAS = boston[boston['CHAS'] == 0]['MEDV']\n",
    "fig, ax = plt.subplots()\n",
    "ax.boxplot([MEDV_adjacent_to_CHAS, MEDV_not_adjacent_to_CHAS], labels=['MEDV_adjacent_to_CHAS', 'MEDV_not_adjacent_to_CHAS']\n",
    "          ,vert=False)\n",
    "ax.set_title('dist of the MEDV that are adjacent to the Charles river or not')\n",
    "ax.set_xlabel('median housing prices')\n",
    "plt.show()"
   ]
  },
  {
   "cell_type": "markdown",
   "metadata": {},
   "source": [
    "### 2.3: Interpret\n",
    "\n",
    "What do you observe in the above boxplots? Explain in terms of the various elements of the distribution. Does there appear to be a difference between distribution of the median housing prices adjacent to Charles river and the ones not adjacent to Charles river? "
   ]
  },
  {
   "cell_type": "code",
   "execution_count": 253,
   "metadata": {},
   "outputs": [
    {
     "data": {
      "text/plain": [
       "count    35.000000\n",
       "mean     28.440000\n",
       "std      11.816643\n",
       "min      13.400000\n",
       "25%      21.100000\n",
       "50%      23.300000\n",
       "75%      33.150000\n",
       "max      50.000000\n",
       "Name: MEDV, dtype: float64"
      ]
     },
     "execution_count": 253,
     "metadata": {},
     "output_type": "execute_result"
    }
   ],
   "source": [
    "MEDV_adjacent_to_CHAS.describe()"
   ]
  },
  {
   "cell_type": "code",
   "execution_count": 255,
   "metadata": {},
   "outputs": [
    {
     "data": {
      "text/plain": [
       "count    471.000000\n",
       "mean      22.093843\n",
       "std        8.831362\n",
       "min        5.000000\n",
       "25%       16.600000\n",
       "50%       20.900000\n",
       "75%       24.800000\n",
       "max       50.000000\n",
       "Name: MEDV, dtype: float64"
      ]
     },
     "execution_count": 255,
     "metadata": {},
     "output_type": "execute_result"
    }
   ],
   "source": [
    "MEDV_not_adjacent_to_CHAS.describe()"
   ]
  },
  {
   "cell_type": "markdown",
   "metadata": {},
   "source": [
    "Yes, we conducted t-test above. Also, from the boxplot, we can see the median and median of median housing prices adjacent to Charles river is larger than median housing prices not adjacent to Charles river"
   ]
  },
  {
   "cell_type": "markdown",
   "metadata": {},
   "source": [
    "### 2.4 Correlation Matrix\n",
    "\n",
    "Calculate the correlation of every pair of variables in the dataset. Create a *K* x *K* matrix where the value in the (*i*,*j*) cell is the correlation between the *i*th and *j*th variable. Show off your skills by coloring the cell so that large positive correlations appear green and large negative correlations appear red (use a gradient to make this pretty). What two variables appear to me most positively and negatively correlated?"
   ]
  },
  {
   "cell_type": "code",
   "execution_count": 268,
   "metadata": {},
   "outputs": [
    {
     "data": {
      "text/html": [
       "<style  type=\"text/css\" >\n",
       "#T_1fb87_row0_col0,#T_1fb87_row1_col1,#T_1fb87_row2_col2,#T_1fb87_row3_col3,#T_1fb87_row4_col4,#T_1fb87_row5_col5,#T_1fb87_row6_col6,#T_1fb87_row7_col7,#T_1fb87_row8_col8,#T_1fb87_row9_col9,#T_1fb87_row10_col10,#T_1fb87_row11_col11,#T_1fb87_row12_col12,#T_1fb87_row13_col13{\n",
       "            background-color:  #006837;\n",
       "            color:  #f1f1f1;\n",
       "        }#T_1fb87_row0_col1{\n",
       "            background-color:  #f7844e;\n",
       "            color:  #000000;\n",
       "        }#T_1fb87_row0_col2{\n",
       "            background-color:  #bde379;\n",
       "            color:  #000000;\n",
       "        }#T_1fb87_row0_col3{\n",
       "            background-color:  #c01a27;\n",
       "            color:  #f1f1f1;\n",
       "        }#T_1fb87_row0_col4{\n",
       "            background-color:  #b3df72;\n",
       "            color:  #000000;\n",
       "        }#T_1fb87_row0_col5{\n",
       "            background-color:  #f88950;\n",
       "            color:  #000000;\n",
       "        }#T_1fb87_row0_col6,#T_1fb87_row1_col13{\n",
       "            background-color:  #c9e881;\n",
       "            color:  #000000;\n",
       "        }#T_1fb87_row0_col7,#T_1fb87_row11_col4,#T_1fb87_row11_col10{\n",
       "            background-color:  #f67a49;\n",
       "            color:  #000000;\n",
       "        }#T_1fb87_row0_col8{\n",
       "            background-color:  #87cb67;\n",
       "            color:  #000000;\n",
       "        }#T_1fb87_row0_col9,#T_1fb87_row2_col8,#T_1fb87_row8_col0{\n",
       "            background-color:  #93d168;\n",
       "            color:  #000000;\n",
       "        }#T_1fb87_row0_col10{\n",
       "            background-color:  #f4fab0;\n",
       "            color:  #000000;\n",
       "        }#T_1fb87_row0_col11,#T_1fb87_row13_col9{\n",
       "            background-color:  #b91326;\n",
       "            color:  #f1f1f1;\n",
       "        }#T_1fb87_row0_col12{\n",
       "            background-color:  #addc6f;\n",
       "            color:  #000000;\n",
       "        }#T_1fb87_row0_col13,#T_1fb87_row9_col5{\n",
       "            background-color:  #f46d43;\n",
       "            color:  #000000;\n",
       "        }#T_1fb87_row1_col0{\n",
       "            background-color:  #e14430;\n",
       "            color:  #f1f1f1;\n",
       "        }#T_1fb87_row1_col2,#T_1fb87_row1_col6,#T_1fb87_row8_col3{\n",
       "            background-color:  #d83128;\n",
       "            color:  #f1f1f1;\n",
       "        }#T_1fb87_row1_col3{\n",
       "            background-color:  #c62027;\n",
       "            color:  #f1f1f1;\n",
       "        }#T_1fb87_row1_col4,#T_1fb87_row1_col9{\n",
       "            background-color:  #e34933;\n",
       "            color:  #f1f1f1;\n",
       "        }#T_1fb87_row1_col5,#T_1fb87_row2_col0{\n",
       "            background-color:  #e3f399;\n",
       "            color:  #000000;\n",
       "        }#T_1fb87_row1_col7,#T_1fb87_row9_col4,#T_1fb87_row13_col5{\n",
       "            background-color:  #5db961;\n",
       "            color:  #000000;\n",
       "        }#T_1fb87_row1_col8,#T_1fb87_row5_col0{\n",
       "            background-color:  #dd3d2d;\n",
       "            color:  #f1f1f1;\n",
       "        }#T_1fb87_row1_col10,#T_1fb87_row9_col3,#T_1fb87_row13_col8{\n",
       "            background-color:  #ca2427;\n",
       "            color:  #f1f1f1;\n",
       "        }#T_1fb87_row1_col11{\n",
       "            background-color:  #fee999;\n",
       "            color:  #000000;\n",
       "        }#T_1fb87_row1_col12,#T_1fb87_row5_col2,#T_1fb87_row6_col3,#T_1fb87_row10_col11{\n",
       "            background-color:  #ef633f;\n",
       "            color:  #000000;\n",
       "        }#T_1fb87_row2_col1,#T_1fb87_row7_col3{\n",
       "            background-color:  #af0926;\n",
       "            color:  #f1f1f1;\n",
       "        }#T_1fb87_row2_col3,#T_1fb87_row8_col1{\n",
       "            background-color:  #ea5739;\n",
       "            color:  #000000;\n",
       "        }#T_1fb87_row2_col4{\n",
       "            background-color:  #33a456;\n",
       "            color:  #000000;\n",
       "        }#T_1fb87_row2_col5,#T_1fb87_row7_col12{\n",
       "            background-color:  #e24731;\n",
       "            color:  #f1f1f1;\n",
       "        }#T_1fb87_row2_col6{\n",
       "            background-color:  #69be63;\n",
       "            color:  #000000;\n",
       "        }#T_1fb87_row2_col7,#T_1fb87_row4_col1,#T_1fb87_row11_col8{\n",
       "            background-color:  #b50f26;\n",
       "            color:  #f1f1f1;\n",
       "        }#T_1fb87_row2_col9{\n",
       "            background-color:  #57b65f;\n",
       "            color:  #000000;\n",
       "        }#T_1fb87_row2_col10,#T_1fb87_row13_col1{\n",
       "            background-color:  #dcf08f;\n",
       "            color:  #000000;\n",
       "        }#T_1fb87_row2_col11,#T_1fb87_row11_col9,#T_1fb87_row12_col3{\n",
       "            background-color:  #c21c27;\n",
       "            color:  #f1f1f1;\n",
       "        }#T_1fb87_row2_col12,#T_1fb87_row6_col12,#T_1fb87_row12_col6{\n",
       "            background-color:  #78c565;\n",
       "            color:  #000000;\n",
       "        }#T_1fb87_row2_col13{\n",
       "            background-color:  #e44c34;\n",
       "            color:  #000000;\n",
       "        }#T_1fb87_row3_col0{\n",
       "            background-color:  #f8864f;\n",
       "            color:  #000000;\n",
       "        }#T_1fb87_row3_col1{\n",
       "            background-color:  #fdbf6f;\n",
       "            color:  #000000;\n",
       "        }#T_1fb87_row3_col2{\n",
       "            background-color:  #fff0a6;\n",
       "            color:  #000000;\n",
       "        }#T_1fb87_row3_col4{\n",
       "            background-color:  #fffbb8;\n",
       "            color:  #000000;\n",
       "        }#T_1fb87_row3_col5{\n",
       "            background-color:  #feeb9d;\n",
       "            color:  #000000;\n",
       "        }#T_1fb87_row3_col6{\n",
       "            background-color:  #fff8b4;\n",
       "            color:  #000000;\n",
       "        }#T_1fb87_row3_col7{\n",
       "            background-color:  #fed481;\n",
       "            color:  #000000;\n",
       "        }#T_1fb87_row3_col8,#T_1fb87_row3_col9{\n",
       "            background-color:  #fdbb6c;\n",
       "            color:  #000000;\n",
       "        }#T_1fb87_row3_col10{\n",
       "            background-color:  #f99153;\n",
       "            color:  #000000;\n",
       "        }#T_1fb87_row3_col11{\n",
       "            background-color:  #fdc372;\n",
       "            color:  #000000;\n",
       "        }#T_1fb87_row3_col12{\n",
       "            background-color:  #fedc88;\n",
       "            color:  #000000;\n",
       "        }#T_1fb87_row3_col13{\n",
       "            background-color:  #f5fbb2;\n",
       "            color:  #000000;\n",
       "        }#T_1fb87_row4_col0,#T_1fb87_row12_col10{\n",
       "            background-color:  #dff293;\n",
       "            color:  #000000;\n",
       "        }#T_1fb87_row4_col2{\n",
       "            background-color:  #36a657;\n",
       "            color:  #000000;\n",
       "        }#T_1fb87_row4_col3,#T_1fb87_row5_col3,#T_1fb87_row5_col8{\n",
       "            background-color:  #f16640;\n",
       "            color:  #000000;\n",
       "        }#T_1fb87_row4_col5,#T_1fb87_row13_col4{\n",
       "            background-color:  #f26841;\n",
       "            color:  #000000;\n",
       "        }#T_1fb87_row4_col6{\n",
       "            background-color:  #42ac5a;\n",
       "            color:  #000000;\n",
       "        }#T_1fb87_row4_col7,#T_1fb87_row6_col1,#T_1fb87_row7_col2,#T_1fb87_row7_col4,#T_1fb87_row7_col6,#T_1fb87_row7_col8,#T_1fb87_row7_col9,#T_1fb87_row8_col11,#T_1fb87_row9_col11,#T_1fb87_row10_col3,#T_1fb87_row11_col0,#T_1fb87_row12_col5,#T_1fb87_row12_col13,#T_1fb87_row13_col0,#T_1fb87_row13_col10,#T_1fb87_row13_col12{\n",
       "            background-color:  #a50026;\n",
       "            color:  #f1f1f1;\n",
       "        }#T_1fb87_row4_col8{\n",
       "            background-color:  #8ccd67;\n",
       "            color:  #000000;\n",
       "        }#T_1fb87_row4_col9{\n",
       "            background-color:  #70c164;\n",
       "            color:  #000000;\n",
       "        }#T_1fb87_row4_col10{\n",
       "            background-color:  #fff3ac;\n",
       "            color:  #000000;\n",
       "        }#T_1fb87_row4_col11{\n",
       "            background-color:  #bb1526;\n",
       "            color:  #f1f1f1;\n",
       "        }#T_1fb87_row4_col12,#T_1fb87_row8_col2{\n",
       "            background-color:  #7dc765;\n",
       "            color:  #000000;\n",
       "        }#T_1fb87_row4_col13{\n",
       "            background-color:  #ed5f3c;\n",
       "            color:  #000000;\n",
       "        }#T_1fb87_row5_col1{\n",
       "            background-color:  #e8f59f;\n",
       "            color:  #000000;\n",
       "        }#T_1fb87_row5_col4,#T_1fb87_row13_col3{\n",
       "            background-color:  #fa9656;\n",
       "            color:  #000000;\n",
       "        }#T_1fb87_row5_col6{\n",
       "            background-color:  #fca85e;\n",
       "            color:  #000000;\n",
       "        }#T_1fb87_row5_col7{\n",
       "            background-color:  #ebf7a3;\n",
       "            color:  #000000;\n",
       "        }#T_1fb87_row5_col9,#T_1fb87_row10_col5{\n",
       "            background-color:  #e75337;\n",
       "            color:  #000000;\n",
       "        }#T_1fb87_row5_col10,#T_1fb87_row12_col1{\n",
       "            background-color:  #d62f27;\n",
       "            color:  #f1f1f1;\n",
       "        }#T_1fb87_row5_col11{\n",
       "            background-color:  #fede89;\n",
       "            color:  #000000;\n",
       "        }#T_1fb87_row5_col12{\n",
       "            background-color:  #c82227;\n",
       "            color:  #f1f1f1;\n",
       "        }#T_1fb87_row5_col13{\n",
       "            background-color:  #51b35e;\n",
       "            color:  #000000;\n",
       "        }#T_1fb87_row6_col0{\n",
       "            background-color:  #f2faae;\n",
       "            color:  #000000;\n",
       "        }#T_1fb87_row6_col2{\n",
       "            background-color:  #6bbf64;\n",
       "            color:  #000000;\n",
       "        }#T_1fb87_row6_col4{\n",
       "            background-color:  #3faa59;\n",
       "            color:  #000000;\n",
       "        }#T_1fb87_row6_col5{\n",
       "            background-color:  #f7814c;\n",
       "            color:  #000000;\n",
       "        }#T_1fb87_row6_col7{\n",
       "            background-color:  #ab0626;\n",
       "            color:  #f1f1f1;\n",
       "        }#T_1fb87_row6_col8{\n",
       "            background-color:  #c7e77f;\n",
       "            color:  #000000;\n",
       "        }#T_1fb87_row6_col9{\n",
       "            background-color:  #b1de71;\n",
       "            color:  #000000;\n",
       "        }#T_1fb87_row6_col10,#T_1fb87_row7_col11{\n",
       "            background-color:  #fbfdba;\n",
       "            color:  #000000;\n",
       "        }#T_1fb87_row6_col11{\n",
       "            background-color:  #dc3b2c;\n",
       "            color:  #f1f1f1;\n",
       "        }#T_1fb87_row6_col13{\n",
       "            background-color:  #f57245;\n",
       "            color:  #000000;\n",
       "        }#T_1fb87_row7_col0{\n",
       "            background-color:  #a70226;\n",
       "            color:  #f1f1f1;\n",
       "        }#T_1fb87_row7_col1{\n",
       "            background-color:  #6ec064;\n",
       "            color:  #000000;\n",
       "        }#T_1fb87_row7_col5{\n",
       "            background-color:  #fdfebc;\n",
       "            color:  #000000;\n",
       "        }#T_1fb87_row7_col10{\n",
       "            background-color:  #ee613e;\n",
       "            color:  #000000;\n",
       "        }#T_1fb87_row7_col13{\n",
       "            background-color:  #e5f49b;\n",
       "            color:  #000000;\n",
       "        }#T_1fb87_row8_col4{\n",
       "            background-color:  #73c264;\n",
       "            color:  #000000;\n",
       "        }#T_1fb87_row8_col5{\n",
       "            background-color:  #f98e52;\n",
       "            color:  #000000;\n",
       "        }#T_1fb87_row8_col6{\n",
       "            background-color:  #abdb6d;\n",
       "            color:  #000000;\n",
       "        }#T_1fb87_row8_col7,#T_1fb87_row9_col13,#T_1fb87_row12_col7{\n",
       "            background-color:  #e65036;\n",
       "            color:  #000000;\n",
       "        }#T_1fb87_row8_col9{\n",
       "            background-color:  #0e8245;\n",
       "            color:  #f1f1f1;\n",
       "        }#T_1fb87_row8_col10{\n",
       "            background-color:  #c1e57b;\n",
       "            color:  #000000;\n",
       "        }#T_1fb87_row8_col12{\n",
       "            background-color:  #a2d76a;\n",
       "            color:  #000000;\n",
       "        }#T_1fb87_row8_col13,#T_1fb87_row11_col2{\n",
       "            background-color:  #f47044;\n",
       "            color:  #000000;\n",
       "        }#T_1fb87_row9_col0,#T_1fb87_row12_col9{\n",
       "            background-color:  #a5d86a;\n",
       "            color:  #000000;\n",
       "        }#T_1fb87_row9_col1{\n",
       "            background-color:  #e95538;\n",
       "            color:  #000000;\n",
       "        }#T_1fb87_row9_col2{\n",
       "            background-color:  #48ae5c;\n",
       "            color:  #000000;\n",
       "        }#T_1fb87_row9_col6{\n",
       "            background-color:  #9bd469;\n",
       "            color:  #000000;\n",
       "        }#T_1fb87_row9_col7,#T_1fb87_row10_col13,#T_1fb87_row13_col2{\n",
       "            background-color:  #e0422f;\n",
       "            color:  #f1f1f1;\n",
       "        }#T_1fb87_row9_col8{\n",
       "            background-color:  #0f8446;\n",
       "            color:  #f1f1f1;\n",
       "        }#T_1fb87_row9_col10,#T_1fb87_row10_col8{\n",
       "            background-color:  #c3e67d;\n",
       "            color:  #000000;\n",
       "        }#T_1fb87_row9_col12{\n",
       "            background-color:  #8ecf67;\n",
       "            color:  #000000;\n",
       "        }#T_1fb87_row10_col0{\n",
       "            background-color:  #fffcba;\n",
       "            color:  #000000;\n",
       "        }#T_1fb87_row10_col1{\n",
       "            background-color:  #db382b;\n",
       "            color:  #f1f1f1;\n",
       "        }#T_1fb87_row10_col2,#T_1fb87_row10_col12{\n",
       "            background-color:  #c5e67e;\n",
       "            color:  #000000;\n",
       "        }#T_1fb87_row10_col4{\n",
       "            background-color:  #eff8aa;\n",
       "            color:  #000000;\n",
       "        }#T_1fb87_row10_col6,#T_1fb87_row13_col7{\n",
       "            background-color:  #e2f397;\n",
       "            color:  #000000;\n",
       "        }#T_1fb87_row10_col7{\n",
       "            background-color:  #fdaf62;\n",
       "            color:  #000000;\n",
       "        }#T_1fb87_row10_col9{\n",
       "            background-color:  #bfe47a;\n",
       "            color:  #000000;\n",
       "        }#T_1fb87_row11_col1{\n",
       "            background-color:  #fff7b2;\n",
       "            color:  #000000;\n",
       "        }#T_1fb87_row11_col3{\n",
       "            background-color:  #e54e35;\n",
       "            color:  #000000;\n",
       "        }#T_1fb87_row11_col5{\n",
       "            background-color:  #fff2aa;\n",
       "            color:  #000000;\n",
       "        }#T_1fb87_row11_col6{\n",
       "            background-color:  #fa9b58;\n",
       "            color:  #000000;\n",
       "        }#T_1fb87_row11_col7{\n",
       "            background-color:  #d9ef8b;\n",
       "            color:  #000000;\n",
       "        }#T_1fb87_row11_col12,#T_1fb87_row13_col6{\n",
       "            background-color:  #f57547;\n",
       "            color:  #000000;\n",
       "        }#T_1fb87_row11_col13{\n",
       "            background-color:  #d1ec86;\n",
       "            color:  #000000;\n",
       "        }#T_1fb87_row12_col0{\n",
       "            background-color:  #d5ed88;\n",
       "            color:  #000000;\n",
       "        }#T_1fb87_row12_col2,#T_1fb87_row12_col4{\n",
       "            background-color:  #7ac665;\n",
       "            color:  #000000;\n",
       "        }#T_1fb87_row12_col8{\n",
       "            background-color:  #bbe278;\n",
       "            color:  #000000;\n",
       "        }#T_1fb87_row12_col11{\n",
       "            background-color:  #be1827;\n",
       "            color:  #f1f1f1;\n",
       "        }#T_1fb87_row13_col11{\n",
       "            background-color:  #f1f9ac;\n",
       "            color:  #000000;\n",
       "        }</style><table id=\"T_1fb87_\" ><thead>    <tr>        <th class=\"blank level0\" ></th>        <th class=\"col_heading level0 col0\" >CRIM</th>        <th class=\"col_heading level0 col1\" >ZN</th>        <th class=\"col_heading level0 col2\" >INDUS</th>        <th class=\"col_heading level0 col3\" >CHAS</th>        <th class=\"col_heading level0 col4\" >NOX</th>        <th class=\"col_heading level0 col5\" >RM</th>        <th class=\"col_heading level0 col6\" >AGE</th>        <th class=\"col_heading level0 col7\" >DIS</th>        <th class=\"col_heading level0 col8\" >RAD</th>        <th class=\"col_heading level0 col9\" >TAX</th>        <th class=\"col_heading level0 col10\" >PTRATIO</th>        <th class=\"col_heading level0 col11\" >B</th>        <th class=\"col_heading level0 col12\" >LSTAT</th>        <th class=\"col_heading level0 col13\" >MEDV</th>    </tr></thead><tbody>\n",
       "                <tr>\n",
       "                        <th id=\"T_1fb87_level0_row0\" class=\"row_heading level0 row0\" >CRIM</th>\n",
       "                        <td id=\"T_1fb87_row0_col0\" class=\"data row0 col0\" >1.00</td>\n",
       "                        <td id=\"T_1fb87_row0_col1\" class=\"data row0 col1\" >-0.20</td>\n",
       "                        <td id=\"T_1fb87_row0_col2\" class=\"data row0 col2\" >0.41</td>\n",
       "                        <td id=\"T_1fb87_row0_col3\" class=\"data row0 col3\" >-0.06</td>\n",
       "                        <td id=\"T_1fb87_row0_col4\" class=\"data row0 col4\" >0.42</td>\n",
       "                        <td id=\"T_1fb87_row0_col5\" class=\"data row0 col5\" >-0.22</td>\n",
       "                        <td id=\"T_1fb87_row0_col6\" class=\"data row0 col6\" >0.35</td>\n",
       "                        <td id=\"T_1fb87_row0_col7\" class=\"data row0 col7\" >-0.38</td>\n",
       "                        <td id=\"T_1fb87_row0_col8\" class=\"data row0 col8\" >0.63</td>\n",
       "                        <td id=\"T_1fb87_row0_col9\" class=\"data row0 col9\" >0.58</td>\n",
       "                        <td id=\"T_1fb87_row0_col10\" class=\"data row0 col10\" >0.29</td>\n",
       "                        <td id=\"T_1fb87_row0_col11\" class=\"data row0 col11\" >-0.39</td>\n",
       "                        <td id=\"T_1fb87_row0_col12\" class=\"data row0 col12\" >0.46</td>\n",
       "                        <td id=\"T_1fb87_row0_col13\" class=\"data row0 col13\" >-0.39</td>\n",
       "            </tr>\n",
       "            <tr>\n",
       "                        <th id=\"T_1fb87_level0_row1\" class=\"row_heading level0 row1\" >ZN</th>\n",
       "                        <td id=\"T_1fb87_row1_col0\" class=\"data row1 col0\" >-0.20</td>\n",
       "                        <td id=\"T_1fb87_row1_col1\" class=\"data row1 col1\" >1.00</td>\n",
       "                        <td id=\"T_1fb87_row1_col2\" class=\"data row1 col2\" >-0.53</td>\n",
       "                        <td id=\"T_1fb87_row1_col3\" class=\"data row1 col3\" >-0.04</td>\n",
       "                        <td id=\"T_1fb87_row1_col4\" class=\"data row1 col4\" >-0.52</td>\n",
       "                        <td id=\"T_1fb87_row1_col5\" class=\"data row1 col5\" >0.31</td>\n",
       "                        <td id=\"T_1fb87_row1_col6\" class=\"data row1 col6\" >-0.57</td>\n",
       "                        <td id=\"T_1fb87_row1_col7\" class=\"data row1 col7\" >0.66</td>\n",
       "                        <td id=\"T_1fb87_row1_col8\" class=\"data row1 col8\" >-0.31</td>\n",
       "                        <td id=\"T_1fb87_row1_col9\" class=\"data row1 col9\" >-0.31</td>\n",
       "                        <td id=\"T_1fb87_row1_col10\" class=\"data row1 col10\" >-0.39</td>\n",
       "                        <td id=\"T_1fb87_row1_col11\" class=\"data row1 col11\" >0.18</td>\n",
       "                        <td id=\"T_1fb87_row1_col12\" class=\"data row1 col12\" >-0.41</td>\n",
       "                        <td id=\"T_1fb87_row1_col13\" class=\"data row1 col13\" >0.36</td>\n",
       "            </tr>\n",
       "            <tr>\n",
       "                        <th id=\"T_1fb87_level0_row2\" class=\"row_heading level0 row2\" >INDUS</th>\n",
       "                        <td id=\"T_1fb87_row2_col0\" class=\"data row2 col0\" >0.41</td>\n",
       "                        <td id=\"T_1fb87_row2_col1\" class=\"data row2 col1\" >-0.53</td>\n",
       "                        <td id=\"T_1fb87_row2_col2\" class=\"data row2 col2\" >1.00</td>\n",
       "                        <td id=\"T_1fb87_row2_col3\" class=\"data row2 col3\" >0.06</td>\n",
       "                        <td id=\"T_1fb87_row2_col4\" class=\"data row2 col4\" >0.76</td>\n",
       "                        <td id=\"T_1fb87_row2_col5\" class=\"data row2 col5\" >-0.39</td>\n",
       "                        <td id=\"T_1fb87_row2_col6\" class=\"data row2 col6\" >0.64</td>\n",
       "                        <td id=\"T_1fb87_row2_col7\" class=\"data row2 col7\" >-0.71</td>\n",
       "                        <td id=\"T_1fb87_row2_col8\" class=\"data row2 col8\" >0.60</td>\n",
       "                        <td id=\"T_1fb87_row2_col9\" class=\"data row2 col9\" >0.72</td>\n",
       "                        <td id=\"T_1fb87_row2_col10\" class=\"data row2 col10\" >0.38</td>\n",
       "                        <td id=\"T_1fb87_row2_col11\" class=\"data row2 col11\" >-0.36</td>\n",
       "                        <td id=\"T_1fb87_row2_col12\" class=\"data row2 col12\" >0.60</td>\n",
       "                        <td id=\"T_1fb87_row2_col13\" class=\"data row2 col13\" >-0.48</td>\n",
       "            </tr>\n",
       "            <tr>\n",
       "                        <th id=\"T_1fb87_level0_row3\" class=\"row_heading level0 row3\" >CHAS</th>\n",
       "                        <td id=\"T_1fb87_row3_col0\" class=\"data row3 col0\" >-0.06</td>\n",
       "                        <td id=\"T_1fb87_row3_col1\" class=\"data row3 col1\" >-0.04</td>\n",
       "                        <td id=\"T_1fb87_row3_col2\" class=\"data row3 col2\" >0.06</td>\n",
       "                        <td id=\"T_1fb87_row3_col3\" class=\"data row3 col3\" >1.00</td>\n",
       "                        <td id=\"T_1fb87_row3_col4\" class=\"data row3 col4\" >0.09</td>\n",
       "                        <td id=\"T_1fb87_row3_col5\" class=\"data row3 col5\" >0.09</td>\n",
       "                        <td id=\"T_1fb87_row3_col6\" class=\"data row3 col6\" >0.09</td>\n",
       "                        <td id=\"T_1fb87_row3_col7\" class=\"data row3 col7\" >-0.10</td>\n",
       "                        <td id=\"T_1fb87_row3_col8\" class=\"data row3 col8\" >-0.01</td>\n",
       "                        <td id=\"T_1fb87_row3_col9\" class=\"data row3 col9\" >-0.04</td>\n",
       "                        <td id=\"T_1fb87_row3_col10\" class=\"data row3 col10\" >-0.12</td>\n",
       "                        <td id=\"T_1fb87_row3_col11\" class=\"data row3 col11\" >0.05</td>\n",
       "                        <td id=\"T_1fb87_row3_col12\" class=\"data row3 col12\" >-0.05</td>\n",
       "                        <td id=\"T_1fb87_row3_col13\" class=\"data row3 col13\" >0.18</td>\n",
       "            </tr>\n",
       "            <tr>\n",
       "                        <th id=\"T_1fb87_level0_row4\" class=\"row_heading level0 row4\" >NOX</th>\n",
       "                        <td id=\"T_1fb87_row4_col0\" class=\"data row4 col0\" >0.42</td>\n",
       "                        <td id=\"T_1fb87_row4_col1\" class=\"data row4 col1\" >-0.52</td>\n",
       "                        <td id=\"T_1fb87_row4_col2\" class=\"data row4 col2\" >0.76</td>\n",
       "                        <td id=\"T_1fb87_row4_col3\" class=\"data row4 col3\" >0.09</td>\n",
       "                        <td id=\"T_1fb87_row4_col4\" class=\"data row4 col4\" >1.00</td>\n",
       "                        <td id=\"T_1fb87_row4_col5\" class=\"data row4 col5\" >-0.30</td>\n",
       "                        <td id=\"T_1fb87_row4_col6\" class=\"data row4 col6\" >0.73</td>\n",
       "                        <td id=\"T_1fb87_row4_col7\" class=\"data row4 col7\" >-0.77</td>\n",
       "                        <td id=\"T_1fb87_row4_col8\" class=\"data row4 col8\" >0.61</td>\n",
       "                        <td id=\"T_1fb87_row4_col9\" class=\"data row4 col9\" >0.67</td>\n",
       "                        <td id=\"T_1fb87_row4_col10\" class=\"data row4 col10\" >0.19</td>\n",
       "                        <td id=\"T_1fb87_row4_col11\" class=\"data row4 col11\" >-0.38</td>\n",
       "                        <td id=\"T_1fb87_row4_col12\" class=\"data row4 col12\" >0.59</td>\n",
       "                        <td id=\"T_1fb87_row4_col13\" class=\"data row4 col13\" >-0.43</td>\n",
       "            </tr>\n",
       "            <tr>\n",
       "                        <th id=\"T_1fb87_level0_row5\" class=\"row_heading level0 row5\" >RM</th>\n",
       "                        <td id=\"T_1fb87_row5_col0\" class=\"data row5 col0\" >-0.22</td>\n",
       "                        <td id=\"T_1fb87_row5_col1\" class=\"data row5 col1\" >0.31</td>\n",
       "                        <td id=\"T_1fb87_row5_col2\" class=\"data row5 col2\" >-0.39</td>\n",
       "                        <td id=\"T_1fb87_row5_col3\" class=\"data row5 col3\" >0.09</td>\n",
       "                        <td id=\"T_1fb87_row5_col4\" class=\"data row5 col4\" >-0.30</td>\n",
       "                        <td id=\"T_1fb87_row5_col5\" class=\"data row5 col5\" >1.00</td>\n",
       "                        <td id=\"T_1fb87_row5_col6\" class=\"data row5 col6\" >-0.24</td>\n",
       "                        <td id=\"T_1fb87_row5_col7\" class=\"data row5 col7\" >0.21</td>\n",
       "                        <td id=\"T_1fb87_row5_col8\" class=\"data row5 col8\" >-0.21</td>\n",
       "                        <td id=\"T_1fb87_row5_col9\" class=\"data row5 col9\" >-0.29</td>\n",
       "                        <td id=\"T_1fb87_row5_col10\" class=\"data row5 col10\" >-0.36</td>\n",
       "                        <td id=\"T_1fb87_row5_col11\" class=\"data row5 col11\" >0.13</td>\n",
       "                        <td id=\"T_1fb87_row5_col12\" class=\"data row5 col12\" >-0.61</td>\n",
       "                        <td id=\"T_1fb87_row5_col13\" class=\"data row5 col13\" >0.70</td>\n",
       "            </tr>\n",
       "            <tr>\n",
       "                        <th id=\"T_1fb87_level0_row6\" class=\"row_heading level0 row6\" >AGE</th>\n",
       "                        <td id=\"T_1fb87_row6_col0\" class=\"data row6 col0\" >0.35</td>\n",
       "                        <td id=\"T_1fb87_row6_col1\" class=\"data row6 col1\" >-0.57</td>\n",
       "                        <td id=\"T_1fb87_row6_col2\" class=\"data row6 col2\" >0.64</td>\n",
       "                        <td id=\"T_1fb87_row6_col3\" class=\"data row6 col3\" >0.09</td>\n",
       "                        <td id=\"T_1fb87_row6_col4\" class=\"data row6 col4\" >0.73</td>\n",
       "                        <td id=\"T_1fb87_row6_col5\" class=\"data row6 col5\" >-0.24</td>\n",
       "                        <td id=\"T_1fb87_row6_col6\" class=\"data row6 col6\" >1.00</td>\n",
       "                        <td id=\"T_1fb87_row6_col7\" class=\"data row6 col7\" >-0.75</td>\n",
       "                        <td id=\"T_1fb87_row6_col8\" class=\"data row6 col8\" >0.46</td>\n",
       "                        <td id=\"T_1fb87_row6_col9\" class=\"data row6 col9\" >0.51</td>\n",
       "                        <td id=\"T_1fb87_row6_col10\" class=\"data row6 col10\" >0.26</td>\n",
       "                        <td id=\"T_1fb87_row6_col11\" class=\"data row6 col11\" >-0.27</td>\n",
       "                        <td id=\"T_1fb87_row6_col12\" class=\"data row6 col12\" >0.60</td>\n",
       "                        <td id=\"T_1fb87_row6_col13\" class=\"data row6 col13\" >-0.38</td>\n",
       "            </tr>\n",
       "            <tr>\n",
       "                        <th id=\"T_1fb87_level0_row7\" class=\"row_heading level0 row7\" >DIS</th>\n",
       "                        <td id=\"T_1fb87_row7_col0\" class=\"data row7 col0\" >-0.38</td>\n",
       "                        <td id=\"T_1fb87_row7_col1\" class=\"data row7 col1\" >0.66</td>\n",
       "                        <td id=\"T_1fb87_row7_col2\" class=\"data row7 col2\" >-0.71</td>\n",
       "                        <td id=\"T_1fb87_row7_col3\" class=\"data row7 col3\" >-0.10</td>\n",
       "                        <td id=\"T_1fb87_row7_col4\" class=\"data row7 col4\" >-0.77</td>\n",
       "                        <td id=\"T_1fb87_row7_col5\" class=\"data row7 col5\" >0.21</td>\n",
       "                        <td id=\"T_1fb87_row7_col6\" class=\"data row7 col6\" >-0.75</td>\n",
       "                        <td id=\"T_1fb87_row7_col7\" class=\"data row7 col7\" >1.00</td>\n",
       "                        <td id=\"T_1fb87_row7_col8\" class=\"data row7 col8\" >-0.49</td>\n",
       "                        <td id=\"T_1fb87_row7_col9\" class=\"data row7 col9\" >-0.53</td>\n",
       "                        <td id=\"T_1fb87_row7_col10\" class=\"data row7 col10\" >-0.23</td>\n",
       "                        <td id=\"T_1fb87_row7_col11\" class=\"data row7 col11\" >0.29</td>\n",
       "                        <td id=\"T_1fb87_row7_col12\" class=\"data row7 col12\" >-0.50</td>\n",
       "                        <td id=\"T_1fb87_row7_col13\" class=\"data row7 col13\" >0.25</td>\n",
       "            </tr>\n",
       "            <tr>\n",
       "                        <th id=\"T_1fb87_level0_row8\" class=\"row_heading level0 row8\" >RAD</th>\n",
       "                        <td id=\"T_1fb87_row8_col0\" class=\"data row8 col0\" >0.63</td>\n",
       "                        <td id=\"T_1fb87_row8_col1\" class=\"data row8 col1\" >-0.31</td>\n",
       "                        <td id=\"T_1fb87_row8_col2\" class=\"data row8 col2\" >0.60</td>\n",
       "                        <td id=\"T_1fb87_row8_col3\" class=\"data row8 col3\" >-0.01</td>\n",
       "                        <td id=\"T_1fb87_row8_col4\" class=\"data row8 col4\" >0.61</td>\n",
       "                        <td id=\"T_1fb87_row8_col5\" class=\"data row8 col5\" >-0.21</td>\n",
       "                        <td id=\"T_1fb87_row8_col6\" class=\"data row8 col6\" >0.46</td>\n",
       "                        <td id=\"T_1fb87_row8_col7\" class=\"data row8 col7\" >-0.49</td>\n",
       "                        <td id=\"T_1fb87_row8_col8\" class=\"data row8 col8\" >1.00</td>\n",
       "                        <td id=\"T_1fb87_row8_col9\" class=\"data row8 col9\" >0.91</td>\n",
       "                        <td id=\"T_1fb87_row8_col10\" class=\"data row8 col10\" >0.46</td>\n",
       "                        <td id=\"T_1fb87_row8_col11\" class=\"data row8 col11\" >-0.44</td>\n",
       "                        <td id=\"T_1fb87_row8_col12\" class=\"data row8 col12\" >0.49</td>\n",
       "                        <td id=\"T_1fb87_row8_col13\" class=\"data row8 col13\" >-0.38</td>\n",
       "            </tr>\n",
       "            <tr>\n",
       "                        <th id=\"T_1fb87_level0_row9\" class=\"row_heading level0 row9\" >TAX</th>\n",
       "                        <td id=\"T_1fb87_row9_col0\" class=\"data row9 col0\" >0.58</td>\n",
       "                        <td id=\"T_1fb87_row9_col1\" class=\"data row9 col1\" >-0.31</td>\n",
       "                        <td id=\"T_1fb87_row9_col2\" class=\"data row9 col2\" >0.72</td>\n",
       "                        <td id=\"T_1fb87_row9_col3\" class=\"data row9 col3\" >-0.04</td>\n",
       "                        <td id=\"T_1fb87_row9_col4\" class=\"data row9 col4\" >0.67</td>\n",
       "                        <td id=\"T_1fb87_row9_col5\" class=\"data row9 col5\" >-0.29</td>\n",
       "                        <td id=\"T_1fb87_row9_col6\" class=\"data row9 col6\" >0.51</td>\n",
       "                        <td id=\"T_1fb87_row9_col7\" class=\"data row9 col7\" >-0.53</td>\n",
       "                        <td id=\"T_1fb87_row9_col8\" class=\"data row9 col8\" >0.91</td>\n",
       "                        <td id=\"T_1fb87_row9_col9\" class=\"data row9 col9\" >1.00</td>\n",
       "                        <td id=\"T_1fb87_row9_col10\" class=\"data row9 col10\" >0.46</td>\n",
       "                        <td id=\"T_1fb87_row9_col11\" class=\"data row9 col11\" >-0.44</td>\n",
       "                        <td id=\"T_1fb87_row9_col12\" class=\"data row9 col12\" >0.54</td>\n",
       "                        <td id=\"T_1fb87_row9_col13\" class=\"data row9 col13\" >-0.47</td>\n",
       "            </tr>\n",
       "            <tr>\n",
       "                        <th id=\"T_1fb87_level0_row10\" class=\"row_heading level0 row10\" >PTRATIO</th>\n",
       "                        <td id=\"T_1fb87_row10_col0\" class=\"data row10 col0\" >0.29</td>\n",
       "                        <td id=\"T_1fb87_row10_col1\" class=\"data row10 col1\" >-0.39</td>\n",
       "                        <td id=\"T_1fb87_row10_col2\" class=\"data row10 col2\" >0.38</td>\n",
       "                        <td id=\"T_1fb87_row10_col3\" class=\"data row10 col3\" >-0.12</td>\n",
       "                        <td id=\"T_1fb87_row10_col4\" class=\"data row10 col4\" >0.19</td>\n",
       "                        <td id=\"T_1fb87_row10_col5\" class=\"data row10 col5\" >-0.36</td>\n",
       "                        <td id=\"T_1fb87_row10_col6\" class=\"data row10 col6\" >0.26</td>\n",
       "                        <td id=\"T_1fb87_row10_col7\" class=\"data row10 col7\" >-0.23</td>\n",
       "                        <td id=\"T_1fb87_row10_col8\" class=\"data row10 col8\" >0.46</td>\n",
       "                        <td id=\"T_1fb87_row10_col9\" class=\"data row10 col9\" >0.46</td>\n",
       "                        <td id=\"T_1fb87_row10_col10\" class=\"data row10 col10\" >1.00</td>\n",
       "                        <td id=\"T_1fb87_row10_col11\" class=\"data row10 col11\" >-0.18</td>\n",
       "                        <td id=\"T_1fb87_row10_col12\" class=\"data row10 col12\" >0.37</td>\n",
       "                        <td id=\"T_1fb87_row10_col13\" class=\"data row10 col13\" >-0.51</td>\n",
       "            </tr>\n",
       "            <tr>\n",
       "                        <th id=\"T_1fb87_level0_row11\" class=\"row_heading level0 row11\" >B</th>\n",
       "                        <td id=\"T_1fb87_row11_col0\" class=\"data row11 col0\" >-0.39</td>\n",
       "                        <td id=\"T_1fb87_row11_col1\" class=\"data row11 col1\" >0.18</td>\n",
       "                        <td id=\"T_1fb87_row11_col2\" class=\"data row11 col2\" >-0.36</td>\n",
       "                        <td id=\"T_1fb87_row11_col3\" class=\"data row11 col3\" >0.05</td>\n",
       "                        <td id=\"T_1fb87_row11_col4\" class=\"data row11 col4\" >-0.38</td>\n",
       "                        <td id=\"T_1fb87_row11_col5\" class=\"data row11 col5\" >0.13</td>\n",
       "                        <td id=\"T_1fb87_row11_col6\" class=\"data row11 col6\" >-0.27</td>\n",
       "                        <td id=\"T_1fb87_row11_col7\" class=\"data row11 col7\" >0.29</td>\n",
       "                        <td id=\"T_1fb87_row11_col8\" class=\"data row11 col8\" >-0.44</td>\n",
       "                        <td id=\"T_1fb87_row11_col9\" class=\"data row11 col9\" >-0.44</td>\n",
       "                        <td id=\"T_1fb87_row11_col10\" class=\"data row11 col10\" >-0.18</td>\n",
       "                        <td id=\"T_1fb87_row11_col11\" class=\"data row11 col11\" >1.00</td>\n",
       "                        <td id=\"T_1fb87_row11_col12\" class=\"data row11 col12\" >-0.37</td>\n",
       "                        <td id=\"T_1fb87_row11_col13\" class=\"data row11 col13\" >0.33</td>\n",
       "            </tr>\n",
       "            <tr>\n",
       "                        <th id=\"T_1fb87_level0_row12\" class=\"row_heading level0 row12\" >LSTAT</th>\n",
       "                        <td id=\"T_1fb87_row12_col0\" class=\"data row12 col0\" >0.46</td>\n",
       "                        <td id=\"T_1fb87_row12_col1\" class=\"data row12 col1\" >-0.41</td>\n",
       "                        <td id=\"T_1fb87_row12_col2\" class=\"data row12 col2\" >0.60</td>\n",
       "                        <td id=\"T_1fb87_row12_col3\" class=\"data row12 col3\" >-0.05</td>\n",
       "                        <td id=\"T_1fb87_row12_col4\" class=\"data row12 col4\" >0.59</td>\n",
       "                        <td id=\"T_1fb87_row12_col5\" class=\"data row12 col5\" >-0.61</td>\n",
       "                        <td id=\"T_1fb87_row12_col6\" class=\"data row12 col6\" >0.60</td>\n",
       "                        <td id=\"T_1fb87_row12_col7\" class=\"data row12 col7\" >-0.50</td>\n",
       "                        <td id=\"T_1fb87_row12_col8\" class=\"data row12 col8\" >0.49</td>\n",
       "                        <td id=\"T_1fb87_row12_col9\" class=\"data row12 col9\" >0.54</td>\n",
       "                        <td id=\"T_1fb87_row12_col10\" class=\"data row12 col10\" >0.37</td>\n",
       "                        <td id=\"T_1fb87_row12_col11\" class=\"data row12 col11\" >-0.37</td>\n",
       "                        <td id=\"T_1fb87_row12_col12\" class=\"data row12 col12\" >1.00</td>\n",
       "                        <td id=\"T_1fb87_row12_col13\" class=\"data row12 col13\" >-0.74</td>\n",
       "            </tr>\n",
       "            <tr>\n",
       "                        <th id=\"T_1fb87_level0_row13\" class=\"row_heading level0 row13\" >MEDV</th>\n",
       "                        <td id=\"T_1fb87_row13_col0\" class=\"data row13 col0\" >-0.39</td>\n",
       "                        <td id=\"T_1fb87_row13_col1\" class=\"data row13 col1\" >0.36</td>\n",
       "                        <td id=\"T_1fb87_row13_col2\" class=\"data row13 col2\" >-0.48</td>\n",
       "                        <td id=\"T_1fb87_row13_col3\" class=\"data row13 col3\" >0.18</td>\n",
       "                        <td id=\"T_1fb87_row13_col4\" class=\"data row13 col4\" >-0.43</td>\n",
       "                        <td id=\"T_1fb87_row13_col5\" class=\"data row13 col5\" >0.70</td>\n",
       "                        <td id=\"T_1fb87_row13_col6\" class=\"data row13 col6\" >-0.38</td>\n",
       "                        <td id=\"T_1fb87_row13_col7\" class=\"data row13 col7\" >0.25</td>\n",
       "                        <td id=\"T_1fb87_row13_col8\" class=\"data row13 col8\" >-0.38</td>\n",
       "                        <td id=\"T_1fb87_row13_col9\" class=\"data row13 col9\" >-0.47</td>\n",
       "                        <td id=\"T_1fb87_row13_col10\" class=\"data row13 col10\" >-0.51</td>\n",
       "                        <td id=\"T_1fb87_row13_col11\" class=\"data row13 col11\" >0.33</td>\n",
       "                        <td id=\"T_1fb87_row13_col12\" class=\"data row13 col12\" >-0.74</td>\n",
       "                        <td id=\"T_1fb87_row13_col13\" class=\"data row13 col13\" >1.00</td>\n",
       "            </tr>\n",
       "    </tbody></table>"
      ],
      "text/plain": [
       "<pandas.io.formats.style.Styler at 0x13c38ae84c0>"
      ]
     },
     "execution_count": 268,
     "metadata": {},
     "output_type": "execute_result"
    }
   ],
   "source": [
    "corr = boston.corr()\n",
    "corr.style.background_gradient(cmap='RdYlGn').set_precision(2)"
   ]
  },
  {
   "cell_type": "code",
   "execution_count": 270,
   "metadata": {},
   "outputs": [
    {
     "data": {
      "text/plain": [
       "CRIM      -0.388305\n",
       "ZN        -0.569537\n",
       "INDUS     -0.708027\n",
       "CHAS      -0.121515\n",
       "NOX       -0.769230\n",
       "RM        -0.613808\n",
       "AGE       -0.747881\n",
       "DIS       -0.769230\n",
       "RAD       -0.494588\n",
       "TAX       -0.534432\n",
       "PTRATIO   -0.507787\n",
       "B         -0.444413\n",
       "LSTAT     -0.737663\n",
       "MEDV      -0.737663\n",
       "dtype: float64"
      ]
     },
     "execution_count": 270,
     "metadata": {},
     "output_type": "execute_result"
    }
   ],
   "source": [
    "corr.min()"
   ]
  },
  {
   "cell_type": "markdown",
   "metadata": {},
   "source": [
    "TAX and RAD are the most positively correlated  \n",
    "DIS and NOX are the most negatively correlated"
   ]
  },
  {
   "cell_type": "markdown",
   "metadata": {},
   "source": [
    "### 2.5 Create your own (creative and effective) visualization\n",
    "\n",
    "Use another type of graph or chart to illustrate an interesting pattern in the data.  Be creative in your visualization, and make sure to produce a \"publication-quality\" graph.  Points will be given for useful and creative graphs; points will be deducted for confusing issues like unlabeled axes.  If you're new to data visualization, [this guide](http://pubs.aeaweb.org/doi/pdfplus/10.1257/jep.28.1.209) is a good place to start."
   ]
  },
  {
   "cell_type": "code",
   "execution_count": 284,
   "metadata": {},
   "outputs": [
    {
     "data": {
      "text/plain": [
       "<seaborn.axisgrid.JointGrid at 0x13c3baf8940>"
      ]
     },
     "execution_count": 284,
     "metadata": {},
     "output_type": "execute_result"
    },
    {
     "data": {
      "text/plain": [
       "<Figure size 216x216 with 0 Axes>"
      ]
     },
     "metadata": {},
     "output_type": "display_data"
    },
    {
     "data": {
      "image/png": "[encoded data removed]",
      "text/plain": [
       "<Figure size 504x504 with 3 Axes>"
      ]
     },
     "metadata": {
      "needs_background": "light"
     },
     "output_type": "display_data"
    }
   ],
   "source": [
    "import seaborn as sns\n",
    "plt.figure(figsize=(3,3))\n",
    "sns.jointplot(x = 'LSTAT', y = 'MEDV', data = boston, kind = 'reg', height = 7, color = 'orange')\n"
   ]
  },
  {
   "cell_type": "code",
   "execution_count": null,
   "metadata": {},
   "outputs": [],
   "source": []
  }
 ],
 "metadata": {
  "kernelspec": {
   "display_name": "Python 3",
   "language": "python",
   "name": "python3"
  },
  "language_info": {
   "codemirror_mode": {
    "name": "ipython",
    "version": 3
   },
   "file_extension": ".py",
   "mimetype": "text/x-python",
   "name": "python",
   "nbconvert_exporter": "python",
   "pygments_lexer": "ipython3",
   "version": "3.8.5"
  }
 },
 "nbformat": 4,
 "nbformat_minor": 1
}
