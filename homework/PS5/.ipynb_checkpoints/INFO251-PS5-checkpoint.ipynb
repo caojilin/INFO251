{
 "cells": [
  {
   "cell_type": "markdown",
   "metadata": {},
   "source": [
    "# Problem Set 5\n",
    "\n",
    "As usual, you are highly encouraged to *start this problem set early!*  Our best guess (no guarantees!) is that Part 1 will be conceptually easy but perhaps time consuming.  Parts 2 and 3 are medium difficult, but there are plenty of opportunities to get confused with data structures, so if you're going to get stuck, get stuck (and unstuck) early!\n",
    "\n",
    "Note that the extra credit problems have the potential to be quite challenging and time consuming. Make sure to do everything else in the problem set before you tackle the extra credit.\n",
    "\n",
    "To get started, download the files \"reviews.csv\" and \"movies.dat\" from Canvas.\n",
    "\n",
    "In addition to numpy, pandas, sklearn and matplotlib, we suggest you familiarize yourself with the following aspects of these libraries, which are not required but which might make your life much easier:-\n",
    "\n",
    "* `DataFrame` and other basic [data structures](http://pandas.pydata.org/pandas-docs/stable/dsintro.html) in pandas\n",
    "* [`groupby`](http://pandas.pydata.org/pandas-docs/stable/groupby.html), `unique`,  and other simple aggregation functions\n",
    "* [`CountVectorizer`](http://scikit-learn.org/stable/modules/generated/sklearn.feature_extraction.text.CountVectorizer.html) for working with text in sklearn.\n",
    "* [`MultinomialNB`](http://scikit-learn.org/stable/modules/generated/sklearn.naive_bayes.MultinomialNB.html) for Naive Bayes\n",
    "* Simple tools for [Cross-Validation](http://scikit-learn.org/stable/modules/cross_validation.html) in sklearn\n",
    "\n",
    "Make sure they load properly with the following code block. You may also import additional functions/classes if you need them."
   ]
  },
  {
   "cell_type": "code",
   "execution_count": 37,
   "metadata": {},
   "outputs": [],
   "source": [
    "%config Completer.use_jedi = False"
   ]
  },
  {
   "cell_type": "code",
   "execution_count": 1,
   "metadata": {},
   "outputs": [],
   "source": [
    "import pandas as pd\n",
    "import numpy as np\n",
    "import matplotlib.pyplot as plt\n",
    "\n",
    "#You can go over the scikit-learn documentation to learn more about what some of these functions and classes\n",
    "from  sklearn.model_selection import cross_val_score\n",
    "from sklearn.model_selection import train_test_split\n",
    "from sklearn.naive_bayes import MultinomialNB\n",
    "from sklearn.feature_extraction.text import CountVectorizer\n",
    "import IPython"
   ]
  },
  {
   "cell_type": "markdown",
   "metadata": {},
   "source": [
    "## Introduction to the assignment\n",
    "\n",
    "In this assignment, you'll be analyzing movie reviews in an attempt to determine whether movies are good or bad.  We have downloaded a large number of movie reviews from the [Rotten Tomatoes](http://www.rottentomatoes.com) website, which are available in the file \"reviews.csv\" on Canvas.  We have also put a file \"movies.dat\" on Canvas that contains metadata for ~65,000 different movies.\n",
    "\n",
    "If you've never seen Rotten Tomatoes before, go spend a few minutes familiarizing yourself with the website.  It's a meta-review website that aggregates movie reviews from a large number of critics.  Here's what the page for 2020's [Oscar winner](https://www.rottentomatoes.com/m/parasite_2019) looks like.  Note in particular the section on \"Critic Reviews\" at the bottom -- that's the content that has been scraped and put in the reviews.csv file.  Also note that each movie is given a quantitative score on the Tomatometer which is used to classify the movie as either Fresh (good) or Rotten (bad).\n",
    "\n",
    "Your mission is to develop a classifier to determine whether a movie is Fresh or Rotten based on the contents of the reviews given to the movie.  As usual, we'll start out with some exploratory data analysis."
   ]
  },
  {
   "cell_type": "markdown",
   "metadata": {},
   "source": [
    "---\n",
    "\n",
    "## Part 1: Descriptive analysis\n",
    "\n",
    "Before beginning the \"real\" work, dig into the data a bit do see what you're dealing with.  Let's start by loading the datasets and dropping rows that have missing data:"
   ]
  },
  {
   "cell_type": "code",
   "execution_count": 254,
   "metadata": {},
   "outputs": [],
   "source": [
    "reviews = pd.read_csv('reviews.csv')\n",
    "movies = pd.read_csv(\"movies.dat\", delimiter='\\t')\n",
    "movies = movies.dropna()\n",
    "reviews = reviews[~reviews.quote.isnull()]\n",
    "reviews = reviews[reviews.fresh != 'none']\n",
    "reviews = reviews[reviews.quote.str.len() > 0]\n",
    "reviews = reviews[~reviews.critic.isna()]"
   ]
  },
  {
   "cell_type": "markdown",
   "metadata": {},
   "source": [
    "### 1.1: Basic features of the dataset\n",
    "\n",
    "Answer the following questions by having your Python code directly print the answers:\n",
    "\n",
    "* How many unique reviews (quotes) are in the `reviews` dataset?\n",
    "* How many unique reviewers (critics) are in the `reviews` dataset?\n",
    "* How many unique movies are in the `reviews` dataset?\n",
    "* How many different publications have reviews in the `reviews` dataset?\n",
    "* How many unique movies are in the `movies` dataset?\n",
    "* What is the year range in the `movies` dataset? \n",
    "* What is the lowest `rtAudienceScore` for the year 1995 in the `movies` dataset?\n"
   ]
  },
  {
   "cell_type": "code",
   "execution_count": 20,
   "metadata": {},
   "outputs": [
    {
     "data": {
      "text/plain": [
       "12149"
      ]
     },
     "execution_count": 20,
     "metadata": {},
     "output_type": "execute_result"
    }
   ],
   "source": [
    "#1\n",
    "reviews[\"quote\"].nunique()"
   ]
  },
  {
   "cell_type": "code",
   "execution_count": 62,
   "metadata": {},
   "outputs": [
    {
     "data": {
      "text/plain": [
       "540"
      ]
     },
     "execution_count": 62,
     "metadata": {},
     "output_type": "execute_result"
    }
   ],
   "source": [
    "#2\n",
    "reviews['critic'].nunique()"
   ]
  },
  {
   "cell_type": "code",
   "execution_count": 67,
   "metadata": {},
   "outputs": [
    {
     "data": {
      "text/plain": [
       "1715"
      ]
     },
     "execution_count": 67,
     "metadata": {},
     "output_type": "execute_result"
    }
   ],
   "source": [
    "#3\n",
    "reviews[\"imdb\"].nunique()"
   ]
  },
  {
   "cell_type": "code",
   "execution_count": 41,
   "metadata": {},
   "outputs": [
    {
     "data": {
      "text/plain": [
       "64"
      ]
     },
     "execution_count": 41,
     "metadata": {},
     "output_type": "execute_result"
    }
   ],
   "source": [
    "#4\n",
    "reviews[\"publication\"].nunique()"
   ]
  },
  {
   "cell_type": "code",
   "execution_count": 64,
   "metadata": {},
   "outputs": [
    {
     "data": {
      "text/plain": [
       "8975"
      ]
     },
     "execution_count": 64,
     "metadata": {},
     "output_type": "execute_result"
    }
   ],
   "source": [
    "#5\n",
    "movies[\"imdbID\"].nunique()"
   ]
  },
  {
   "cell_type": "code",
   "execution_count": 72,
   "metadata": {},
   "outputs": [
    {
     "data": {
      "text/plain": [
       "(1903, 2011)"
      ]
     },
     "execution_count": 72,
     "metadata": {},
     "output_type": "execute_result"
    }
   ],
   "source": [
    "#6\n",
    "movies[\"year\"].min(), movies[\"year\"].max()"
   ]
  },
  {
   "cell_type": "code",
   "execution_count": 81,
   "metadata": {},
   "outputs": [
    {
     "data": {
      "text/plain": [
       "'0'"
      ]
     },
     "execution_count": 81,
     "metadata": {},
     "output_type": "execute_result"
    }
   ],
   "source": [
    "#7\n",
    "movies[movies['year'] == 1995][\"rtAudienceScore\"].min()"
   ]
  },
  {
   "cell_type": "markdown",
   "metadata": {},
   "source": [
    "### 1.2 Number of reviews per critic\n",
    "\n",
    "Using the `reviews` dataset, create a histogram showing the distribution of the number of reviews per critic.  Have the bin width (x-axis) be 5 units wide, and the range of the x-axis to be from 0 to 100.  Scale the y-axis to show the logarithm of the (count of) the number of critics.  Also add a vertical line at the average number of reviews per critic. \n",
    "\n",
    "Label your axes and make your histogram look professional."
   ]
  },
  {
   "cell_type": "code",
   "execution_count": 127,
   "metadata": {},
   "outputs": [
    {
     "data": {
      "text/plain": [
       "Text(0.5, 1.0, 'distribution of the number of reviews per critic')"
      ]
     },
     "execution_count": 127,
     "metadata": {},
     "output_type": "execute_result"
    },
    {
     "data": {
      "image/png": "[encoded data removed]",
      "text/plain": [
       "<Figure size 432x288 with 1 Axes>"
      ]
     },
     "metadata": {
      "needs_background": "light"
     },
     "output_type": "display_data"
    }
   ],
   "source": [
    "# Enter your code here\n",
    "plt.hist(reviews['critic'].value_counts(),range=[0, 100], bins=20) \n",
    "plt.xticks(np.arange(0, 105, 5))\n",
    "plt.yscale('log', nonpositive='clip')\n",
    "plt.xlabel('number of reviews')\n",
    "plt.ylabel('frequency in log scale')\n",
    "plt.title('distribution of the number of reviews per critic')"
   ]
  },
  {
   "cell_type": "markdown",
   "metadata": {},
   "source": [
    "### 1.3 Zoom in on a few reviewers\n",
    "Find the 25 critics with the most reviews, and list their names in a table along with -\n",
    "\n",
    "* (a) The name(s) of *all* the publications they work for. If a critic happens to work for more than one publication, you should have a comma-separated string that contains all publications for that critic.\n",
    "* (b) The date of their first review.\n",
    "* (c) The date of their last review.\n",
    "* (d) The total number of reviews (count).\n",
    "\n",
    "Sort the table in descending order of the number of reviews.\n",
    "\n",
    "*Hint: The `apply`, `merge` and `groupby` functions can be useful here*"
   ]
  },
  {
   "cell_type": "code",
   "execution_count": 135,
   "metadata": {},
   "outputs": [],
   "source": [
    "# Enter your code here\n",
    "names = reviews['critic'].value_counts()[:25].index"
   ]
  },
  {
   "cell_type": "code",
   "execution_count": 191,
   "metadata": {},
   "outputs": [],
   "source": [
    "publications = []\n",
    "date_of_first_review = []\n",
    "date_of_last_review = []\n",
    "total_number_of_reviews = []\n",
    "\n",
    "for i in range(len(names)):\n",
    "    publications.append(\", \".join(reviews[reviews['critic'] == names[i]][\"publication\"].value_counts().index))\n",
    "    date_of_first_review.append(reviews[reviews['critic'] == names[i]][\"review_date\"].sort_values().iloc[0])\n",
    "    date_of_last_review.append(reviews[reviews['critic'] == names[i]][\"review_date\"].sort_values(ascending=False).iloc[0])\n",
    "    total_number_of_reviews.append(reviews[reviews['critic'] == names[i]]['title'].nunique())\n",
    "\n",
    "d = {\"names\":names, \"publications\":publications, \"date_of_first_review\":date_of_first_review, \n",
    "    \"date_of_last_review\":date_of_last_review, \"total_number_of_reviews\":total_number_of_reviews} "
   ]
  },
  {
   "cell_type": "code",
   "execution_count": 192,
   "metadata": {},
   "outputs": [],
   "source": [
    "top_25_reviewers = pd.DataFrame(d)"
   ]
  },
  {
   "cell_type": "code",
   "execution_count": 194,
   "metadata": {},
   "outputs": [
    {
     "data": {
      "text/html": [
       "<div>\n",
       "<style scoped>\n",
       "    .dataframe tbody tr th:only-of-type {\n",
       "        vertical-align: middle;\n",
       "    }\n",
       "\n",
       "    .dataframe tbody tr th {\n",
       "        vertical-align: top;\n",
       "    }\n",
       "\n",
       "    .dataframe thead th {\n",
       "        text-align: right;\n",
       "    }\n",
       "</style>\n",
       "<table border=\"1\" class=\"dataframe\">\n",
       "  <thead>\n",
       "    <tr style=\"text-align: right;\">\n",
       "      <th></th>\n",
       "      <th>names</th>\n",
       "      <th>publications</th>\n",
       "      <th>date_of_first_review</th>\n",
       "      <th>date_of_last_review</th>\n",
       "      <th>total_number_of_reviews</th>\n",
       "    </tr>\n",
       "  </thead>\n",
       "  <tbody>\n",
       "    <tr>\n",
       "      <th>0</th>\n",
       "      <td>Roger Ebert</td>\n",
       "      <td>Chicago Sun-Times, At the Movies</td>\n",
       "      <td>2000-01-01 00:00:00</td>\n",
       "      <td>2013-06-11 00:00:00</td>\n",
       "      <td>1101</td>\n",
       "    </tr>\n",
       "    <tr>\n",
       "      <th>1</th>\n",
       "      <td>James Berardinelli</td>\n",
       "      <td>ReelViews</td>\n",
       "      <td>1800-01-01 00:00:00</td>\n",
       "      <td>2012-02-07 00:00:00</td>\n",
       "      <td>793</td>\n",
       "    </tr>\n",
       "    <tr>\n",
       "      <th>2</th>\n",
       "      <td>Janet Maslin</td>\n",
       "      <td>New York Times</td>\n",
       "      <td>2000-01-01 00:00:00</td>\n",
       "      <td>2010-09-07 00:00:00</td>\n",
       "      <td>499</td>\n",
       "    </tr>\n",
       "    <tr>\n",
       "      <th>3</th>\n",
       "      <td>Variety Staff</td>\n",
       "      <td>Variety</td>\n",
       "      <td>2001-02-13 00:00:00</td>\n",
       "      <td>2012-08-15 00:00:00</td>\n",
       "      <td>424</td>\n",
       "    </tr>\n",
       "    <tr>\n",
       "      <th>4</th>\n",
       "      <td>Jonathan Rosenbaum</td>\n",
       "      <td>Chicago Reader</td>\n",
       "      <td>1988-07-11 00:00:00</td>\n",
       "      <td>2013-10-22 00:00:00</td>\n",
       "      <td>402</td>\n",
       "    </tr>\n",
       "    <tr>\n",
       "      <th>5</th>\n",
       "      <td>Desson Thomson</td>\n",
       "      <td>Washington Post</td>\n",
       "      <td>2000-01-01 00:00:00</td>\n",
       "      <td>2012-10-08 00:00:00</td>\n",
       "      <td>354</td>\n",
       "    </tr>\n",
       "    <tr>\n",
       "      <th>6</th>\n",
       "      <td>Geoff Andrew</td>\n",
       "      <td>Time Out</td>\n",
       "      <td>2005-08-11 00:00:00</td>\n",
       "      <td>2012-04-05 00:00:00</td>\n",
       "      <td>344</td>\n",
       "    </tr>\n",
       "    <tr>\n",
       "      <th>7</th>\n",
       "      <td>Dave Kehr</td>\n",
       "      <td>Chicago Reader, Chicago Tribune, New York Dail...</td>\n",
       "      <td>2000-01-01 00:00:00</td>\n",
       "      <td>2013-11-20 00:00:00</td>\n",
       "      <td>337</td>\n",
       "    </tr>\n",
       "    <tr>\n",
       "      <th>8</th>\n",
       "      <td>Kenneth Turan</td>\n",
       "      <td>Los Angeles Times</td>\n",
       "      <td>2000-01-01 00:00:00</td>\n",
       "      <td>2013-10-05 00:00:00</td>\n",
       "      <td>271</td>\n",
       "    </tr>\n",
       "    <tr>\n",
       "      <th>9</th>\n",
       "      <td>Mick LaSalle</td>\n",
       "      <td>San Francisco Chronicle</td>\n",
       "      <td>2000-01-01 00:00:00</td>\n",
       "      <td>2009-11-25 00:00:00</td>\n",
       "      <td>268</td>\n",
       "    </tr>\n",
       "    <tr>\n",
       "      <th>10</th>\n",
       "      <td>Owen Gleiberman</td>\n",
       "      <td>Entertainment Weekly</td>\n",
       "      <td>1800-01-01 00:00:00</td>\n",
       "      <td>2011-09-07 00:00:00</td>\n",
       "      <td>235</td>\n",
       "    </tr>\n",
       "    <tr>\n",
       "      <th>11</th>\n",
       "      <td>Rita Kempley</td>\n",
       "      <td>Washington Post</td>\n",
       "      <td>2000-01-01 00:00:00</td>\n",
       "      <td>2013-11-02 00:00:00</td>\n",
       "      <td>226</td>\n",
       "    </tr>\n",
       "    <tr>\n",
       "      <th>12</th>\n",
       "      <td>Joe Baltake</td>\n",
       "      <td>Sacramento Bee, Philadelphia Daily News, Passi...</td>\n",
       "      <td>2000-01-01 00:00:00</td>\n",
       "      <td>2013-08-04 00:00:00</td>\n",
       "      <td>219</td>\n",
       "    </tr>\n",
       "    <tr>\n",
       "      <th>13</th>\n",
       "      <td>Todd McCarthy</td>\n",
       "      <td>Variety</td>\n",
       "      <td>2000-01-01 00:00:00</td>\n",
       "      <td>2012-10-09 00:00:00</td>\n",
       "      <td>213</td>\n",
       "    </tr>\n",
       "    <tr>\n",
       "      <th>14</th>\n",
       "      <td>Vincent Canby</td>\n",
       "      <td>New York Times</td>\n",
       "      <td>2000-01-01 00:00:00</td>\n",
       "      <td>2013-07-29 00:00:00</td>\n",
       "      <td>199</td>\n",
       "    </tr>\n",
       "    <tr>\n",
       "      <th>15</th>\n",
       "      <td>Hal Hinson</td>\n",
       "      <td>Washington Post</td>\n",
       "      <td>2000-01-01 00:00:00</td>\n",
       "      <td>2013-06-26 00:00:00</td>\n",
       "      <td>164</td>\n",
       "    </tr>\n",
       "    <tr>\n",
       "      <th>16</th>\n",
       "      <td>Susan Stark</td>\n",
       "      <td>Detroit News</td>\n",
       "      <td>2000-01-01 00:00:00</td>\n",
       "      <td>2002-10-25 00:00:00</td>\n",
       "      <td>157</td>\n",
       "    </tr>\n",
       "    <tr>\n",
       "      <th>17</th>\n",
       "      <td>Stephen Holden</td>\n",
       "      <td>New York Times</td>\n",
       "      <td>2000-01-01 00:00:00</td>\n",
       "      <td>2009-02-06 00:00:00</td>\n",
       "      <td>161</td>\n",
       "    </tr>\n",
       "    <tr>\n",
       "      <th>18</th>\n",
       "      <td>Derek Adams</td>\n",
       "      <td>Time Out</td>\n",
       "      <td>2006-01-26 00:00:00</td>\n",
       "      <td>2009-10-04 00:00:00</td>\n",
       "      <td>147</td>\n",
       "    </tr>\n",
       "    <tr>\n",
       "      <th>19</th>\n",
       "      <td>Kevin Thomas</td>\n",
       "      <td>Los Angeles Times</td>\n",
       "      <td>2000-01-01 00:00:00</td>\n",
       "      <td>2013-11-02 00:00:00</td>\n",
       "      <td>138</td>\n",
       "    </tr>\n",
       "    <tr>\n",
       "      <th>20</th>\n",
       "      <td>Peter Stack</td>\n",
       "      <td>San Francisco Chronicle</td>\n",
       "      <td>2000-01-01 00:00:00</td>\n",
       "      <td>2002-06-18 00:00:00</td>\n",
       "      <td>133</td>\n",
       "    </tr>\n",
       "    <tr>\n",
       "      <th>21</th>\n",
       "      <td>Bosley Crowther</td>\n",
       "      <td>New York Times</td>\n",
       "      <td>2000-01-01 00:00:00</td>\n",
       "      <td>2008-05-06 00:00:00</td>\n",
       "      <td>127</td>\n",
       "    </tr>\n",
       "    <tr>\n",
       "      <th>22</th>\n",
       "      <td>Rick Groen</td>\n",
       "      <td>Globe and Mail</td>\n",
       "      <td>2002-03-19 00:00:00</td>\n",
       "      <td>2009-08-14 00:00:00</td>\n",
       "      <td>122</td>\n",
       "    </tr>\n",
       "    <tr>\n",
       "      <th>23</th>\n",
       "      <td>Edward Guthmann</td>\n",
       "      <td>San Francisco Chronicle</td>\n",
       "      <td>2000-01-01 00:00:00</td>\n",
       "      <td>2003-04-04 00:00:00</td>\n",
       "      <td>117</td>\n",
       "    </tr>\n",
       "    <tr>\n",
       "      <th>24</th>\n",
       "      <td>Lisa Schwarzbaum</td>\n",
       "      <td>Entertainment Weekly</td>\n",
       "      <td>1979-01-01 00:00:00</td>\n",
       "      <td>2012-08-15 00:00:00</td>\n",
       "      <td>110</td>\n",
       "    </tr>\n",
       "  </tbody>\n",
       "</table>\n",
       "</div>"
      ],
      "text/plain": [
       "                 names                                       publications  \\\n",
       "0          Roger Ebert                   Chicago Sun-Times, At the Movies   \n",
       "1   James Berardinelli                                          ReelViews   \n",
       "2         Janet Maslin                                     New York Times   \n",
       "3        Variety Staff                                            Variety   \n",
       "4   Jonathan Rosenbaum                                     Chicago Reader   \n",
       "5       Desson Thomson                                    Washington Post   \n",
       "6         Geoff Andrew                                           Time Out   \n",
       "7            Dave Kehr  Chicago Reader, Chicago Tribune, New York Dail...   \n",
       "8        Kenneth Turan                                  Los Angeles Times   \n",
       "9         Mick LaSalle                            San Francisco Chronicle   \n",
       "10     Owen Gleiberman                               Entertainment Weekly   \n",
       "11        Rita Kempley                                    Washington Post   \n",
       "12         Joe Baltake  Sacramento Bee, Philadelphia Daily News, Passi...   \n",
       "13       Todd McCarthy                                            Variety   \n",
       "14       Vincent Canby                                     New York Times   \n",
       "15          Hal Hinson                                    Washington Post   \n",
       "16         Susan Stark                                       Detroit News   \n",
       "17      Stephen Holden                                     New York Times   \n",
       "18         Derek Adams                                           Time Out   \n",
       "19        Kevin Thomas                                  Los Angeles Times   \n",
       "20         Peter Stack                            San Francisco Chronicle   \n",
       "21     Bosley Crowther                                     New York Times   \n",
       "22          Rick Groen                                     Globe and Mail   \n",
       "23     Edward Guthmann                            San Francisco Chronicle   \n",
       "24    Lisa Schwarzbaum                               Entertainment Weekly   \n",
       "\n",
       "   date_of_first_review  date_of_last_review  total_number_of_reviews  \n",
       "0   2000-01-01 00:00:00  2013-06-11 00:00:00                     1101  \n",
       "1   1800-01-01 00:00:00  2012-02-07 00:00:00                      793  \n",
       "2   2000-01-01 00:00:00  2010-09-07 00:00:00                      499  \n",
       "3   2001-02-13 00:00:00  2012-08-15 00:00:00                      424  \n",
       "4   1988-07-11 00:00:00  2013-10-22 00:00:00                      402  \n",
       "5   2000-01-01 00:00:00  2012-10-08 00:00:00                      354  \n",
       "6   2005-08-11 00:00:00  2012-04-05 00:00:00                      344  \n",
       "7   2000-01-01 00:00:00  2013-11-20 00:00:00                      337  \n",
       "8   2000-01-01 00:00:00  2013-10-05 00:00:00                      271  \n",
       "9   2000-01-01 00:00:00  2009-11-25 00:00:00                      268  \n",
       "10  1800-01-01 00:00:00  2011-09-07 00:00:00                      235  \n",
       "11  2000-01-01 00:00:00  2013-11-02 00:00:00                      226  \n",
       "12  2000-01-01 00:00:00  2013-08-04 00:00:00                      219  \n",
       "13  2000-01-01 00:00:00  2012-10-09 00:00:00                      213  \n",
       "14  2000-01-01 00:00:00  2013-07-29 00:00:00                      199  \n",
       "15  2000-01-01 00:00:00  2013-06-26 00:00:00                      164  \n",
       "16  2000-01-01 00:00:00  2002-10-25 00:00:00                      157  \n",
       "17  2000-01-01 00:00:00  2009-02-06 00:00:00                      161  \n",
       "18  2006-01-26 00:00:00  2009-10-04 00:00:00                      147  \n",
       "19  2000-01-01 00:00:00  2013-11-02 00:00:00                      138  \n",
       "20  2000-01-01 00:00:00  2002-06-18 00:00:00                      133  \n",
       "21  2000-01-01 00:00:00  2008-05-06 00:00:00                      127  \n",
       "22  2002-03-19 00:00:00  2009-08-14 00:00:00                      122  \n",
       "23  2000-01-01 00:00:00  2003-04-04 00:00:00                      117  \n",
       "24  1979-01-01 00:00:00  2012-08-15 00:00:00                      110  "
      ]
     },
     "execution_count": 194,
     "metadata": {},
     "output_type": "execute_result"
    }
   ],
   "source": [
    "top_25_reviewers"
   ]
  },
  {
   "cell_type": "markdown",
   "metadata": {},
   "source": [
    "### 1.4 Ratings over time\n",
    "\n",
    "Using the `movies` dataset, create a plot that shows how the average movie rating has evolved over time. Refer to `rtAllCriticsRating` for each movie's rating. \n",
    "\n",
    "Do this by creating a scatterplot where the x-axis is the year in which the movie was released and the y-axis is `rtAllCriticsRating`.  Drop movies with 0 or unknown values to simplify the analysis.  Then, create a scatterplot that has one <year,rating> point for each remaining movie, and pick an appropriate size/color/transparency for these points to ensure that the graph looks professional.  In other words, do not simply use the default settings, as this will produce a dense mess of dots that will be hard to interpret.  Finally, overlay on this scatterplot a line graph in red showing how the average movie rating (the average of `rtAllCriticsRating` across all movies in a year) has changed over time.  \n",
    "\n",
    "Do you notice a trend?  What do you think it means?"
   ]
  },
  {
   "cell_type": "code",
   "execution_count": 259,
   "metadata": {},
   "outputs": [],
   "source": [
    "# Enter your code here\n",
    "movies['rtAllCriticsRating'] = pd.to_numeric(movies['rtAllCriticsRating'])\n",
    "movies = movies[movies['rtAllCriticsRating'] != 0]"
   ]
  },
  {
   "cell_type": "code",
   "execution_count": 260,
   "metadata": {},
   "outputs": [],
   "source": [
    "years = movies['year'].value_counts().sort_index().index"
   ]
  },
  {
   "cell_type": "code",
   "execution_count": 281,
   "metadata": {},
   "outputs": [],
   "source": [
    "avg_raing = movies.groupby('year')['rtAllCriticsRating'].mean()"
   ]
  },
  {
   "cell_type": "code",
   "execution_count": 283,
   "metadata": {
    "scrolled": true
   },
   "outputs": [
    {
     "data": {
      "text/plain": [
       "Text(0.5, 1.0, 'scatter plot of rating vs year')"
      ]
     },
     "execution_count": 283,
     "metadata": {},
     "output_type": "execute_result"
    },
    {
     "data": {
      "image/png": "[encoded data removed]",
      "text/plain": [
       "<Figure size 432x288 with 1 Axes>"
      ]
     },
     "metadata": {
      "needs_background": "light"
     },
     "output_type": "display_data"
    }
   ],
   "source": [
    "plt.scatter(movies['year'], movies['rtAllCriticsRating'],alpha=0.3, s= 20, marker='^')\n",
    "plt.plot(years,avg_raing, color='red')\n",
    "plt.xlabel('year')\n",
    "plt.ylabel('ratings')\n",
    "plt.title('scatter plot of rating vs year')"
   ]
  },
  {
   "cell_type": "markdown",
   "metadata": {},
   "source": [
    "The average rating is gradually decreasing. This is probably because the number of new movies increased a lot in each year but the overall quality of movies decreased. There are still good movies. It's just the low quality movies occupyies a large portion."
   ]
  },
  {
   "cell_type": "markdown",
   "metadata": {},
   "source": [
    "---\n",
    "\n",
    "## Part 2: Naive Bayes\n",
    "\n",
    "Now it gets fun!  You are going to use a [Naive Bayes Classifier](https://en.wikipedia.org/wiki/Naive_Bayes_classifier) to build a prediction model for whether a review is fresh or rotten, depending on the text of the review. Review the assigned readings on Canvas, as well as the relevant lecture notes before embarking on this journey.\n",
    "\n",
    "### Using CountVectorizer\n",
    "\n",
    "One thing that may help you in the following problems is the [CountVectorizer](http://scikit-learn.org/stable/modules/generated/sklearn.feature_extraction.text.CountVectorizer.html) class in Scikit-learn.  This will help you convert your raw text fields into \"bag of words\" vectors, i.e. a data structure that tells you how many times a particular word appears in a blurb.  Here's a simple example, make sure you understand what's going on!"
   ]
  },
  {
   "cell_type": "code",
   "execution_count": 285,
   "metadata": {},
   "outputs": [
    {
     "name": "stdout",
     "output_type": "stream",
     "text": [
      "Original text is:-\n",
      " machine learning rocks\n",
      "machine learning rules\n",
      "rocks rocks rules\n",
      "\n",
      "Transformed text vector is \n",
      " [[1 1 1 0]\n",
      " [1 1 0 1]\n",
      " [0 0 2 1]]\n",
      "\n",
      "Words for each feature:-\n",
      "['learning', 'machine', 'rocks', 'rules']\n"
     ]
    }
   ],
   "source": [
    "from sklearn.feature_extraction.text import CountVectorizer\n",
    "\n",
    "text = ['machine learning rocks', 'machine learning rules', 'rocks rocks rules']\n",
    "print(\"Original text is:-\\n\", '\\n'.join(text))\n",
    "print()\n",
    "vectorizer = CountVectorizer(min_df=0)\n",
    "\n",
    "# call `fit` to build the vocabulary\n",
    "vectorizer.fit(text)\n",
    "\n",
    "# call `transform` to convert text to a bag of words\n",
    "x = vectorizer.transform(text)\n",
    "\n",
    "# CountVectorizer uses a sparse array to save memory, but it's easier in this assignment to \n",
    "# convert back to a \"normal\" numpy array\n",
    "x = x.toarray()\n",
    "\n",
    "print(\"Transformed text vector is \\n\", x)\n",
    "print()\n",
    "# `get_feature_names` tracks which word is associated with each column of the transformed x\n",
    "print(\"Words for each feature:-\")\n",
    "print(vectorizer.get_feature_names())"
   ]
  },
  {
   "cell_type": "markdown",
   "metadata": {},
   "source": [
    "### 2.1 Create your X input and Y output\n",
    "\n",
    "Using the `reviews` dataframe, compute a pair of numerical X, Y arrays where -\n",
    "    \n",
    " * X is an **(nreview, nwords)** array. Each row corresponds to a bag-of-words representation for a single review. This will be the *input* to your model.\n",
    " * Y is an **nreview**-element 1/0 array, encoding whether a review is Fresh (1) or Rotten (0). This is the desired *output* from your model.\n",
    " \n",
    "Make sure to remove items with no review text, if any. "
   ]
  },
  {
   "cell_type": "code",
   "execution_count": 575,
   "metadata": {},
   "outputs": [],
   "source": [
    "\"\"\"\n",
    "Function\n",
    "--------\n",
    "make_xy\n",
    "\n",
    "Build a bag-of-words training set for the review data\n",
    "\n",
    "Parameters\n",
    "-----------\n",
    "reviews : pandas DataFrame\n",
    "    The review data from above\n",
    "    \n",
    "vectorizer : CountVectorizer object (optional)\n",
    "    A CountVectorizer object to use. If None,\n",
    "    then create and fit a new CountVectorizer.\n",
    "    Otherwise, re-fit the provided CountVectorizer\n",
    "    using the reviews data\n",
    "    \n",
    "Returns\n",
    "-------\n",
    "X : numpy array (dims: nreview, nwords)\n",
    "    Bag-of-words representation for each review.\n",
    "Y : numpy array (dims: nreview)\n",
    "    1/0 array. 1 = fresh review, 0 = rotten review\n",
    "\n",
    "Examples\n",
    "--------\n",
    "X, Y = make_xy(reviews)\n",
    "\"\"\"\n",
    "def make_xy(reviews, vectorizer=None):\n",
    "    #Your code here \n",
    "    text = reviews['quote'].tolist()\n",
    "    vectorizer.fit(text)\n",
    "    x = vectorizer.transform(text)\n",
    "    X = x.toarray()\n",
    "    Y = reviews['fresh'].map({'fresh': 1, 'rotten': 0})\n",
    "    return X, Y, vectorizer\n"
   ]
  },
  {
   "cell_type": "code",
   "execution_count": 730,
   "metadata": {},
   "outputs": [],
   "source": [
    "vectorizer = CountVectorizer()\n",
    "X, Y, _ = make_xy(reviews, vectorizer)"
   ]
  },
  {
   "cell_type": "markdown",
   "metadata": {},
   "source": [
    "### 2.2 Test-Train split\n",
    "\n",
    "Next, randomly split the data into two groups: a training set (80%) and a validation set (20%).  You can do this manually, as you did in the prior problem set, or use [`train_test_split`](http://scikit-learn.org/stable/modules/generated/sklearn.cross_validation.train_test_split.html) to do this auto-magically.  If you use `train_test_split`, set the `random_state` to 42, and have the split be stratified."
   ]
  },
  {
   "cell_type": "code",
   "execution_count": 731,
   "metadata": {},
   "outputs": [],
   "source": [
    "# Enter your code here\n",
    "X_train, X_test, Y_train, Y_test = train_test_split(X, Y, test_size=0.2, random_state=42, stratify=Y)"
   ]
  },
  {
   "cell_type": "markdown",
   "metadata": {},
   "source": [
    "### 2.3 Naive Bayes with `MultinomialNB`\n",
    "Use the training set to train a Naive Bayes classifier using [`MultinomialNB`](http://scikit-learn.org/stable/modules/generated/sklearn.naive_bayes.MultinomialNB.html).  Report the accuracy of this model on both the training and testing data.  What do you observe?  Interpret these results.\n",
    "\n",
    "*Hint: This shouldn't take more than 5-10 lines of code to accomplish*\n",
    "\n"
   ]
  },
  {
   "cell_type": "code",
   "execution_count": 732,
   "metadata": {},
   "outputs": [
    {
     "data": {
      "text/plain": [
       "MultinomialNB(alpha=5)"
      ]
     },
     "execution_count": 732,
     "metadata": {},
     "output_type": "execute_result"
    }
   ],
   "source": [
    "# Enter your code here\n",
    "from sklearn.metrics import classification_report\n",
    "NB_model = MultinomialNB(alpha=5)\n",
    "NB_model.fit(X_train, Y_train)"
   ]
  },
  {
   "cell_type": "code",
   "execution_count": 733,
   "metadata": {},
   "outputs": [
    {
     "data": {
      "text/plain": [
       "0.7523098093178691"
      ]
     },
     "execution_count": 733,
     "metadata": {},
     "output_type": "execute_result"
    }
   ],
   "source": [
    "NB_model.score(X_train, Y_train)"
   ]
  },
  {
   "cell_type": "code",
   "execution_count": 734,
   "metadata": {
    "scrolled": true
   },
   "outputs": [
    {
     "data": {
      "text/plain": [
       "0.684748427672956"
      ]
     },
     "execution_count": 734,
     "metadata": {},
     "output_type": "execute_result"
    }
   ],
   "source": [
    "NB_model.score(X_test, Y_test)"
   ]
  },
  {
   "cell_type": "markdown",
   "metadata": {},
   "source": [
    "The train arrucry is 0.75, while the test accury is 0.68.  \n",
    "NB model perfroms well on training dataset but bad on testing dataset. This is probably overfitting"
   ]
  },
  {
   "cell_type": "markdown",
   "metadata": {},
   "source": [
    "### 2.4 (EXTRA CREDIT) Naive Bayes from Scratch!\n",
    "That was almost too easy, right?  Right.\n",
    "\n",
    "Your next mission, should you choose to accept it, is to write your own Naive Bayes classifier without relying on `MultinomialNB` or a similar pre-written package.  In addition to the lecture notes and assigned readings, I recommend that you review Michael Collin’s lecture notes on Naïve Bayes before starting (available on bcourses).  \n",
    "\n",
    "**Note:**\n",
    "You should do this extra credit assignment *after* you have finished the rest of the problem set.  It is very rewarding, but can also be quite time-consuming!\n",
    "\n",
    "*Hint: You will benefit most from this exercise if you attempt to write the algorithm directly from the lecture notes.  That said, if you really get stuck, Krishnamurthy Viswanathan has written a simple version of [NB in python](http://ebiquity.umbc.edu/blogger/2010/12/07/naive-bayes-classifier-in-50-lines/), which you can peek at if you really get stuck.*"
   ]
  },
  {
   "cell_type": "code",
   "execution_count": null,
   "metadata": {},
   "outputs": [],
   "source": [
    "# Enter your code here"
   ]
  },
  {
   "cell_type": "markdown",
   "metadata": {},
   "source": [
    "--------------------------------------------\n",
    "\n",
    "## Part 3: Evaluation\n",
    "\n",
    "### 3.1 Estimate the likelihood of your data\n",
    "\n",
    "Given a fitted model, you can compute the log-likelihood of your data as a way to assess the performance of your model.  Using `fitted_model.predict_logproba`, the idea is to write a function that computes the log-likelihood of a dataset, so that we can inspect the log-likelihood of your training and testing data given your fitted model from part 2.\n",
    "\n",
    "To help you out a little bit, we'll do this part for you. But make sure you understand it, because you'll need to use this later!"
   ]
  },
  {
   "cell_type": "code",
   "execution_count": 582,
   "metadata": {},
   "outputs": [
    {
     "data": {
      "text/plain": [
       "-1484.6226919350697"
      ]
     },
     "execution_count": 582,
     "metadata": {},
     "output_type": "execute_result"
    }
   ],
   "source": [
    "\"\"\"\n",
    "Function\n",
    "--------\n",
    "log_likelihood\n",
    "\n",
    "Compute the log likelihood of a dataset according to a bayesian classifier. \n",
    "The Log Likelihood is defined by\n",
    "\n",
    "L = Sum_fresh(logP(fresh)) + Sum_rotten(logP(rotten))\n",
    "\n",
    "Where Sum_fresh indicates a sum over all fresh reviews, \n",
    "and Sum_rotten indicates a sum over rotten reviews\n",
    "    \n",
    "Parameters\n",
    "----------\n",
    "model : Bayesian classifier\n",
    "x : (nexample, nfeature) array\n",
    "    The input data\n",
    "y : (nexample) integer array\n",
    "    Whether each review is Fresh\n",
    "\"\"\"\n",
    "\n",
    "def log_likelihood(model, x, y):\n",
    "    prob = model.predict_log_proba(x)\n",
    "    rotten = y == 0\n",
    "    fresh = ~rotten\n",
    "    return prob[rotten, 0].sum() + prob[fresh, 1].sum()\n",
    "\n",
    "# output the likelihood of your test data (example - you may need to \n",
    "# change the names of the variables below to match your code in 2.2 and 2.3\n",
    "log_likelihood(clf, X_test, Y_test)"
   ]
  },
  {
   "cell_type": "markdown",
   "metadata": {},
   "source": [
    "### 3.2 Cross-Validation\n",
    "\n",
    "Why do we care about the log-likelihood of our data?  You guessed it: Cross-Validation.\n",
    "\n",
    "Our methods have a few hyperparameters. The two most important are:\n",
    "\n",
    " 1. The `min_df` keyword in `CountVectorizer`, which will ignore words which appear in fewer than `min_df` fraction of reviews. Words that appear only once or twice can lead to overfitting, since words which occur only a few times might correlate very well with Fresh/Rotten reviews by chance in the training dataset.\n",
    " \n",
    " 2. The [`alpha`](http://scikit-learn.org/stable/modules/naive_bayes.html#multinomial-naive-bayes) keyword in the Bayesian classifier is the \"smoothing parameter\" that we discussed in class -- increasing the value decreases the sensitivity to any single feature, and tends to pull prediction probabilities closer to 50%. \n",
    "\n",
    "How are we are going to use cross-validation to tune these hyperparameters?  The objective function we want to maximize is the log-likelihood of our data.  Fill in the remaining code in this block, to loop over many values of `alpha` and `min_df` to determine which settings are \"best\" in the sense of maximizing the cross-validated log-likelihood.\n",
    "\n",
    "How does the choice of these hyperparameters affect the performance of the model?\n",
    "\n",
    "*Hints:* \n",
    "* sklearn has a built-in function, `sklearn.cross_validation.cross_val_score`, that might save you a lot of time here. You can use 5-fold CV. If you go this route, you'll want to set the scoring function to be the custom likelihood function defined earlier.\n",
    "* For CV we only use the training set. This means in every iteration, for every combination of alpha and min_df, you will need to re-split into training and test sets. "
   ]
  },
  {
   "cell_type": "code",
   "execution_count": 757,
   "metadata": {
    "scrolled": false
   },
   "outputs": [
    {
     "name": "stdout",
     "output_type": "stream",
     "text": [
      "best alpha, best min_dfs:  1 0.0001\n"
     ]
    }
   ],
   "source": [
    "#You will want to suppress the warnings, since there might be a lot of them in this block. If you want to view them, change\n",
    "# the 'ignore' to 'default' or 'once'\n",
    "import warnings\n",
    "from sklearn.model_selection import cross_val_score\n",
    "warnings.filterwarnings('ignore')\n",
    "\n",
    "def foo():\n",
    "    #the grid of parameters to search over\n",
    "    alphas = [0, 1, 5, 10]\n",
    "    min_dfs = [0.0001,0.001,0.01, 0.1, 0.2]\n",
    "\n",
    "    #Find the best value for alpha and min_df, and the best classifier\n",
    "    best_alpha = None\n",
    "    best_min_df = None\n",
    "    max_loglike = -np.inf\n",
    "    avg_scores = []\n",
    "\n",
    "    for alpha in alphas:\n",
    "        for min_df in min_dfs:  \n",
    "            vectorizer = CountVectorizer(min_df = min_df)\n",
    "            X, Y, _ = make_xy(reviews, vectorizer)\n",
    "            X_train, X_test, Y_train, Y_test = train_test_split(X, Y, test_size=0.2, random_state=42, stratify=Y)\n",
    "            NB_model = MultinomialNB(alpha=alpha)\n",
    "#             avg_score = np.mean(cross_val_score(NB_model, X_train, Y_train, scoring=log_likelihood, cv=5)) \n",
    "            NB_model.fit(X_train, Y_train)\n",
    "            avg_score = NB_model.score(X_test, Y_test)\n",
    "            avg_scores.append(avg_score)\n",
    "            if avg_score > max_loglike:\n",
    "                max_loglike = avg_score\n",
    "                best_alpha = alpha\n",
    "                best_min_df = min_df\n",
    "    print(\"best alpha, best min_dfs: \",best_alpha, best_min_df)    \n",
    "    return best_alpha, best_min_df\n",
    "\n",
    "best_alpha, best_min_df = foo()"
   ]
  },
  {
   "cell_type": "markdown",
   "metadata": {},
   "source": [
    "### 3.3 Putting it together\n",
    "\n",
    "Now that you've determined values for alpha and min_df that optimize the cross-validated log-likelihood, repeat the steps in 2.1-2.3 to train a final classifier with these parameters and re-evaluate the accuracy on training and test sets.  Discuss the various ways in which cross-validation has affected the model. Is the new model more or less accurate? Is overfitting better or worse?"
   ]
  },
  {
   "cell_type": "code",
   "execution_count": 777,
   "metadata": {},
   "outputs": [
    {
     "data": {
      "text/plain": [
       "MultinomialNB(alpha=1)"
      ]
     },
     "execution_count": 777,
     "metadata": {},
     "output_type": "execute_result"
    }
   ],
   "source": [
    "#Enter your code here\n",
    "vectorizer = CountVectorizer(min_df = best_min_df)       \n",
    "X, Y, vectorizer = make_xy(reviews, vectorizer)\n",
    "X_train, X_test, Y_train, Y_test = train_test_split(X, Y, test_size=0.2, random_state=42 ,stratify=Y)\n",
    "Best_NB_model = MultinomialNB(alpha = best_alpha)\n",
    "Best_NB_model.fit(X_train, Y_train)"
   ]
  },
  {
   "cell_type": "code",
   "execution_count": 778,
   "metadata": {},
   "outputs": [
    {
     "data": {
      "text/plain": [
       "0.9081973658344801"
      ]
     },
     "execution_count": 778,
     "metadata": {},
     "output_type": "execute_result"
    }
   ],
   "source": [
    "Best_NB_model.score(X_train, Y_train)"
   ]
  },
  {
   "cell_type": "code",
   "execution_count": 779,
   "metadata": {
    "scrolled": true
   },
   "outputs": [
    {
     "data": {
      "text/plain": [
       "0.7641509433962265"
      ]
     },
     "execution_count": 779,
     "metadata": {},
     "output_type": "execute_result"
    }
   ],
   "source": [
    "Best_NB_model.score(X_test, Y_test)"
   ]
  },
  {
   "cell_type": "markdown",
   "metadata": {},
   "source": [
    "Although training accuracy increased from 0.75 to 0.90, the test accuracy increased from 0.68 to 0.76.  \n",
    "We can clearly see that the accuracy increased. This means the model generalizes data better."
   ]
  },
  {
   "cell_type": "markdown",
   "metadata": {},
   "source": [
    "### 3.4 (EXTRA CREDIT) \n",
    "\n",
    "What happens if you tried this again using a function besides the log-likelihood -- for example, the classification accuracy?  Interpret these results"
   ]
  },
  {
   "cell_type": "code",
   "execution_count": 754,
   "metadata": {
    "scrolled": false
   },
   "outputs": [
    {
     "name": "stdout",
     "output_type": "stream",
     "text": [
      "best alpha, best min_dfs:  5 0.001\n"
     ]
    }
   ],
   "source": [
    "def foo():\n",
    "    #the grid of parameters to search over\n",
    "    alphas = [0, 1, 5, 10, 50]\n",
    "    min_dfs = [0.0001,0.001,0.01, 0.1, 0.2]\n",
    "\n",
    "    #Find the best value for alpha and min_df, and the best classifier\n",
    "    best_alpha = None\n",
    "    best_min_df = None\n",
    "    max_loglike = -np.inf\n",
    "    avg_scores = []\n",
    "\n",
    "    for alpha in alphas:\n",
    "        for min_df in min_dfs:  \n",
    "            vectorizer = CountVectorizer(min_df = min_df)\n",
    "            X, Y, _ = make_xy(reviews, vectorizer)\n",
    "            X_train, X_test, Y_train, Y_test = train_test_split(X, Y, test_size=0.2, random_state=42, stratify=Y)\n",
    "            NB_model = MultinomialNB(alpha=alpha)\n",
    "            #Using default mean accuracy\n",
    "            avg_score = np.mean(cross_val_score(NB_model, X_train, Y_train, cv=5))\n",
    "            avg_scores.append(avg_score)\n",
    "            if avg_score > max_loglike:\n",
    "                max_loglike = avg_score\n",
    "                best_alpha = alpha\n",
    "                best_min_df = min_df\n",
    "    print(\"best alpha, best min_dfs: \",best_alpha, best_min_df)\n",
    "    \n",
    "    return best_alpha, best_min_df\n",
    "\n",
    "best_alpha, best_min_df = foo()"
   ]
  },
  {
   "cell_type": "markdown",
   "metadata": {},
   "source": [
    "By using accuracy as score function in CV, the selected best alpha and best min_dfs are 5 and 0.001. The test accuracy is 0.73"
   ]
  },
  {
   "cell_type": "code",
   "execution_count": 751,
   "metadata": {},
   "outputs": [
    {
     "data": {
      "text/plain": [
       "0.7972282288185571"
      ]
     },
     "execution_count": 751,
     "metadata": {},
     "output_type": "execute_result"
    }
   ],
   "source": [
    "#Enter your code here\n",
    "vectorizer = CountVectorizer(min_df = best_min_df)       \n",
    "X, Y, vectorizer = make_xy(reviews, vectorizer)\n",
    "X_train, X_test, Y_train, Y_test = train_test_split(X, Y, test_size=0.2, random_state=42 ,stratify=Y)\n",
    "NB_model = MultinomialNB(alpha = best_alpha)\n",
    "NB_model.fit(X_train, Y_train)\n",
    "NB_model.score(X_train, Y_train)"
   ]
  },
  {
   "cell_type": "code",
   "execution_count": 752,
   "metadata": {},
   "outputs": [
    {
     "data": {
      "text/plain": [
       "0.726808176100629"
      ]
     },
     "execution_count": 752,
     "metadata": {},
     "output_type": "execute_result"
    }
   ],
   "source": [
    "NB_model.score(X_test, Y_test)"
   ]
  },
  {
   "cell_type": "markdown",
   "metadata": {},
   "source": [
    "### 3.5 Interpretation\n",
    "\n",
    "What words best predict a fresh or rotten review?  Using your classifier and the `vectorizer.get_feature_names` method (classifier and vectorizer from 3.3), determine which words best predict a positive or negative review. Print the 10 words that best predict a \"fresh\" review, and the 10 words that best predict a \"rotten\" review. For each word, what is the model's probability of freshness if the word appears one time?\n",
    "\n",
    "#### Hints\n",
    "* In thinking about how to measure the impact of a word on freshness rating, consider computing the classification probability for a feature vector which consists of all 0s, except for a single 1. What does this probability refer to?\n",
    "* `numpy.identity` generates an identity matrix, where all values are zero except the diagonal elements which have a value of one"
   ]
  },
  {
   "cell_type": "code",
   "execution_count": 780,
   "metadata": {},
   "outputs": [],
   "source": [
    "#create identity matrix that matches the dim of X_train\n",
    "feature_ones = np.identity(11716)[:10174]"
   ]
  },
  {
   "cell_type": "code",
   "execution_count": 781,
   "metadata": {
    "scrolled": true
   },
   "outputs": [],
   "source": [
    "#calculate probablities based on identity matrix\n",
    "prob = np.round(Best_NB_model.predict_proba(feature_ones),2)"
   ]
  },
  {
   "cell_type": "code",
   "execution_count": 782,
   "metadata": {},
   "outputs": [],
   "source": [
    "#get predicted probability for each class\n",
    "rotten = prob[:,0]\n",
    "fresh = prob[:,1]"
   ]
  },
  {
   "cell_type": "code",
   "execution_count": 783,
   "metadata": {},
   "outputs": [],
   "source": [
    "#get the index of features that generates top K largest predicited probabilities.\n",
    "rot_vec = rotten.argsort()[-10:][::-1]\n",
    "fre_vec = fresh.argsort()[-10:][::-1]"
   ]
  },
  {
   "cell_type": "code",
   "execution_count": 784,
   "metadata": {},
   "outputs": [],
   "source": [
    "feature_names = np.array(vectorizer.get_feature_names())"
   ]
  },
  {
   "cell_type": "code",
   "execution_count": 785,
   "metadata": {},
   "outputs": [
    {
     "data": {
      "text/plain": [
       "array(['lame', 'disappointment', 'pointless', 'bland', 'sadly',\n",
       "       'disappointingly', 'dull', 'forgettable', 'generic', 'sluggish'],\n",
       "      dtype='<U21')"
      ]
     },
     "execution_count": 785,
     "metadata": {},
     "output_type": "execute_result"
    }
   ],
   "source": [
    "#Top 10 words for predicting rotten movies\n",
    "feature_names[rot_vec]"
   ]
  },
  {
   "cell_type": "code",
   "execution_count": 786,
   "metadata": {
    "scrolled": true
   },
   "outputs": [
    {
     "data": {
      "text/plain": [
       "array(['extraordinary', 'delight', 'absorbing', 'gentle', 'intimate',\n",
       "       'myth', 'loved', 'captures', 'innocence', 'seductive'],\n",
       "      dtype='<U21')"
      ]
     },
     "execution_count": 786,
     "metadata": {},
     "output_type": "execute_result"
    }
   ],
   "source": [
    "#Top 10 words for predicting fresh movies\n",
    "feature_names[fre_vec]"
   ]
  },
  {
   "cell_type": "markdown",
   "metadata": {},
   "source": [
    "### 3.6 Error Analysis\n",
    "\n",
    "One of the best sources for inspiration when trying to improve a model is to look at examples where the model performs poorly.  Find 5 fresh and rotten reviews where your model performs particularly poorly. Print each review.\n",
    "\n",
    "What do you notice about these mis-predictions? Naive Bayes classifiers assume that every word affects the probability independently of other words. In what way is this a bad assumption? In your answer, report your classifier's Freshness probability for the review \"This movie is not remarkable, touching, or superb in any way\"."
   ]
  },
  {
   "cell_type": "code",
   "execution_count": 843,
   "metadata": {},
   "outputs": [],
   "source": [
    "predictions = Best_NB_model.predict(X_test)\n",
    "mis_predictions = []\n",
    "for i in range(len(predictions)):\n",
    "    if predictions[i] != Y_test.iloc[i]:\n",
    "        mis_predictions.append(i)\n",
    "mis_predictions = np.array(mis_predictions)"
   ]
  },
  {
   "cell_type": "code",
   "execution_count": 874,
   "metadata": {
    "scrolled": false
   },
   "outputs": [
    {
     "name": "stdout",
     "output_type": "stream",
     "text": [
      "Substance is here in spades, along with the twisted, brilliantly controlled style on which filmmakers Joel and Ethan Coen made a name.\n",
      ">> predicted as rotten should be fresh\n",
      "\n",
      "A funny, touching, beautifully acted film that covers more territory than it can easily manage.\n",
      ">> predicted as rotten should be fresh\n",
      "\n",
      "It takes its artistic agenda seriously, but also luxuriates in the sensuality and plasticity of film images.\n",
      ">> predicted as rotten should be fresh\n",
      "\n",
      "I'll Be Home For Christmas is entertainment for the whole family only if your whole family is incredibly bored.\n",
      ">> predicted as rotten should be rotten\n",
      "\n",
      "As tales of sex and sinfulness go, Soderbergh's fourth film doesn't deliver.\n",
      ">> predicted as rotten should be rotten\n",
      "\n"
     ]
    }
   ],
   "source": [
    "for j in mis_predictions[:5]:\n",
    "    print(reviews['quote'].iloc[Y_test.index[j]])\n",
    "    print(\">>\", \"predicted as\",\n",
    "          \"rotten\" if predictions[i] ==0 else \"FRESH\",\n",
    "          \"should be\", reviews['fresh'].iloc[Y_test.index[j]])\n",
    "    print()"
   ]
  },
  {
   "cell_type": "code",
   "execution_count": 794,
   "metadata": {},
   "outputs": [],
   "source": [
    "new_review = \"This movie is not remarkable, touching, or superb in any way\"\n",
    "new_x = vectorizer.transform([new_review]).toarray()"
   ]
  },
  {
   "cell_type": "code",
   "execution_count": 795,
   "metadata": {},
   "outputs": [
    {
     "data": {
      "text/plain": [
       "array([1])"
      ]
     },
     "execution_count": 795,
     "metadata": {},
     "output_type": "execute_result"
    }
   ],
   "source": [
    "Best_NB_model.predict(new_x)"
   ]
  },
  {
   "cell_type": "markdown",
   "metadata": {},
   "source": [
    "1 indicates `fresh`, so our model predicts the \"This movie is not remarkable, touching, or superb in any way\" as `fresh`.  This is wrong as the review should be `rotten`. The model assumps each word is independent, however the words have correlations. The word 'not' here is a negation.\n"
   ]
  },
  {
   "cell_type": "markdown",
   "metadata": {},
   "source": [
    "### 3.7 (EXTRA CREDIT)  Word2Vec"
   ]
  },
  {
   "cell_type": "markdown",
   "metadata": {},
   "source": [
    "Let's try something different now.\n",
    "\n",
    "[Word2Vec](https://en.wikipedia.org/wiki/Word2vec) is a popular algorithm based on a shallow neural network, that can use large amounts of unannotated plain text, to learn relationships between words automatically. This is often very useful in recommender systems, text tagging or machine translation. Let's try to implement a basic version of this for our reviews data and observe some interesting (and natural) relationships between words. \n",
    "\n",
    "You will be using a new dataset which contains IMDB reviews, since we need a sufficiently large dataset and the Rotten Tomatoes dataset we have won't suffice. Download the data from [here](https://www.kaggle.com/lakshmi25npathi/imdb-dataset-of-50k-movie-reviews). Train a Word2Vec model on these reviews and try to do the following - \n",
    "\n",
    "* From 3.5, pick 3 words that best predict a \"fresh\" review, and another 3 words that best predict a \"rotten\" review. For each of these words, find and print the top 10 most similar words from the vocabulary. \n",
    "* Spot the odd one out! Use the model to find the odd word from each of these input lists of words- \n",
    "    * 'amazing','great','awesome','horrible'\n",
    "    * 'movie','cinema','theater','box'\n",
    "    * 'car','bike','ball','bus'\n",
    "    \n",
    "    \n",
    "Do you think this model is able to learn representations of words within a given context? Feel free to play around with the model and report any other interesting findings.\n",
    "\n",
    "\n",
    "NOTE - \n",
    "* You should use the [*gensim*](https://radimrehurek.com/gensim/index.html) library for this question. [This](https://radimrehurek.com/gensim/auto_examples/tutorials/run_word2vec.html) link contains all the details you need to get familarized with Word2Vec.\n",
    "* It is highly recommended to pre-process your input data before feeding it to the model. Most common pre-processing steps include changing to lower case, removing punctuations, removing non-alphabetic tokens and removing stop words. You may find the [*nltk*](https://www.nltk.org/) library very useful for this, but feel free to use any other library. You can run the below block to import these libraries (you may have to pip install if you do not have these already installed).\n",
    "* gensim provides access to pre-trained models ; **do not use a pre-trained model**. You should train the model yourself, and this will not take too long to run.\n",
    "* We recommend you set an embedding size of 100-200 and a window of 4 or 5 for the model."
   ]
  },
  {
   "cell_type": "code",
   "execution_count": 906,
   "metadata": {},
   "outputs": [],
   "source": [
    "import string\n",
    "import gensim\n",
    "import nltk\n",
    "from nltk.tokenize import word_tokenize\n",
    "from nltk.corpus import stopwords\n",
    "from nltk import *\n",
    "from gensim.test.utils import datapath\n",
    "from gensim import utils\n",
    "import gensim.models"
   ]
  },
  {
   "cell_type": "code",
   "execution_count": 938,
   "metadata": {},
   "outputs": [],
   "source": [
    "# Enter your code here\n",
    "class MyCorpus:\n",
    "    \"\"\"An iterator that yields sentences (lists of str).\"\"\"\n",
    "\n",
    "    def __iter__(self):\n",
    "        df = pd.read_csv('IMDB_Dataset.csv')\n",
    "        for i in range(len(df)):\n",
    "            review = df.iloc[i]['review']\n",
    "            words = nltk.word_tokenize(review)\n",
    "            words=[word.lower() for word in words if word.isalpha()]\n",
    "            stop_words = set(stopwords.words('english'))\n",
    "            words = [word for word in words if not word in stop_words]\n",
    "            #remove br\n",
    "            words = [word for word in words if not word == 'br']\n",
    "            if i % 1000 == 0:\n",
    "                print(i)\n",
    "            yield words"
   ]
  },
  {
   "cell_type": "code",
   "execution_count": null,
   "metadata": {},
   "outputs": [],
   "source": [
    "%%time\n",
    "sentences = MyCorpus()\n",
    "model = gensim.models.Word2Vec(sentences=sentences)"
   ]
  },
  {
   "cell_type": "code",
   "execution_count": null,
   "metadata": {},
   "outputs": [],
   "source": [
    "sims = model.wv.most_similar('computer', topn=10)"
   ]
  }
 ],
 "metadata": {
  "anaconda-cloud": {},
  "kernelspec": {
   "display_name": "Python 3",
   "language": "python",
   "name": "python3"
  },
  "language_info": {
   "codemirror_mode": {
    "name": "ipython",
    "version": 3
   },
   "file_extension": ".py",
   "mimetype": "text/x-python",
   "name": "python",
   "nbconvert_exporter": "python",
   "pygments_lexer": "ipython3",
   "version": "3.8.8"
  }
 },
 "nbformat": 4,
 "nbformat_minor": 1
}
