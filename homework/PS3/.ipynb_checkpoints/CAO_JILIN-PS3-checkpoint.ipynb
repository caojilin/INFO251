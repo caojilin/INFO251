{
 "cells": [
  {
   "cell_type": "markdown",
   "metadata": {},
   "source": [
    "# Problem Set 3\n",
    "\n",
    "### Before You Start\n",
    "\n",
    "Make sure the following libraries load correctly (hit Ctrl-Enter). Note that while you are loading several powerful libraries, including machine learning libraries, the goal of this problem set is to implement several algorithms from scratch. In particular, you should *not* be using any built-in libraries for nearest neighbors, distance metrics, or cross-validation -- your mission is to write those algorithms in Python! Part 1 will be relatively easy; Part 2 will take more time."
   ]
  },
  {
   "cell_type": "code",
   "execution_count": 1,
   "metadata": {},
   "outputs": [],
   "source": [
    "import IPython\n",
    "import numpy as np\n",
    "import scipy as sp\n",
    "import pandas as pd\n",
    "import matplotlib\n",
    "import sklearn\n",
    "import seaborn as sns"
   ]
  },
  {
   "cell_type": "code",
   "execution_count": 2,
   "metadata": {},
   "outputs": [],
   "source": [
    "%matplotlib inline  \n",
    "%config Completer.use_jedi = False\n",
    "import matplotlib.pyplot as plt  \n",
    "from heapq import * \n",
    "import random\n",
    "pd.options.mode.chained_assignment = None"
   ]
  },
  {
   "cell_type": "markdown",
   "metadata": {},
   "source": [
    "---\n",
    "\n",
    "## Introduction to the assignment\n",
    "\n",
    "For this assignment, you will be using the [Boston Housing Prices Data Set](http://www.kellogg.northwestern.edu/faculty/weber/emp/_session_3/boston.htm).  Please read about the dataset carefully before continuing.  Use the following commands to load the dataset:\n",
    "\n",
    "*NOTE - This dataset is similar to the one you used in PS1; we are just using a different method to load it this time. The column names and their order will remain the same for this dataset as was in PS1.*"
   ]
  },
  {
   "cell_type": "code",
   "execution_count": 3,
   "metadata": {},
   "outputs": [],
   "source": [
    "# load Boston housing data set\n",
    "data = np.loadtxt('data.txt')\n",
    "target = np.loadtxt('target.txt')\n",
    "target = target.reshape(-1, 1)\n",
    "full_data = np.append(data,target, axis=1)\n",
    "full_data = np.append(full_data, np.zeros(len(data)).reshape(-1,1), axis=1)\n",
    "df = pd.DataFrame(full_data)\n",
    "df.columns = ['CRIM','ZN', 'INDUS', 'CHAS', 'NOX', 'RM', 'AGE', 'DIS', 'RAD' ,'TAX' ,'PTRATIO'\n",
    " ,'B', 'LSTAT', 'MEDV', 'predictions']\n"
   ]
  },
  {
   "cell_type": "code",
   "execution_count": 4,
   "metadata": {},
   "outputs": [],
   "source": [
    "features_df = df.drop(['MEDV'],axis=1)\n",
    "target_df = df['MEDV']"
   ]
  },
  {
   "cell_type": "markdown",
   "metadata": {},
   "source": [
    "---\n",
    "\n",
    "## Part 1: Experimental Setup\n",
    "\n",
    "The goal of the next few sections is to design an experiment to predict the median home value for an instance in the data.\n",
    "Before beginning the \"real\" work, refamiliarize yourself with the dataset."
   ]
  },
  {
   "cell_type": "markdown",
   "metadata": {},
   "source": [
    "### 1.1 Begin by writing a function to compute the Root Mean Squared Error for a list of numbers\n",
    "\n",
    "You can find the sqrt function in the Numpy package. Furthermore the details of RMSE can be found on [Wikipedia](http://en.wikipedia.org/wiki/Root-mean-square_deviation). Do not use a built-in function  to compute RMSE, other than numpy functions like `sqrt` and if needed, `sum` or other relevant ones."
   ]
  },
  {
   "cell_type": "code",
   "execution_count": 5,
   "metadata": {},
   "outputs": [],
   "source": [
    "\"\"\"\n",
    "Function\n",
    "--------\n",
    "compute_rmse\n",
    "\n",
    "Given two arrays, one of actual values and one of predicted values,\n",
    "compute the Roote Mean Squared Error\n",
    "\n",
    "Parameters\n",
    "----------\n",
    "predictions : array\n",
    "    Array of numerical values corresponding to predictions for each of the N observations\n",
    "\n",
    "yvalues : array\n",
    "    Array of numerical values corresponding to the actual values for each of the N observations\n",
    "\n",
    "Returns\n",
    "-------\n",
    "rmse : int\n",
    "    Root Mean Squared Error of the prediction\n",
    "\n",
    "Example\n",
    "-------\n",
    ">>> print(compute_rmse((2,2,3),(0,2,6)))\n",
    "2.08\n",
    "\"\"\"\n",
    "def compute_rmse(predictions, yvalues):\n",
    "    rmse = np.sqrt(np.mean((np.array(yvalues) - np.array(predictions))**2))\n",
    "    return rmse"
   ]
  },
  {
   "cell_type": "code",
   "execution_count": 6,
   "metadata": {},
   "outputs": [
    {
     "data": {
      "text/plain": [
       "2.0816659994661326"
      ]
     },
     "execution_count": 6,
     "metadata": {},
     "output_type": "execute_result"
    }
   ],
   "source": [
    "compute_rmse((2,2,3),(0,2,6))"
   ]
  },
  {
   "cell_type": "markdown",
   "metadata": {},
   "source": [
    "### 1.2 Divide your data into training and testing datasets\n",
    "\n",
    "Randomly select 75% of the data and put this in a training dataset (call this \"bdata_train\"), and place the remaining 25% in a testing dataset (call this \"bdata_test\"). Do not use built-in functions.\n",
    "\n",
    "To perform any randomized operation, only use functions in the *numpy library (np.random)*. Do not use other packages for random functions."
   ]
  },
  {
   "cell_type": "code",
   "execution_count": 7,
   "metadata": {},
   "outputs": [
    {
     "data": {
      "text/plain": [
       "((506, 13), (506, 1))"
      ]
     },
     "execution_count": 7,
     "metadata": {},
     "output_type": "execute_result"
    }
   ],
   "source": [
    "data.shape, target.shape"
   ]
  },
  {
   "cell_type": "code",
   "execution_count": 8,
   "metadata": {},
   "outputs": [],
   "source": [
    "# leave the following line untouched, it will help ensure that your \"random\" split is the same \"random\" split used by the rest of the class\n",
    "np.random.seed(seed=13579)"
   ]
  },
  {
   "cell_type": "code",
   "execution_count": 9,
   "metadata": {},
   "outputs": [],
   "source": [
    "nrow = len(data)\n",
    "nrow_in_train = int(nrow * 0.75)\n",
    "nrow_in_test = nrow - nrow_in_train\n",
    "exclude = np.random.choice(nrow, nrow_in_test, replace=False)"
   ]
  },
  {
   "cell_type": "code",
   "execution_count": 10,
   "metadata": {},
   "outputs": [],
   "source": [
    "mask = np.ones(nrow, bool)\n",
    "mask[exclude] = False\n",
    "train = df[mask]\n",
    "test = df[~mask]"
   ]
  },
  {
   "cell_type": "markdown",
   "metadata": {},
   "source": [
    "### 1.3 Use a very bad baseline for prediction, and compute RMSE\n",
    "\n",
    "Let's start by creating a very bad baseline model that predicts median home values as the averages of `MEDV` based on adjacency to Charles River. \n",
    "\n",
    "Specifically, create a model that predicts, for every observation X_i, the median home value as the average of the median home values of all houses in the **training set** that have the same adjacency value as the observation.\n",
    "\n",
    "For example - For an input observation where `CHAS==1`, the model should predict the `MEDV` as the mean of all `MEDV` values in the training set that also have `CHAS==1`.\n",
    "\n",
    "\n",
    "\n",
    "Once the model is built, do the following:\n",
    "\n",
    "1. Compute the RMSE of the training set.\n",
    "2. Now compute the RMSE of the test data set (but use the model you trained on the training set!).\n",
    "3. How does RMSE compare for training vs. testing datasets? Is this what you expected, and why?\n",
    "4. Create a scatter plot that shows the true value of each instance on the x-axis and the predicted value of each instance on the y-axis. Color the training instances in blue and the test instances in red. Make sure to label your axes appropriately, and add a legend to your figure to make clear which dots are which.\n",
    "5. Add code to your function to measure the running time of your algorithm. How long does it take to compute the predicted values for the test data?\n",
    "\n",
    "\n",
    "*NOTE - Be careful while dealing with floats and integers. Additionally, the `groupby` operation might come handy here.*"
   ]
  },
  {
   "cell_type": "code",
   "execution_count": 11,
   "metadata": {
    "scrolled": false
   },
   "outputs": [
    {
     "data": {
      "text/plain": [
       "CHAS\n",
       "0.0    22.228205\n",
       "1.0    30.596429\n",
       "Name: MEDV, dtype: float64"
      ]
     },
     "execution_count": 11,
     "metadata": {},
     "output_type": "execute_result"
    }
   ],
   "source": [
    "train.groupby(['CHAS']).mean()['MEDV']"
   ]
  },
  {
   "cell_type": "code",
   "execution_count": 12,
   "metadata": {},
   "outputs": [],
   "source": [
    "#calculate the average for each group\n",
    "y_hat_0 = train.groupby(['CHAS']).mean()['MEDV'][0]\n",
    "y_hat_1 = train.groupby(['CHAS']).mean()['MEDV'][1]"
   ]
  },
  {
   "cell_type": "markdown",
   "metadata": {},
   "source": [
    "1. Compute the RMSE of the training set."
   ]
  },
  {
   "cell_type": "code",
   "execution_count": 13,
   "metadata": {},
   "outputs": [
    {
     "data": {
      "text/plain": [
       "9.125174724475736"
      ]
     },
     "execution_count": 13,
     "metadata": {},
     "output_type": "execute_result"
    }
   ],
   "source": [
    "#1\n",
    "mask = train['CHAS'] == 0\n",
    "train.loc[mask,'predictions'] = y_hat_0\n",
    "train.loc[~mask,'predictions'] = y_hat_1\n",
    "\n",
    "compute_rmse(train['predictions'], train['MEDV'])"
   ]
  },
  {
   "cell_type": "markdown",
   "metadata": {},
   "source": [
    "2. Now compute the RMSE of the test data set (but use the model you trained on the training set!)."
   ]
  },
  {
   "cell_type": "code",
   "execution_count": 14,
   "metadata": {},
   "outputs": [
    {
     "data": {
      "text/plain": [
       "8.880924989704944"
      ]
     },
     "execution_count": 14,
     "metadata": {},
     "output_type": "execute_result"
    }
   ],
   "source": [
    "#2\n",
    "mask = test['CHAS'] == 0\n",
    "test.loc[mask,'predictions'] = y_hat_0\n",
    "test.loc[~mask,'predictions'] = y_hat_1\n",
    "\n",
    "compute_rmse(test['predictions'], test['MEDV'])"
   ]
  },
  {
   "cell_type": "markdown",
   "metadata": {},
   "source": [
    "3. How does RMSE compare for training vs. testing datasets? Is this what you expected, and why?\n",
    " * They are about the same. Yes, because we are using the averages as predictions. Sample averages in training and testing data set are about the same."
   ]
  },
  {
   "cell_type": "markdown",
   "metadata": {},
   "source": [
    "4. Create a scatter plot that shows the true value of each instance on the x-axis and the predicted value of each instance on the y-axis. Color the training instances in blue and the test instances in red. Make sure to label your axes appropriately, and add a legend to your figure to make clear which dots are which."
   ]
  },
  {
   "cell_type": "code",
   "execution_count": 15,
   "metadata": {},
   "outputs": [
    {
     "data": {
      "image/png": "[encoded data removed]",
      "text/plain": [
       "<Figure size 432x288 with 1 Axes>"
      ]
     },
     "metadata": {
      "needs_background": "light"
     },
     "output_type": "display_data"
    }
   ],
   "source": [
    "fig = plt.figure()\n",
    "ax1 = fig.add_subplot(111)\n",
    "\n",
    "ax1.scatter(train['MEDV'], train['predictions'], s=10, c='b', marker=\"s\", alpha=0.5,label='training instances')\n",
    "ax1.scatter(test['MEDV'],test['predictions'], s=10, c='r',alpha=0.5, marker=\"o\", label='test instances')\n",
    "plt.legend(loc='center right');\n",
    "plt.xlabel('true values', fontsize=18)\n",
    "plt.ylabel('predicted values', fontsize=16)\n",
    "plt.show()\n"
   ]
  },
  {
   "cell_type": "markdown",
   "metadata": {},
   "source": [
    "5. Add code to your function to measure the running time of your algorithm. How long does it take to compute the predicted values for the test data?"
   ]
  },
  {
   "cell_type": "code",
   "execution_count": 16,
   "metadata": {},
   "outputs": [],
   "source": [
    "import time\n",
    "def compute_rmse(predictions, yvalues):\n",
    "    rmse = np.sqrt(np.mean((np.array(yvalues) - np.array(predictions))**2))\n",
    "    return rmse"
   ]
  },
  {
   "cell_type": "code",
   "execution_count": 17,
   "metadata": {},
   "outputs": [
    {
     "name": "stdout",
     "output_type": "stream",
     "text": [
      "time takes to compute rmse is: 0s\n",
      "rmse is 8.880924989704944\n"
     ]
    }
   ],
   "source": [
    "start = time.time()\n",
    "rmse = compute_rmse(test['predictions'], test['MEDV'])\n",
    "end = time.time()\n",
    "print(f\"time takes to compute rmse is: {round(end - start)}s\")\n",
    "print(f\"rmse is {rmse}\")"
   ]
  },
  {
   "cell_type": "markdown",
   "metadata": {},
   "source": [
    "---\n",
    "\n",
    "## Part 2: Nearest Neighbors\n"
   ]
  },
  {
   "cell_type": "markdown",
   "metadata": {},
   "source": [
    "### 2.1 Nearest Neighbors: Distance function\n",
    "Let's try and build a machine learning algorithm to beat the \"Average Value\" baseline that you computed above.  Soon you will implement the Nearest Neighbor algorithm, but first you need to create a distance metric to measure the distance (and similarity) between two instances.  Write a generic function to compute the L-Norm distance (called the [*p*-norm][1] distance on Wikipedia). Verify that your function works by computing the Euclidean distance between the points (1,2) and (1,8), and then compute the Manhattan distance between (4,4) and (12,10).\n",
    "\n",
    "[1]: https://en.wikipedia.org/wiki/Norm_(mathematics)#p-norm"
   ]
  },
  {
   "cell_type": "code",
   "execution_count": 18,
   "metadata": {},
   "outputs": [],
   "source": [
    "\"\"\"\n",
    "Function\n",
    "--------\n",
    "distance\n",
    "\n",
    "Given two instances and a value for L, return the L-Norm distance between them\n",
    "\n",
    "Parameters\n",
    "----------\n",
    "x1, x2 : array\n",
    "    Array of numerical values corresponding to predictions for each of the N observations\n",
    "\n",
    "L: int\n",
    "    Value of L to use in computing distances\n",
    "\n",
    "Returns\n",
    "-------\n",
    "dist : int\n",
    "    The L-norm distance between instances\n",
    "\n",
    "Example\n",
    "-------\n",
    ">>> print(distance((1,2),(1,8),2))\n",
    "6\n",
    "\n",
    "\"\"\"\n",
    "def distance(x1, x2, L):\n",
    "    x1 = np.array(x1)\n",
    "    x2 = np.array(x2)\n",
    "    dist = (np.sum(abs(x1-x2)**L))**(1/L)\n",
    "    return dist"
   ]
  },
  {
   "cell_type": "code",
   "execution_count": 19,
   "metadata": {
    "scrolled": true
   },
   "outputs": [
    {
     "data": {
      "text/plain": [
       "6.0"
      ]
     },
     "execution_count": 19,
     "metadata": {},
     "output_type": "execute_result"
    }
   ],
   "source": [
    "distance((1,2),(1,8),2)"
   ]
  },
  {
   "cell_type": "code",
   "execution_count": 20,
   "metadata": {},
   "outputs": [
    {
     "data": {
      "text/plain": [
       "14.0"
      ]
     },
     "execution_count": 20,
     "metadata": {},
     "output_type": "execute_result"
    }
   ],
   "source": [
    "distance((4,4),(12,10),1)"
   ]
  },
  {
   "cell_type": "markdown",
   "metadata": {},
   "source": [
    "### 2.2 Basic Nearest Neighbor algorithm\n",
    "\n",
    "Your next task is to implement a basic nearest neighbor algorithm from scratch.  Your simple model will use three input features (`CRIM, RM and ZN`) and a single output (`MEDV`).  In other words, you are modelling the relationship between median home value and crime rates, house size and the proportion of residential land zoned for lots.\n",
    "\n",
    "Use your training data (bdata_train) to \"fit\" your model, although as you know, with Nearest Neighbors there is no real training, you just need to keep your training data in memory.  Write a function that predicts the median home value using the nearest neighbor algorithm we discussed in class.  Since this is a small dataset, you can simply compare your test instance to every instance in the training set, and return the `MEDV` value of the closest training instance.  Have your function take L as an input, where L is passed to the distance function. Use L=2 for all questions henceforth unless explicitly stated otherwise.\n",
    "\n",
    "Make sure to do the following - \n",
    "1. Fill in the function specification below\n",
    "2. Use your algorithm to predict the median home value of every instance in the test set. Report the RMSE (\"test RMSE\")\n",
    "3. Use your algorithm to predict the median home value of every instance in the training set and report the training RMSE.\n",
    "4. Create a scatter plot that shows the true value of each instance on the x-axis and the predicted value of each instance on the y-axis. Color the training instances in blue and the test instances in red. \n",
    "5. Report an estimate of the total time taken by your code to predict the nearest neighbors for all the values in the test data set.\n",
    "6. How does the performance (test RMSE and total runtime) of your nearest neighbors algorithm compare to the baseline in part 1.3?"
   ]
  },
  {
   "cell_type": "code",
   "execution_count": 21,
   "metadata": {},
   "outputs": [],
   "source": [
    "\"\"\"\n",
    "Function\n",
    "--------\n",
    "Nearest Neighbors\n",
    "\n",
    "Implementation of nearest neighbors algorithm.\n",
    "\n",
    "Parameters\n",
    "----------\n",
    "x_train: array\n",
    "    Array of numerical feature values for training the model.\n",
    "y_train: array\n",
    "    Array of numerical output values for training the model.\n",
    "x_test: array\n",
    "    Array of numerical feature values for testing the model.\n",
    "y_test: array\n",
    "    Array of numerical output values for testing the model.\n",
    "L: int\n",
    "    Order of L-norm function used for calculating distance.\n",
    "\n",
    "Returns\n",
    "-------\n",
    "rmse : int\n",
    "    Value of the RMSE from data.\n",
    "\"\"\"\n",
    "\n",
    "def nneighbor(x_train,y_train,x_test,y_test, L, features, display_time=True):\n",
    "    start_time = time.time()\n",
    "    preds = np.zeros(len(x_test))\n",
    "    for i in range(len(preds)):\n",
    "        dists = 10**10\n",
    "        xi = np.array(x_test.iloc[i,features])\n",
    "        for j in range(len(x_train)):\n",
    "            xj = np.array(x_train.iloc[j,features])\n",
    "            new_dist = distance(xi, xj, L)\n",
    "            if new_dist < dists:\n",
    "                dists = new_dist\n",
    "                preds[i] = y_train.iloc[j]\n",
    "    \n",
    "    rmse = compute_rmse(preds, y_test)\n",
    "    if display_time:\n",
    "        print(\"Time taken: {:.2f} seconds\".format(time.time() - start_time))\n",
    "    return rmse , preds\n"
   ]
  },
  {
   "cell_type": "markdown",
   "metadata": {},
   "source": [
    "2. Use your algorithm to predict the median home value of every instance in the test set. Report the RMSE (\"test RMSE\")"
   ]
  },
  {
   "cell_type": "code",
   "execution_count": 22,
   "metadata": {},
   "outputs": [
    {
     "name": "stdout",
     "output_type": "stream",
     "text": [
      "Time taken: 9.30 seconds\n",
      "the test rmse is 7.570570870620433\n"
     ]
    }
   ],
   "source": [
    "test_rmse, test_preds = nneighbor(train,train['MEDV'],test,test['MEDV'], 2, [0,1,5])\n",
    "print(f\"the test rmse is {test_rmse}\")"
   ]
  },
  {
   "cell_type": "markdown",
   "metadata": {},
   "source": [
    "3. Use your algorithm to predict the median home value of every instance in the training set and report the training RMSE.\n",
    " * In 1-nearest neighbor the training error is 0 because the closest point to each instance is itself."
   ]
  },
  {
   "cell_type": "code",
   "execution_count": 23,
   "metadata": {
    "scrolled": true
   },
   "outputs": [
    {
     "name": "stdout",
     "output_type": "stream",
     "text": [
      "Time taken: 0.00 seconds\n",
      "the train rmse is 0.0\n"
     ]
    }
   ],
   "source": [
    "#3\n",
    "def nneighbor2(x_train,y_train,x_test,y_test, L):\n",
    "    start_time = time.time()\n",
    "    preds = y_train\n",
    "    rmse = compute_rmse(preds, y_train)\n",
    "    print(\"Time taken: {:.2f} seconds\".format(time.time() - start_time))\n",
    "    return rmse, preds\n",
    "\n",
    "train_rmse, train_preds = nneighbor2(train,train['MEDV'],test,test['MEDV'], 2)\n",
    "print(f\"the train rmse is {train_rmse}\")"
   ]
  },
  {
   "cell_type": "markdown",
   "metadata": {},
   "source": [
    "4. Create a scatter plot that shows the true value of each instance on the x-axis and the predicted value of each instance on the y-axis. Color the training instances in blue and the test instances in red. "
   ]
  },
  {
   "cell_type": "code",
   "execution_count": 24,
   "metadata": {
    "scrolled": true
   },
   "outputs": [
    {
     "data": {
      "image/png": "[encoded data removed]",
      "text/plain": [
       "<Figure size 432x288 with 1 Axes>"
      ]
     },
     "metadata": {
      "needs_background": "light"
     },
     "output_type": "display_data"
    }
   ],
   "source": [
    "fig = plt.figure()\n",
    "ax1 = fig.add_subplot(111)\n",
    "\n",
    "ax1.scatter(train['MEDV'], train_preds, s=10, c='b', marker=\"s\", alpha=0.5,label='training instances')\n",
    "ax1.scatter(test['MEDV'],test_preds, s=10, c='r',alpha=0.5, marker=\"o\", label='test instances')\n",
    "plt.legend(loc='center right');\n",
    "plt.xlabel('true values', fontsize=18)\n",
    "plt.ylabel('predicted values', fontsize=16)\n",
    "plt.show()"
   ]
  },
  {
   "cell_type": "markdown",
   "metadata": {},
   "source": [
    "5. Report an estimate of the total time taken by your code to predict the nearest neighbors for all the values in the test data set."
   ]
  },
  {
   "cell_type": "code",
   "execution_count": 25,
   "metadata": {},
   "outputs": [
    {
     "name": "stdout",
     "output_type": "stream",
     "text": [
      "Time taken: 9.55 seconds\n",
      "the test rmse is 4.560934770883264\n"
     ]
    }
   ],
   "source": [
    "test_rmse, test_preds = nneighbor(train,train['MEDV'],test,test['MEDV'], 2, list(range(14)))\n",
    "print(f\"the test rmse is {test_rmse}\")"
   ]
  },
  {
   "cell_type": "markdown",
   "metadata": {},
   "source": [
    "6. How does the performance (test RMSE and total runtime) of your nearest neighbors algorithm compare to the baseline in part 1.3?\n",
    " * RMSE is lower and runtime is slower than 1.3 baseline method"
   ]
  },
  {
   "cell_type": "markdown",
   "metadata": {},
   "source": [
    "### 2.3 Results and Normalization\n",
    "\n",
    "If you were being astute, you would have noticed that we never normalized our features -- a big no-no with Nearest Neighbor algorithms.  Write a generic normalization function that takes as input an array of values for a given feature, and returns the standardized array (subtract the mean and divide by the standard deviation).\n",
    "\n",
    "Re-run the Nearest Neighbor algorithm on the normalized dataset (still just using `CRIM, RM and ZN` as input), and compare the RMSE from this method with your previous RMSE evaluations. What do you observe?\n",
    "\n",
    "*NOTE*: To normalize properly, you should compute the mean and standard deviation on the training set, and use the same values to normalize both the training and the testing dataset.\n",
    "\n",
    "*NOTE 2*: In this case, the normalization may or may not reduce the RMSE; don't get confused if you find that to be the case."
   ]
  },
  {
   "cell_type": "code",
   "execution_count": 99,
   "metadata": {
    "scrolled": true
   },
   "outputs": [],
   "source": [
    "\"\"\"\n",
    "Function\n",
    "--------\n",
    "Normalize data\n",
    "\n",
    "Normalize all of the features in a data frame.\n",
    "\n",
    "Parameters\n",
    "----------\n",
    "raw_data: array\n",
    "    Array of numerical values to normalize.\n",
    "\n",
    "Returns\n",
    "-------\n",
    "normalized_data : array\n",
    "    The array with normalized values for all features\n",
    "\"\"\"\n",
    "\n",
    "\n",
    "def normalize(raw_data, mean, std):\n",
    "    normalized_data=(raw_data - mean)/std\n",
    "    return normalized_data\n",
    "\n",
    "normalized_train = normalize(train, train.mean(),  train.std())\n",
    "normalized_test = normalize(test, train.mean(), train.std())"
   ]
  },
  {
   "cell_type": "code",
   "execution_count": 100,
   "metadata": {},
   "outputs": [
    {
     "name": "stdout",
     "output_type": "stream",
     "text": [
      "Time taken: 9.59 seconds\n",
      "the test rmse is 8.95689150943624\n"
     ]
    }
   ],
   "source": [
    "test_rmse, test_preds = nneighbor(normalized_train, train['MEDV'], normalized_test, test['MEDV'], L=2, features=[0,1,5])\n",
    "print(f\"the test rmse is {test_rmse}\")"
   ]
  },
  {
   "cell_type": "markdown",
   "metadata": {},
   "source": [
    "the test rmse has increased from 7.570570870620433 to 8.95689150943624"
   ]
  },
  {
   "cell_type": "markdown",
   "metadata": {},
   "source": [
    "### 2.4 Optimization\n",
    "\n",
    "A lot of the decisions we've made so far have been arbitrary.  Try to increase the performance of your nearest neighbor algorithm by adding features that you think might be relevant, and by using different values of L in the distance function.  Try a model that uses a different set of 2 features, then try at least one model that uses more than 4 features, then try using a different value of L.  If you're having fun, try a few different combinations of features and L! Use the test set to report the RMSE values.\n",
    "\n",
    "What combination of features and distance function provide the lowest RMSE on the test set?  Do your decisions affect the running time of the algorithm?\n",
    "\n",
    "*NOTE:* For this and all subsequent questions, you should use normalized features. "
   ]
  },
  {
   "cell_type": "code",
   "execution_count": 29,
   "metadata": {},
   "outputs": [
    {
     "name": "stdout",
     "output_type": "stream",
     "text": [
      "Time taken: 9.50 seconds\n",
      "the test rmse is 7.124047111305097\n"
     ]
    }
   ],
   "source": [
    "#model 1: include 'TAX' and 'PTRATIO'\n",
    "test_rmse, test_preds = nneighbor(normalized_train,train['MEDV'],normalized_test,test['MEDV'], 2, [9, 10])\n",
    "print(f\"the test rmse is {test_rmse}\")"
   ]
  },
  {
   "cell_type": "code",
   "execution_count": 30,
   "metadata": {},
   "outputs": [
    {
     "name": "stdout",
     "output_type": "stream",
     "text": [
      "Time taken: 9.79 seconds\n",
      "the test rmse is 4.5798342644427406\n"
     ]
    }
   ],
   "source": [
    "#model 2: include 'TAX', 'PTRATIO', 'RM', 'INDUS' and 'LSTAT'\n",
    "test_rmse, test_preds = nneighbor(normalized_train,train['MEDV'],normalized_test,test['MEDV'], 2, [2, 5, 9, 10, 12])\n",
    "print(f\"the test rmse is {test_rmse}\")"
   ]
  },
  {
   "cell_type": "code",
   "execution_count": 31,
   "metadata": {},
   "outputs": [
    {
     "name": "stdout",
     "output_type": "stream",
     "text": [
      "Time taken: 9.62 seconds\n",
      "the test rmse is 4.693914639793665\n"
     ]
    }
   ],
   "source": [
    "#model 3: include 'TAX', 'PTRATIO', 'RM', 'INDUS' and 'LSTAT' and L=1\n",
    "test_rmse, test_preds = nneighbor(normalized_train,train['MEDV'],normalized_test,test['MEDV'], 1, [2, 5, 9, 10, 12])\n",
    "print(f\"the test rmse is {test_rmse}\")"
   ]
  },
  {
   "cell_type": "markdown",
   "metadata": {},
   "source": [
    "* model 2 gives the lowest RMSE\n",
    "* adding more features will slow down the runtime"
   ]
  },
  {
   "cell_type": "markdown",
   "metadata": {},
   "source": [
    "### 2.5 Cross-Validation\n",
    "\n",
    "The more you tinkered with your features and distance function, the higher the risk that you overfit your training data.  One solution to this sort of overfitting is to use cross-validation (see K-fold [cross-validation][1].  Here you must implement a simple k-fold cross-validation algorithm yourself.  The function you write here will be used several more times in this problem set, so do your best to write efficient code! (Note that the sklearn package has a built-in [K-fold][2] iterator -- you should *not* be invoking that or any related algorithms in this section of the problem set.)\n",
    "\n",
    "Use 50-fold cross-validation and report the average RMSE for Nearest Neighbors using Euclidean distance with `CRIM,RM and ZN` input features, as well as the total running time for the full run of 50 folds.  In other words, randomly divide your training dataset (created in 1.2) into 50 equally-sized samples.\n",
    "\n",
    "For each of the 50 iterations (the \"folds\"), use 49 samples as \"training data\" (even though there is no training in k-NN!), and the remaining 1 sample for validation.  Compute the RMSE of that particular validation set, then move on to the next iteration.  \n",
    "\n",
    " - Report the average cross-validated RMSE across the 50 iterations. What do you observe?\n",
    " \n",
    " - Create a histogram of the RMSEs for the folds (there should be 50 of these). Additionally, use a horizontal line to mark the average cross-validated RMSE.\n",
    "\n",
    "\n",
    "[1]: http://en.wikipedia.org/wiki/Cross-validation_(statistics)\n",
    "[2]: http://scikit-learn.org/stable/modules/cross_validation.html#cross-validation\n",
    "\n",
    "\n",
    "\n",
    "NOTE: To perform any randomized operation, only use functions in the *numpy library (np.random)*. Do not use other packages for random functions.\n",
    "\n",
    "HINT: Running 50-fold cross validation might be time-consuming. Try starting with 5 folds."
   ]
  },
  {
   "cell_type": "code",
   "execution_count": 60,
   "metadata": {},
   "outputs": [],
   "source": [
    "np.random.seed(1)"
   ]
  },
  {
   "cell_type": "code",
   "execution_count": 84,
   "metadata": {},
   "outputs": [],
   "source": [
    "def CV(df, num_folds, nrow):\n",
    "    indices = list(range(nrow))\n",
    "    np.random.shuffle(indices)\n",
    "    folds = np.array_split(indices, num_folds)\n",
    "    k_folds_rmse = np.zeros(num_folds)\n",
    "    for i in range(len(folds)):\n",
    "        test_indices = folds[i]\n",
    "        train_indices = np.concatenate(np.delete(folds, i)).ravel()\n",
    "        train_cv = df.iloc[train_indices]\n",
    "        test_cv = df.iloc[test_indices]\n",
    "        normalized_train = normalize(train_cv, train_cv.mean(),  train_cv.std())\n",
    "        normalized_test = normalize(test_cv, train_cv.mean(), train_cv.std())\n",
    "        test_rmse, test_preds = nneighbor(normalized_train,train_cv['MEDV'],normalized_test,test_cv['MEDV'], 2, [0,1,5], display_time=False)\n",
    "        k_folds_rmse[i] = test_rmse\n",
    "    return k_folds_rmse"
   ]
  },
  {
   "cell_type": "code",
   "execution_count": 85,
   "metadata": {
    "scrolled": true
   },
   "outputs": [
    {
     "name": "stderr",
     "output_type": "stream",
     "text": [
      "/usr/local/lib/python3.8/site-packages/numpy/core/_asarray.py:83: VisibleDeprecationWarning: Creating an ndarray from ragged nested sequences (which is a list-or-tuple of lists-or-tuples-or ndarrays with different lengths or shapes) is deprecated. If you meant to do this, you must specify 'dtype=object' when creating the ndarray\n",
      "  return array(a, dtype, copy=False, order=order)\n"
     ]
    }
   ],
   "source": [
    "k_folds_rmse = CV(train, num_folds=50, nrow=len(train))"
   ]
  },
  {
   "cell_type": "code",
   "execution_count": 86,
   "metadata": {},
   "outputs": [
    {
     "data": {
      "text/plain": [
       "array([ 5.75423757,  6.05794932,  5.8850446 ,  3.91726946,  4.96361763,\n",
       "        3.94414122,  4.10304765,  5.22446169, 13.64766464,  5.6781379 ,\n",
       "        7.21266248,  6.92603783,  4.0931345 ,  4.37449997,  6.57181482,\n",
       "        3.28842668, 14.06711591, 15.27616608,  7.14317856,  5.06717377,\n",
       "        4.59075157,  6.91483912,  9.4546946 ,  4.10076212, 13.00134608,\n",
       "        5.60903289,  5.26569084, 13.93727018,  8.16876674,  5.67123066,\n",
       "       11.72719672,  4.47724405,  7.64852927,  5.78174467,  6.01723714,\n",
       "        6.35924524,  7.3420511 ,  2.00214171,  3.49305433,  5.32634959,\n",
       "        4.44923749, 14.51142407,  2.62161346,  5.41466263,  8.52349693,\n",
       "        4.72772975,  7.16738645,  3.93282886,  2.94763828, 12.34284061])"
      ]
     },
     "execution_count": 86,
     "metadata": {},
     "output_type": "execute_result"
    }
   ],
   "source": [
    "k_folds_rmse"
   ]
  },
  {
   "cell_type": "markdown",
   "metadata": {},
   "source": [
    "Report the average cross-validated RMSE across the 50 iterations. What do you observe?"
   ]
  },
  {
   "cell_type": "code",
   "execution_count": 87,
   "metadata": {},
   "outputs": [
    {
     "data": {
      "text/plain": [
       "6.73447638883018"
      ]
     },
     "execution_count": 87,
     "metadata": {},
     "output_type": "execute_result"
    }
   ],
   "source": [
    "np.mean(k_folds_rmse)"
   ]
  },
  {
   "cell_type": "markdown",
   "metadata": {},
   "source": [
    "RMSE calculated when use CV is smaller than not use CV"
   ]
  },
  {
   "cell_type": "markdown",
   "metadata": {},
   "source": [
    "Create a histogram of the RMSEs for the folds (there should be 50 of these). Additionally, use a horizontal line to mark the average cross-validated RMSE."
   ]
  },
  {
   "cell_type": "code",
   "execution_count": 38,
   "metadata": {},
   "outputs": [
    {
     "data": {
      "image/png": "[encoded data removed]",
      "text/plain": [
       "<Figure size 432x288 with 1 Axes>"
      ]
     },
     "metadata": {
      "needs_background": "light"
     },
     "output_type": "display_data"
    }
   ],
   "source": [
    "plt.hist(k_folds_rmse)\n",
    "plt.axvline(np.mean(k_folds_rmse), color='k')\n",
    "plt.show()"
   ]
  },
  {
   "cell_type": "markdown",
   "metadata": {},
   "source": [
    "### 2.6 K-Nearest Neighbors Algorithm\n",
    "\n",
    "Implement the K-Nearest Neighbors algorithm.  Use 10-fold cross validation and L2 normalization, and the same features as in 2.5. Report the RMSE for K=4 and the running time of the algorithm. What do you observe?"
   ]
  },
  {
   "cell_type": "code",
   "execution_count": 89,
   "metadata": {},
   "outputs": [],
   "source": [
    "\"\"\"\n",
    "Function\n",
    "--------\n",
    "K-Nearest Neighbors\n",
    "\n",
    "Implementation of nearest neighbors algorithm.\n",
    "\n",
    "Parameters\n",
    "----------\n",
    "x_train: array\n",
    "    Array of numerical feature values for training the model.\n",
    "y_train: array\n",
    "    Array of numerical output values for training the model.\n",
    "x_test: array\n",
    "    Array of numerical feature values for testing the model.\n",
    "y_test: array\n",
    "    Array of numerical output values for testing the model.\n",
    "L: int\n",
    "    Order of L-norm function used for calculating distance.\n",
    "K: int\n",
    "    Neighbors to include in algorithm\n",
    "    \n",
    "Returns\n",
    "-------\n",
    "rmse : int\n",
    "    Value of the RMSE from data.\n",
    "\"\"\"\n",
    "\n",
    "def knn(x_train,y_train,x_test,y_test, L, K, features, display_time=True):\n",
    "    start_time = time.time()\n",
    "    preds = np.zeros(len(x_test))\n",
    "    for i in range(len(preds)):\n",
    "        dists = []\n",
    "        xi = np.array(x_test.iloc[i,features])\n",
    "        for j in range(len(x_train)):\n",
    "            xj = np.array(x_train.iloc[j,features])\n",
    "            new_dist = distance(xi, xj, L)\n",
    "            heappush(dists, (new_dist, y_train.iloc[j]))\n",
    "       \n",
    "        top_k_items = np.array(nsmallest(K, dists))\n",
    "        preds[i] = np.mean(top_k_items[:,1])\n",
    "    rmse = compute_rmse(preds, y_test)\n",
    "    if display_time:\n",
    "        print(\"Time taken: {:.2f} seconds\".format(time.time() - start_time))\n",
    "    return rmse, preds\n",
    "\n",
    "def CV2(df, num_folds, nrow, k, features):\n",
    "    indices = list(range(nrow))\n",
    "    np.random.shuffle(indices)\n",
    "    folds = np.array_split(indices, num_folds)\n",
    "    k_folds_rmse = np.zeros(num_folds)\n",
    "    for i in range(len(folds)):\n",
    "        test_indices = folds[i]\n",
    "        train_indices = np.concatenate(np.delete(folds, i)).ravel()\n",
    "        train_cv = df.iloc[train_indices]\n",
    "        test_cv = df.iloc[test_indices]\n",
    "        normalized_train = normalize(train_cv, train_cv.mean(),  train_cv.std())\n",
    "        normalized_test = normalize(test_cv, train_cv.mean(), train_cv.std())\n",
    "        test_rmse, test_preds = knn(normalized_train,train_cv['MEDV'],normalized_test,test_cv['MEDV'],\n",
    "                                    L=2,K=k,features= features, display_time=False)\n",
    "        k_folds_rmse[i] = test_rmse\n",
    "    return k_folds_rmse"
   ]
  },
  {
   "cell_type": "code",
   "execution_count": 90,
   "metadata": {
    "scrolled": true
   },
   "outputs": [],
   "source": [
    "k_folds_rmse = CV2(train, num_folds=10, nrow=len(train), k=4, features=[0,1,5])"
   ]
  },
  {
   "cell_type": "code",
   "execution_count": 91,
   "metadata": {},
   "outputs": [
    {
     "data": {
      "text/plain": [
       "6.144938334034544"
      ]
     },
     "execution_count": 91,
     "metadata": {},
     "output_type": "execute_result"
    }
   ],
   "source": [
    "np.mean(k_folds_rmse)"
   ]
  },
  {
   "cell_type": "markdown",
   "metadata": {},
   "source": [
    "### 2.7 Using cross validation to find K\n",
    "\n",
    "Compute the cross-validated RMSE for values of K between 1 and 25 using 10-fold cross-validation and L2 normalization.  Use the following features in your model: `CRIM, ZN, RM, AGE, DIS, TAX`.  Create a graph that shows how cross-validated RMSE changes as K increases from 1 to 25.  Label your axes, and summarize what you see.  What do you think is a reasonable choice of K for this model?\n",
    "\n",
    "Finally, report the test RMSE using the value of K that minimized the cross-validated RMSE. (Continue to use L2 normalization and the same set of features). How does the test RMSE compare to the cross-validated RMSE, and is this what you expected? How does the test RMSE compare to the test RMSE from 2.4, and is this what you expected?"
   ]
  },
  {
   "cell_type": "code",
   "execution_count": 92,
   "metadata": {},
   "outputs": [
    {
     "name": "stdout",
     "output_type": "stream",
     "text": [
      "k=1, time = 27.04152488708496]\n",
      "k=2, time = 26.348567962646484]\n",
      "k=3, time = 26.369216918945312]\n",
      "k=4, time = 26.210892915725708]\n",
      "k=5, time = 26.175636053085327]\n",
      "k=6, time = 26.088287115097046]\n",
      "k=7, time = 26.270797967910767]\n",
      "k=8, time = 26.025145769119263]\n",
      "k=9, time = 25.954923152923584]\n",
      "k=10, time = 27.031147956848145]\n",
      "k=11, time = 27.32562494277954]\n",
      "k=12, time = 26.856565952301025]\n",
      "k=13, time = 27.3560209274292]\n",
      "k=14, time = 27.269285202026367]\n",
      "k=15, time = 26.938745975494385]\n",
      "k=16, time = 28.92229199409485]\n",
      "k=17, time = 27.05611300468445]\n",
      "k=18, time = 26.791062831878662]\n",
      "k=19, time = 26.759788990020752]\n",
      "k=20, time = 26.982183933258057]\n",
      "k=21, time = 26.62067413330078]\n",
      "k=22, time = 27.391767978668213]\n",
      "k=23, time = 28.173285007476807]\n",
      "k=24, time = 28.02463412284851]\n",
      "k=25, time = 26.845809936523438]\n"
     ]
    }
   ],
   "source": [
    "average_rmse = np.zeros(25)\n",
    "for i in range(25):\n",
    "    start = time.time()\n",
    "    k_folds_rmse = CV2(train, num_folds=10, nrow=len(train), k=i+1, features=[0,1,5,6,7,9])\n",
    "    average_rmse[i]=np.mean(k_folds_rmse)\n",
    "    end = time.time()\n",
    "    print(f\"k={i+1}, time = {end - start}]\")"
   ]
  },
  {
   "cell_type": "code",
   "execution_count": 98,
   "metadata": {
    "scrolled": true
   },
   "outputs": [
    {
     "data": {
      "image/png": "[encoded data removed]",
      "text/plain": [
       "<Figure size 432x288 with 1 Axes>"
      ]
     },
     "metadata": {
      "needs_background": "light"
     },
     "output_type": "display_data"
    },
    {
     "name": "stdout",
     "output_type": "stream",
     "text": [
      "when k = 6, the average cross-validated RMSE is the smallest\n"
     ]
    }
   ],
   "source": [
    "x = np.arange(1,26)\n",
    "y = average_rmse\n",
    "plt.plot(x, y)\n",
    "plt.xlabel(\"k\")\n",
    "plt.ylabel(\"average rmse\")\n",
    "plt.show()\n",
    "print(f\"when k = {np.argmin(average_rmse)}, the average cross-validated RMSE is the smallest\")"
   ]
  },
  {
   "cell_type": "code",
   "execution_count": 101,
   "metadata": {},
   "outputs": [],
   "source": [
    "test_rmse, test_preds = knn(normalized_train,train['MEDV'],normalized_test,test['MEDV'],\n",
    "                                    L=2,K=6,features= [0,1,5,6,7,9], display_time=False)"
   ]
  },
  {
   "cell_type": "code",
   "execution_count": 102,
   "metadata": {},
   "outputs": [
    {
     "data": {
      "text/plain": [
       "3.641033942643019"
      ]
     },
     "execution_count": 102,
     "metadata": {},
     "output_type": "execute_result"
    }
   ],
   "source": [
    "test_rmse"
   ]
  },
  {
   "cell_type": "markdown",
   "metadata": {},
   "source": [
    "in 2.4, the smallest test rmse is 4.5798342644427406  \n",
    "in 2.7, k=6, the smallest test rmse is 3.641033942643019  \n",
    "It is what I expected as optimal k is choosen by cross validaiton. This model generalizes better than naive k=1 in 2.4"
   ]
  },
  {
   "cell_type": "markdown",
   "metadata": {},
   "source": [
    "### Extra-Credit: Forward selection\n",
    "\n",
    "Thus far the choice of predictor variables has been rather arbitrary. For extra credit, implement a basic [forward selection](https://see.stanford.edu/materials/aimlcs229/cs229-notes5.pdf) algorithm to progressively include features that decrease the cross-validated RMSE of the model. Note that the optimal value of K may be different for each model, so you may want to use cross-validation to choose K each time (but it is also fine if you fix K at the optimal value from 2.7).  Create a graph that shows RMSE as a function of the number of features in the model. Label each point on the x-axis with the name of the feature that is added at that step in the forward selection algorithm. *(For instance, if the optimal single-feature model has CRIM with RMSE = 10, and the optimal two-feature model has CRIM+ZN with RMSE=9, the first x-axis label will say CRIM and the second x-axis lable with say ZN)*"
   ]
  },
  {
   "cell_type": "markdown",
   "metadata": {},
   "source": [
    "### The runtime for full data set is too slow. I choose to use a subset of the original data to show my code works."
   ]
  },
  {
   "cell_type": "code",
   "execution_count": 171,
   "metadata": {},
   "outputs": [],
   "source": [
    "temp_train = train.iloc[:100,]\n",
    "temp_test = test.iloc[:10,]\n",
    "\n",
    "# temp_train = train.copy()\n",
    "# temp_test = test.copy()\n",
    "\n",
    "temp_normalized_train = normalize(temp_train, temp_train.mean(),  temp_train.std())\n",
    "temp_normalized_test = normalize(temp_test, temp_train.mean(), temp_train.std())"
   ]
  },
  {
   "cell_type": "code",
   "execution_count": 172,
   "metadata": {},
   "outputs": [
    {
     "name": "stdout",
     "output_type": "stream",
     "text": [
      "current feature selected is  5 test rmse is 3.222\n",
      "['RM']\n",
      "time takes for each selection: 2.9 s\n",
      "\n",
      "current feature selected is  6 test rmse is 2.456\n",
      "['RM', 'AGE']\n",
      "time takes for each selection: 2.75 s\n",
      "\n",
      "current feature selected is  8 test rmse is 1.629\n",
      "['RM', 'AGE', 'RAD']\n",
      "time takes for each selection: 2.47 s\n",
      "\n",
      "current feature selected is  12 test rmse is 1.663\n",
      "['RM', 'AGE', 'RAD', 'LSTAT']\n",
      "time takes for each selection: 2.36 s\n",
      "\n",
      "current feature selected is  2 test rmse is 1.676\n",
      "['RM', 'AGE', 'RAD', 'LSTAT', 'INDUS']\n",
      "time takes for each selection: 2.02 s\n",
      "\n",
      "current feature selected is  10 test rmse is 1.501\n",
      "['RM', 'AGE', 'RAD', 'LSTAT', 'INDUS', 'PTRATIO']\n",
      "time takes for each selection: 1.8 s\n",
      "\n",
      "current feature selected is  11 test rmse is 1.49\n",
      "['RM', 'AGE', 'RAD', 'LSTAT', 'INDUS', 'PTRATIO', 'B']\n",
      "time takes for each selection: 1.58 s\n",
      "\n",
      "current feature selected is  9 test rmse is 1.459\n",
      "['RM', 'AGE', 'RAD', 'LSTAT', 'INDUS', 'PTRATIO', 'B', 'TAX']\n",
      "time takes for each selection: 1.33 s\n",
      "\n",
      "current feature selected is  7 test rmse is 1.511\n",
      "['RM', 'AGE', 'RAD', 'LSTAT', 'INDUS', 'PTRATIO', 'B', 'TAX', 'DIS']\n",
      "time takes for each selection: 1.12 s\n",
      "\n",
      "current feature selected is  0 test rmse is 1.666\n",
      "['RM', 'AGE', 'RAD', 'LSTAT', 'INDUS', 'PTRATIO', 'B', 'TAX', 'DIS', 'CRIM']\n",
      "time takes for each selection: 0.93 s\n",
      "\n",
      "current feature selected is  4 test rmse is 2.175\n",
      "['RM', 'AGE', 'RAD', 'LSTAT', 'INDUS', 'PTRATIO', 'B', 'TAX', 'DIS', 'CRIM', 'NOX']\n",
      "time takes for each selection: 0.71 s\n",
      "\n",
      "current feature selected is  1 test rmse is 2.839\n",
      "['RM', 'AGE', 'RAD', 'LSTAT', 'INDUS', 'PTRATIO', 'B', 'TAX', 'DIS', 'CRIM', 'NOX', 'ZN']\n",
      "time takes for each selection: 0.49 s\n",
      "\n"
     ]
    }
   ],
   "source": [
    "total_num_features = 13\n",
    "num_features_selected = 1\n",
    "track_feature_selected = []\n",
    "track_rmse = []\n",
    "all_feature_names = temp_test.drop(['MEDV', 'predictions'], axis=1).columns\n",
    "feature_selected =[]\n",
    "\n",
    "while num_features_selected != total_num_features:\n",
    "    start = time.time()\n",
    "\n",
    "    curr_feature_names = temp_train.columns\n",
    "    candidate_feature_length = total_num_features - num_features_selected\n",
    "    each_feature_rmse = np.zeros(total_num_features)\n",
    "    \n",
    "    for i in range(total_num_features):\n",
    "        if i not in feature_selected:\n",
    "            test_rmse, test_preds = knn(temp_normalized_train,temp_train['MEDV'],temp_normalized_test,temp_test['MEDV'],\n",
    "                                            L=2, K=6, features = feature_selected + [i], display_time=False)\n",
    "            each_feature_rmse[i] = round(test_rmse, 3)\n",
    "        else:\n",
    "            each_feature_rmse[i] = 100\n",
    "    \n",
    "    curr_feature_selected = np.argmin(each_feature_rmse)\n",
    "    feature_selected.append(curr_feature_selected)    \n",
    "    num_features_selected += 1\n",
    "    track_feature_selected.append(all_feature_names[curr_feature_selected])\n",
    "    track_rmse.append(np.min(each_feature_rmse))\n",
    "    \n",
    "    print(\"current feature selected is \",curr_feature_selected, \"test rmse is\", np.min(each_feature_rmse))\n",
    "    print(track_feature_selected)\n",
    "    print(f\"time takes for each selection: {round(time.time() - start, 2)} s\")\n",
    "    print()"
   ]
  },
  {
   "cell_type": "code",
   "execution_count": 173,
   "metadata": {},
   "outputs": [
    {
     "data": {
      "image/png": "[encoded data removed]",
      "text/plain": [
       "<Figure size 432x288 with 1 Axes>"
      ]
     },
     "metadata": {
      "needs_background": "light"
     },
     "output_type": "display_data"
    }
   ],
   "source": [
    "fig = plt.figure()\n",
    "ax = fig.add_axes([0,0,1,1])\n",
    "langs = track_feature_selected\n",
    "students = track_rmse\n",
    "ax.bar(langs,students)\n",
    "ax.set_xlabel(\"feature names\")\n",
    "ax.set_ylabel(\"RMSE\")\n",
    "plt.show()"
   ]
  }
 ],
 "metadata": {
  "kernelspec": {
   "display_name": "Python 3",
   "language": "python",
   "name": "python3"
  },
  "language_info": {
   "codemirror_mode": {
    "name": "ipython",
    "version": 3
   },
   "file_extension": ".py",
   "mimetype": "text/x-python",
   "name": "python",
   "nbconvert_exporter": "python",
   "pygments_lexer": "ipython3",
   "version": "3.8.5"
  }
 },
 "nbformat": 4,
 "nbformat_minor": 1
}
